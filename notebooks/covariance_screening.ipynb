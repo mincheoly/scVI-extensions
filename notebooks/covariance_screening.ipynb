{
 "cells": [
  {
   "cell_type": "markdown",
   "metadata": {},
   "source": [
    "# TF Complex Screening\n",
    "\n",
    "Covariance screening process."
   ]
  },
  {
   "cell_type": "markdown",
   "metadata": {},
   "source": [
    "### Import"
   ]
  },
  {
   "cell_type": "code",
   "execution_count": 1,
   "metadata": {},
   "outputs": [
    {
     "data": {
      "text/html": [
       "<style>.container { width:100% !important; }</style>"
      ],
      "text/plain": [
       "<IPython.core.display.HTML object>"
      ]
     },
     "metadata": {},
     "output_type": "display_data"
    }
   ],
   "source": [
    "from IPython.core.display import display, HTML\n",
    "import warnings\n",
    "warnings.filterwarnings('ignore')\n",
    "display(HTML(\"<style>.container { width:100% !important; }</style>\"))\n",
    "%matplotlib inline"
   ]
  },
  {
   "cell_type": "code",
   "execution_count": 2,
   "metadata": {},
   "outputs": [],
   "source": [
    "repo_path = '/Users/mincheolkim/Github/'\n",
    "data_path = '/Users/mincheolkim/Documents/'"
   ]
  },
  {
   "cell_type": "code",
   "execution_count": 3,
   "metadata": {},
   "outputs": [],
   "source": [
    "import sys\n",
    "sys.path.append(repo_path + 'scVI')\n",
    "sys.path.append(repo_path + 'scVI-extensions')"
   ]
  },
  {
   "cell_type": "code",
   "execution_count": 4,
   "metadata": {},
   "outputs": [],
   "source": [
    "import statsmodels.api as sm\n",
    "import statsmodels.formula.api as smf\n",
    "from statsmodels.stats.multitest import multipletests\n",
    "import imp\n",
    "import numpy as np\n",
    "import pandas as pd\n",
    "from scipy.stats import pearsonr"
   ]
  },
  {
   "cell_type": "code",
   "execution_count": 5,
   "metadata": {},
   "outputs": [],
   "source": [
    "import matplotlib.pyplot as plt\n",
    "%matplotlib inline"
   ]
  },
  {
   "cell_type": "code",
   "execution_count": 6,
   "metadata": {},
   "outputs": [],
   "source": [
    "import scvi_extensions.dataset.supervised_data_loader as sdl\n",
    "import scvi_extensions.dataset.cropseq as cs\n",
    "import scvi_extensions.inference.supervised_variational_inference as svi\n",
    "import scvi_extensions.hypothesis_testing.mean as mn\n",
    "import scvi_extensions.hypothesis_testing.variance as vr\n",
    "import scvi_extensions.dataset.label_data_loader as ldl"
   ]
  },
  {
   "cell_type": "code",
   "execution_count": 7,
   "metadata": {},
   "outputs": [],
   "source": [
    "import scanpy.api as sc\n",
    "import itertools"
   ]
  },
  {
   "cell_type": "markdown",
   "metadata": {},
   "source": [
    "### Read into scanpy"
   ]
  },
  {
   "cell_type": "code",
   "execution_count": 8,
   "metadata": {},
   "outputs": [],
   "source": [
    "embedded_adata = sc.read('/Users/mincheolkim/Documents/nsnp20.raw.sng.km_vb1_default.pc60.norm.h5ad')"
   ]
  },
  {
   "cell_type": "code",
   "execution_count": 9,
   "metadata": {},
   "outputs": [],
   "source": [
    "embedded_adata.obs['ko_gene_cov'] = embedded_adata.obs['guide_cov'].str.extract(r'^([^.]*).*')"
   ]
  },
  {
   "cell_type": "markdown",
   "metadata": {},
   "source": [
    "### Transcription factors that survived the vargenes cut"
   ]
  },
  {
   "cell_type": "code",
   "execution_count": 192,
   "metadata": {},
   "outputs": [],
   "source": [
    "tfs_considered = list(set(embedded_adata.var.index.tolist()) & set(embedded_adata.obs.ko_gene_cov.tolist()))"
   ]
  },
  {
   "cell_type": "code",
   "execution_count": 193,
   "metadata": {},
   "outputs": [
    {
     "name": "stdout",
     "output_type": "stream",
     "text": [
      "['NCOA3', 'ARID5B', 'GTF2I', 'IRF1', 'ID2', 'FOXP1', 'NCOA4', 'ZFP36L1', 'JUNB', 'XBP1', 'FLI1', 'STAT1', 'IRF2', 'STAT3', 'KLF6', 'MYC', 'SATB1', 'HOPX']\n"
     ]
    }
   ],
   "source": [
    "print(tfs_considered)                                                                                                                                                      "
   ]
  },
  {
   "cell_type": "code",
   "execution_count": 204,
   "metadata": {},
   "outputs": [
    {
     "data": {
      "text/plain": [
       "'DDB2'"
      ]
     },
     "execution_count": 204,
     "metadata": {},
     "output_type": "execute_result"
    }
   ],
   "source": [
    "np.random.choice(embedded_adata.obs.ko_gene_cov.value_counts().index)"
   ]
  },
  {
   "cell_type": "markdown",
   "metadata": {},
   "source": [
    "### Correlation testing for each of these TFs\n",
    "\n",
    "For each TF, find genes that correlate with it."
   ]
  },
  {
   "cell_type": "code",
   "execution_count": 143,
   "metadata": {},
   "outputs": [],
   "source": [
    "f\n",
    "tfs_considered = ['IRF1', 'STAT1', 'STAT3', 'JUNB', 'IRF2']"
   ]
  },
  {
   "cell_type": "code",
   "execution_count": 145,
   "metadata": {},
   "outputs": [
    {
     "name": "stdout",
     "output_type": "stream",
     "text": [
      "IRF1\n",
      "STAT1\n",
      "STAT3\n",
      "JUNB\n",
      "IRF2\n"
     ]
    }
   ],
   "source": [
    "for tf in tfs_considered:\n",
    "    print(tf)"
   ]
  },
  {
   "cell_type": "code",
   "execution_count": 146,
   "metadata": {},
   "outputs": [],
   "source": [
    "hits = {}\n",
    "for tf in tfs_considered:\n",
    "    corrs = []\n",
    "    pvals = []\n",
    "    for gene in embedded_adata.var.index.tolist():\n",
    "        corr, pval = pearsonr(\n",
    "            x=embedded_adata.X[(embedded_adata.obs.guide_cov == \"0\").values, embedded_adata.var.index.tolist().index(tf)],\n",
    "            y=embedded_adata.X[(embedded_adata.obs.guide_cov == \"0\").values, embedded_adata.var.index.tolist().index(gene)])\n",
    "        corrs.append(corr)\n",
    "        pvals.append(pval)\n",
    "    reject, pvals_corrected, _, _ = multipletests(pvals, method='bonferroni')\n",
    "    hits[tf] = embedded_adata.var.index[reject & (np.array(corrs) > 0)].tolist()"
   ]
  },
  {
   "cell_type": "markdown",
   "metadata": {},
   "source": [
    "### For each TF pair, find the genes that they both are correlated with"
   ]
  },
  {
   "cell_type": "code",
   "execution_count": 147,
   "metadata": {},
   "outputs": [],
   "source": [
    "tf_gene_overlaps = {}\n",
    "tf_gene_overlap_counts = {}"
   ]
  },
  {
   "cell_type": "code",
   "execution_count": 148,
   "metadata": {},
   "outputs": [],
   "source": [
    "for tf1, tf2 in itertools.combinations(hits.keys(), 2):\n",
    "    overlap = set(hits[tf1]) & set(hits[tf2])4rbnm,ec\\\n",
    "    if len(overlap) > 0:\n",
    "        tf_gene_overlaps[tf1 + '_' + tf2] = overlap\n",
    "        tf_gene_overlap_counts[tf1 + '_' + tf2] = len(overlap)"
   ]
  },
  {
   "cell_type": "code",
   "execution_count": 149,
   "metadata": {},
   "outputs": [
    {
     "data": {
      "text/plain": [
       "{'IRF1_STAT1': 71,\n",
       " 'IRF1_STAT3': 46,\n",
       " 'IRF1_JUNB': 47,\n",
       " 'IRF1_IRF2': 10,\n",
       " 'STAT1_STAT3': 19,\n",
       " 'STAT1_JUNB': 13,\n",
       " 'STAT1_IRF2': 19,\n",
       " 'STAT3_JUNB': 35,\n",
       " 'STAT3_IRF2': 2}"
      ]
     },
     "execution_count": 149,
     "metadata": {},
     "output_type": "execute_result"
    }
   ],
   "source": [
    "tf_gene_overlap_counts"
   ]
  },
  {
   "cell_type": "markdown",
   "metadata": {},
   "source": [
    "### For each TF pair, perform differential correlation analysis with target gene"
   ]
  },
  {
   "cell_type": "code",
   "execution_count": 150,
   "metadata": {},
   "outputs": [],
   "source": [
    "def differential_correlation(g1, g2, label_1, label_2, label_col='ko_gene_cov'):\n",
    "    corr_1, pval_1 = correlation(g1, g2, label_1, label_col)\n",
    "    corr_2, pval_2 = correlation(g1, g2, label_2, label_col)\n",
    "    \n",
    "    n_1 = (embedded_adata.obs[label_col] == label_1).sum()\n",
    "    n_2 = (embedded_adata.obs[label_col] == label_2).sum()\n",
    "    \n",
    "    return (np.arctanh(corr_1) - np.arctanh(corr_2))/(np.sqrt(np.absolute((1/n_1) - (1/n_2))))"
   ]
  },
  {
   "cell_type": "code",
   "execution_count": 151,
   "metadata": {},
   "outputs": [],
   "source": [
    "def correlation(g1, g2, label, label_col='ko_gene_cov'):\n",
    "    return pearsonr(\n",
    "        x=embedded_adata.X[(embedded_adata.obs[label_col] == label).values, embedded_adata.var.index.tolist().index(g1)],\n",
    "        y=embedded_adata.X[(embedded_adata.obs[label_col] == label).values, embedded_adata.var.index.tolist().index(g2)])"
   ]
  },
  {
   "cell_type": "code",
   "execution_count": 152,
   "metadata": {},
   "outputs": [],
   "source": [
    "all_stats = {}\n",
    "for pair, genes in tf_gene_overlaps.items():\n",
    "    genes = tf_gene_overlaps[pair]\n",
    "    tf1, tf2 = pair.split('_')\n",
    "    all_stats[pair] = {}\n",
    "    for gene in genes:\n",
    "        if gene == tf1 or gene == tf2:\n",
    "            continue\n",
    "        all_stats[pair][gene] = (\n",
    "            differential_correlation(gene, tf2, '0', tf1),\n",
    "            differential_correlation(gene, tf1, '0', tf2))"
   ]
  },
  {
   "cell_type": "markdown",
   "metadata": {},
   "source": [
    "### Generate null set of test statistics by shuffling labels"
   ]
  },
  {
   "cell_type": "code",
   "execution_count": 153,
   "metadata": {},
   "outputs": [],
   "source": [
    "embedded_adata.obs['shuffled_ko_gene_cov'] = embedded_adata.obs['ko_gene_cov'].values[np.random.permutation(len(embedded_adata.obs))]"
   ]
  },
  {
   "cell_type": "code",
   "execution_count": 217,
   "metadata": {},
   "outputs": [],
   "source": [
    "null_stats = []\n",
    "for pair, genes in tf_gene_overlaps.items():\n",
    "    genes = tf_gene_overlaps[pair]\n",
    "    tf1, tf2 = pair.split('_')\n",
    "    for gene in genes:\n",
    "        null_stats.append(differential_correlation(gene, tf2, '0', tf1, label_col='shuffled_ko_gene_cov'))\n",
    "        null_stats.append(differential_correlation(gene, tf1, '0', tf2, label_col='shuffled_ko_gene_cov'))\n",
    "null_stats = np.array(null_stats)"
   ]
  },
  {
   "cell_type": "code",
   "execution_count": 224,
   "metadata": {},
   "outputs": [],
   "source": [
    "final_pval_cutoff = 0.2"
   ]
  },
  {
   "cell_type": "code",
   "execution_count": 225,
   "metadata": {},
   "outputs": [],
   "source": [
    "cutoff_stat = np.sort(null_stats)[-1*int(np.round(len(null_stats)*final_pval_cutoff))]"
   ]
  },
  {
   "cell_type": "code",
   "execution_count": 226,
   "metadata": {},
   "outputs": [
    {
     "data": {
      "text/plain": [
       "0.9925583274065771"
      ]
     },
     "execution_count": 226,
     "metadata": {},
     "output_type": "execute_result"
    }
   ],
   "source": [
    "cutoff_stat"
   ]
  },
  {
   "cell_type": "markdown",
   "metadata": {},
   "source": [
    "### For each TF pair, keep the genes that are regulated by their complex"
   ]
  },
  {
   "cell_type": "code",
   "execution_count": 227,
   "metadata": {},
   "outputs": [],
   "source": [
    "def emp_pval(val, null_vals):\n",
    "    return (null_stats > val).mean()"
   ]
  },
  {
   "cell_type": "code",
   "execution_count": 228,
   "metadata": {},
   "outputs": [],
   "source": [
    "complex_regulators = {}\n",
    "for pair, gene_stats in all_stats.items():\n",
    "    for gene, stats in gene_stats.items():\n",
    "        s1, s2 = stats\n",
    "        if s1 < 0 or s2 < 0:\n",
    "            continue\n",
    "        pval_1 = emp_pval(s1, null_stats)\n",
    "        pval_2 = emp_pval(s2, null_stats)\n",
    "        if pval_1 < final_pval_cutoff and pval_2 < final_pval_cutoff:\n",
    "            if pair not in complex_regulators.keys():\n",
    "                complex_regulators[pair] = []\n",
    "            complex_regulators[pair].append(gene)"
   ]
  },
  {
   "cell_type": "code",
   "execution_count": 229,
   "metadata": {},
   "outputs": [
    {
     "data": {
      "text/plain": [
       "{'IRF1_STAT1': ['RPS27', 'FHIT', 'RPL27A'],\n",
       " 'IRF1_STAT3': ['CD27',\n",
       "  'CD7',\n",
       "  'RPL10',\n",
       "  'MIR142',\n",
       "  'HLA-A',\n",
       "  'S100A11',\n",
       "  'RPS26',\n",
       "  'RPL32',\n",
       "  'RPL18A',\n",
       "  'RPS14',\n",
       "  'S100A4',\n",
       "  'RPL27A',\n",
       "  'RPS29'],\n",
       " 'IRF1_JUNB': ['EEF2', 'GNB2L1', 'RPL10', 'RPL32', 'RPS14', 'CORO1B', 'BIN1'],\n",
       " 'STAT1_STAT3': ['HLA-A', 'RPL11'],\n",
       " 'STAT1_JUNB': ['RPL32', 'STAT3'],\n",
       " 'STAT1_IRF2': ['TNFSF13B'],\n",
       " 'STAT3_JUNB': ['RPL10']}"
      ]
     },
     "execution_count": 229,
     "metadata": {},
     "output_type": "execute_result"
    }
   ],
   "source": [
    "complex_regulators"
   ]
  }
 ],
 "metadata": {
  "kernelspec": {
   "display_name": "Python [conda env:scvi]",
   "language": "python",
   "name": "conda-env-scvi-py"
  },
  "language_info": {
   "codemirror_mode": {
    "name": "ipython",
    "version": 3
   },
   "file_extension": ".py",
   "mimetype": "text/x-python",
   "name": "python",
   "nbconvert_exporter": "python",
   "pygments_lexer": "ipython3",
   "version": "3.6.5"
  }
 },
 "nbformat": 4,
 "nbformat_minor": 2
}
