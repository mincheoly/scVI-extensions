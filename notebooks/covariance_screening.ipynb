{
 "cells": [
  {
   "cell_type": "markdown",
   "metadata": {},
   "source": [
    "# TF Complex Screening\n",
    "\n",
    "Covariance screening process.\n",
    "\n",
    "The process involves:\n",
    "    - Correlation testing with every other gene\n",
    "    - Find potential gene-TF1-TF2 trios by finding overlaps of genes\n",
    "    - Conditional independence testing (for every level of gene, are TF1 and TF2 independent?)\n",
    "    - Causal inference (direction of arrows), for TF1-KO, does the correlation betwen TF1 and G decrease?\n",
    "    - Mediation test, for TF1-KO, does the correlation between TF2 and G decrease?\n",
    "    - If all of the tests pass, we retain it for our final graph."
   ]
  },
  {
   "cell_type": "markdown",
   "metadata": {},
   "source": [
    "### Import"
   ]
  },
  {
   "cell_type": "code",
   "execution_count": 20,
   "metadata": {},
   "outputs": [
    {
     "data": {
      "text/html": [
       "<style>.container { width:100% !important; }</style>"
      ],
      "text/plain": [
       "<IPython.core.display.HTML object>"
      ]
     },
     "metadata": {},
     "output_type": "display_data"
    }
   ],
   "source": [
    "from IPython.core.display import display, HTML\n",
    "import warnings\n",
    "warnings.filterwarnings('ignore')\n",
    "display(HTML(\"<style>.container { width:100% !important; }</style>\"))\n",
    "%matplotlib inline"
   ]
  },
  {
   "cell_type": "code",
   "execution_count": 21,
   "metadata": {},
   "outputs": [],
   "source": [
    "repo_path = '/Users/mincheolkim/Github/'\n",
    "data_path = '/Users/mincheolkim/Documents/'"
   ]
  },
  {
   "cell_type": "code",
   "execution_count": 22,
   "metadata": {},
   "outputs": [],
   "source": [
    "import sys\n",
    "sys.path.append(repo_path + 'scVI')\n",
    "sys.path.append(repo_path + 'scVI-extensions')"
   ]
  },
  {
   "cell_type": "code",
   "execution_count": 23,
   "metadata": {},
   "outputs": [],
   "source": [
    "import statsmodels.api as sm\n",
    "import statsmodels.formula.api as smf\n",
    "from statsmodels.stats.multitest import multipletests\n",
    "import imp\n",
    "import numpy as np\n",
    "import pandas as pd\n",
    "from scipy.stats import pearsonr, spearmanr\n",
    "import seaborn as sns\n",
    "import pickle as pkl\n",
    "import networkx as nx"
   ]
  },
  {
   "cell_type": "code",
   "execution_count": 24,
   "metadata": {},
   "outputs": [],
   "source": [
    "import matplotlib.pyplot as plt\n",
    "%matplotlib inline"
   ]
  },
  {
   "cell_type": "code",
   "execution_count": 25,
   "metadata": {},
   "outputs": [],
   "source": [
    "import scvi_extensions.dataset.supervised_data_loader as sdl\n",
    "import scvi_extensions.dataset.cropseq as cs\n",
    "import scvi_extensions.inference.supervised_variational_inference as svi\n",
    "import scvi_extensions.hypothesis_testing.mean as mn\n",
    "import scvi_extensions.hypothesis_testing.variance as vr\n",
    "import scvi_extensions.dataset.label_data_loader as ldl"
   ]
  },
  {
   "cell_type": "code",
   "execution_count": 27,
   "metadata": {},
   "outputs": [],
   "source": [
    "import scanpy.api as sc\n",
    "import itertools\n",
    "%matplotlib inline"
   ]
  },
  {
   "cell_type": "code",
   "execution_count": 65,
   "metadata": {},
   "outputs": [],
   "source": [
    "\"\"\"\n",
    "\tprocess.py\n",
    "\tThis file contains the high level calls for the steps in the TF interaction analysis.\n",
    "\"\"\"\n",
    "\n",
    "def extract_ko_gene(adata, guide_cov='guide_cov'):\n",
    "\t\"\"\" Given an anndata object, extract the KO target gene from the guide. \"\"\"\n",
    "\n",
    "\tadata.obs['ko_gene_cov'] = adata.obs[guide_cov].str.extract(r'^([^.]*).*')\n",
    "\n",
    "\n",
    "def filter_gene_list(adata, guide_de_fname, min_count=60):\n",
    "\t\"\"\" Filter the gene list by a DE by guide analysis. \"\"\"\n",
    "\n",
    "\t# Identify transcription factors that were knocked out.\n",
    "\t# These are included automatically, as long as they were in the original 3k vargene list.\n",
    "\tguide_de_df = pd.read_csv(guide_de_fname, sep='\\t')\n",
    "\ttfs = set(guide_de_df['cluster'].str.extract(r'^([^.]*).*').iloc[:,0].unique().tolist())\n",
    "\ttfs &= set(adata.var.index.tolist())\n",
    "\ttfs = list(tfs)\n",
    "\tprint('Number of eligible TFs:', len(tfs))\n",
    "\n",
    "\t# Get a list of genes that are differentially expressed in many of the guides.\n",
    "\tcounts = guide_de_df.gene.value_counts()\n",
    "\tde_genes = counts[counts > 60].index.tolist()\n",
    "\n",
    "\t# Filter the annotated data object\n",
    "\tall_genes = de_genes + tfs\n",
    "\tadata._inplace_subset_var(all_genes)\n",
    "\tembedded_adata.var_names_make_unique()"
   ]
  },
  {
   "cell_type": "markdown",
   "metadata": {},
   "source": [
    "### Define my TFs"
   ]
  },
  {
   "cell_type": "code",
   "execution_count": 28,
   "metadata": {},
   "outputs": [],
   "source": [
    "tfs_considered = ['IRF1', 'JUN', 'JUNB', 'MYC', 'NFKBIA', 'SMAD2', 'SP1', 'STAT1', 'STAT3', 'STAT5A', 'STAT6']"
   ]
  },
  {
   "cell_type": "markdown",
   "metadata": {},
   "source": [
    "### Read into scanpy\n",
    "\n",
    "Filter genes to the DE genes identified above."
   ]
  },
  {
   "cell_type": "code",
   "execution_count": 29,
   "metadata": {},
   "outputs": [],
   "source": [
    "embedded_adata = sc.read('/Users/mincheolkim/Documents/nsnp20.raw.sng.guide_sng.norm.h5ad')"
   ]
  },
  {
   "cell_type": "code",
   "execution_count": 30,
   "metadata": {},
   "outputs": [],
   "source": [
    "embedded_adata.obs['ko_gene_cov'] = embedded_adata.obs['guide_cov'].str.extract(r'^([^.]*).*')"
   ]
  },
  {
   "cell_type": "code",
   "execution_count": 32,
   "metadata": {},
   "outputs": [
    {
     "data": {
      "text/plain": [
       "AnnData object with n_obs × n_vars = 258946 × 3276 \n",
       "    obs: 'guide_cov', 'donor_cov', 'well_cov', 'numi_cov', 'multiplet_cov', 'nsnp_cov', 'percent_mito', 'n_counts', 'louvain', 'ko_gene_cov'\n",
       "    var: 'gene_ids', 'n_counts'\n",
       "    uns: 'louvain', 'neighbors', 'pca'\n",
       "    obsm: 'X_pca', 'X_umap', 'X_tsne'\n",
       "    varm: 'PCs'"
      ]
     },
     "execution_count": 32,
     "metadata": {},
     "output_type": "execute_result"
    }
   ],
   "source": [
    "embedded_adata"
   ]
  },
  {
   "cell_type": "markdown",
   "metadata": {},
   "source": [
    "### Read in DE genes and filter the gene list in annotated data"
   ]
  },
  {
   "cell_type": "code",
   "execution_count": 62,
   "metadata": {},
   "outputs": [],
   "source": [
    "de_filename = '/Users/mincheolkim/Documents/nsnp20.raw.sng.guide_sng.norm.vs0.igtb.guide.de.seurate.txt.meta.guide.meta.sig.txt'"
   ]
  },
  {
   "cell_type": "code",
   "execution_count": 66,
   "metadata": {},
   "outputs": [
    {
     "name": "stdout",
     "output_type": "stream",
     "text": [
      "Number of eligible TFs: 38\n",
      "Variable names are not unique. To make them unique, call `.var_names_make_unique`.\n",
      "Variable names are not unique. To make them unique, call `.var_names_make_unique`.\n"
     ]
    }
   ],
   "source": [
    "filter_gene_list(embedded_adata, de_filename)"
   ]
  },
  {
   "cell_type": "markdown",
   "metadata": {},
   "source": [
    "### Transcription factors"
   ]
  },
  {
   "cell_type": "code",
   "execution_count": 24,
   "metadata": {},
   "outputs": [
    {
     "name": "stdout",
     "output_type": "stream",
     "text": [
      "IRF1\n",
      "JUN\n",
      "JUNB\n",
      "MYC\n",
      "NFKBIA\n",
      "SMAD2\n",
      "SP1\n",
      "STAT1\n",
      "STAT3\n",
      "STAT5A\n",
      "STAT6\n"
     ]
    }
   ],
   "source": [
    "for tf in tfs_considered:\n",
    "    print(tf)"
   ]
  },
  {
   "cell_type": "markdown",
   "metadata": {},
   "source": [
    "### Read known interactions from String DB\n",
    "\n",
    "I put in the list of TFs above, and got the interaction map. From the interaction map, I only retain those with experimentally determined interaction."
   ]
  },
  {
   "cell_type": "code",
   "execution_count": 25,
   "metadata": {},
   "outputs": [],
   "source": [
    "known_interactions = pd.read_csv('/Users/mincheolkim/Documents/string_interactions (1).tsv', sep='\\t')\\\n",
    "    .query('experimentally_determined_interaction > 0')"
   ]
  },
  {
   "cell_type": "code",
   "execution_count": 26,
   "metadata": {},
   "outputs": [],
   "source": [
    "edge_set = set()\n",
    "truth_graph = nx.Graph()\n",
    "for idx, row in known_interactions.iterrows():\n",
    "    tf1, tf2 = sorted([row['#node1'], row['node2']])\n",
    "    truth_graph.add_edge(tf1, tf2)\n",
    "    edge_set.add(tf1 + '_' + tf2)"
   ]
  },
  {
   "cell_type": "markdown",
   "metadata": {},
   "source": [
    "### Correlation testing for each of these TFs\n",
    "\n",
    "For each TF, find genes that correlate with it."
   ]
  },
  {
   "cell_type": "code",
   "execution_count": 27,
   "metadata": {},
   "outputs": [
    {
     "name": "stdout",
     "output_type": "stream",
     "text": [
      "Getting correlated genes for IRF1..\n",
      "Getting correlated genes for JUN..\n",
      "Getting correlated genes for JUNB..\n",
      "Getting correlated genes for MYC..\n",
      "Getting correlated genes for NFKBIA..\n",
      "Getting correlated genes for SMAD2..\n",
      "Getting correlated genes for SP1..\n",
      "Getting correlated genes for STAT1..\n",
      "Getting correlated genes for STAT3..\n",
      "Getting correlated genes for STAT5A..\n",
      "Getting correlated genes for STAT6..\n"
     ]
    }
   ],
   "source": [
    "hits = {}\n",
    "count = 0\n",
    "for tf in tfs_considered:\n",
    "    print('Getting correlated genes for {}..'.format(tf))\n",
    "    corrs = []\n",
    "    pvals = []\n",
    "    for gene in embedded_adata.var.index.tolist():\n",
    "        corr, pval = spearmanr(\n",
    "            embedded_adata.X[(embedded_adata.obs.guide_cov == \"0\").values, embedded_adata.var.index.tolist().index(tf)],\n",
    "            embedded_adata.X[(embedded_adata.obs.guide_cov == \"0\").values, embedded_adata.var.index.tolist().index(gene)])\n",
    "        corrs.append(corr)\n",
    "        pvals.append(pval)\n",
    "    hits[tf] = embedded_adata.var.index[(np.array(pvals) < 0.05/(len(tfs_considered)*embedded_adata.shape[1])) & (np.array(corrs) > 0)].tolist()"
   ]
  },
  {
   "cell_type": "code",
   "execution_count": 28,
   "metadata": {},
   "outputs": [
    {
     "name": "stdout",
     "output_type": "stream",
     "text": [
      "IRF1 717\n",
      "JUN 886\n",
      "JUNB 686\n",
      "MYC 467\n",
      "NFKBIA 509\n",
      "SMAD2 477\n",
      "SP1 450\n",
      "STAT1 541\n",
      "STAT3 773\n",
      "STAT5A 725\n",
      "STAT6 678\n"
     ]
    }
   ],
   "source": [
    "for tf, genes in hits.items():\n",
    "    print(tf, len(genes))"
   ]
  },
  {
   "cell_type": "markdown",
   "metadata": {},
   "source": [
    "### Get direction of the correlation by using KO information"
   ]
  },
  {
   "cell_type": "code",
   "execution_count": 29,
   "metadata": {},
   "outputs": [
    {
     "name": "stdout",
     "output_type": "stream",
     "text": [
      "Getting correlated genes for IRF1..\n",
      "Getting correlated genes for JUN..\n",
      "Getting correlated genes for JUNB..\n",
      "Getting correlated genes for MYC..\n",
      "Getting correlated genes for NFKBIA..\n",
      "Getting correlated genes for SMAD2..\n",
      "Getting correlated genes for SP1..\n",
      "Getting correlated genes for STAT1..\n",
      "Getting correlated genes for STAT3..\n",
      "Getting correlated genes for STAT5A..\n",
      "Getting correlated genes for STAT6..\n"
     ]
    }
   ],
   "source": [
    "directed_hits = {}\n",
    "for tf in tfs_considered:\n",
    "    directed_hits[tf] = []\n",
    "    print('Getting correlated genes for {}..'.format(tf))\n",
    "    for gene in hits[tf]:\n",
    "        corr, pval = spearmanr(\n",
    "            embedded_adata.X[(embedded_adata.obs.ko_gene_cov == tf).values, embedded_adata.var.index.tolist().index(tf)],\n",
    "            embedded_adata.X[(embedded_adata.obs.ko_gene_cov == tf).values, embedded_adata.var.index.tolist().index(gene)])\n",
    "        if pval > 0.05/(len(tfs_considered)*embedded_adata.shape[1]):\n",
    "            directed_hits[tf].append(gene)"
   ]
  },
  {
   "cell_type": "code",
   "execution_count": 30,
   "metadata": {},
   "outputs": [
    {
     "name": "stdout",
     "output_type": "stream",
     "text": [
      "IRF1 116\n",
      "JUN 42\n",
      "JUNB 49\n",
      "MYC 316\n",
      "NFKBIA 127\n",
      "SMAD2 38\n",
      "SP1 155\n",
      "STAT1 140\n",
      "STAT3 80\n",
      "STAT5A 42\n",
      "STAT6 115\n"
     ]
    }
   ],
   "source": [
    "for tf, genes in directed_hits.items():\n",
    "    print(tf, len(genes))"
   ]
  },
  {
   "cell_type": "markdown",
   "metadata": {},
   "source": [
    "### For each TF pair, find the genes that they both are correlated with"
   ]
  },
  {
   "cell_type": "code",
   "execution_count": 31,
   "metadata": {},
   "outputs": [],
   "source": [
    "tf_gene_overlaps = {}\n",
    "tf_gene_overlap_counts = {}"
   ]
  },
  {
   "cell_type": "code",
   "execution_count": 32,
   "metadata": {},
   "outputs": [],
   "source": [
    "for tf1, tf2 in itertools.combinations(sorted(directed_hits.keys()), 2):\n",
    "    overlap = set(directed_hits[tf1]) & set(directed_hits[tf2])\n",
    "    if len(overlap) > 0:\n",
    "        tf_gene_overlaps[tf1 + '_' + tf2] = overlap\n",
    "        tf_gene_overlap_counts[tf1 + '_' + tf2] = len(overlap)"
   ]
  },
  {
   "cell_type": "code",
   "execution_count": 33,
   "metadata": {},
   "outputs": [
    {
     "data": {
      "text/plain": [
       "{'IRF1_JUN': 21,\n",
       " 'IRF1_JUNB': 32,\n",
       " 'IRF1_MYC': 34,\n",
       " 'IRF1_NFKBIA': 14,\n",
       " 'IRF1_SMAD2': 4,\n",
       " 'IRF1_SP1': 27,\n",
       " 'IRF1_STAT1': 6,\n",
       " 'IRF1_STAT3': 46,\n",
       " 'IRF1_STAT5A': 19,\n",
       " 'IRF1_STAT6': 45,\n",
       " 'JUN_JUNB': 18,\n",
       " 'JUN_MYC': 4,\n",
       " 'JUN_NFKBIA': 8,\n",
       " 'JUN_SMAD2': 2,\n",
       " 'JUN_SP1': 2,\n",
       " 'JUN_STAT1': 3,\n",
       " 'JUN_STAT3': 17,\n",
       " 'JUN_STAT5A': 15,\n",
       " 'JUN_STAT6': 14,\n",
       " 'JUNB_MYC': 11,\n",
       " 'JUNB_NFKBIA': 8,\n",
       " 'JUNB_SMAD2': 2,\n",
       " 'JUNB_SP1': 3,\n",
       " 'JUNB_STAT1': 3,\n",
       " 'JUNB_STAT3': 23,\n",
       " 'JUNB_STAT5A': 19,\n",
       " 'JUNB_STAT6': 25,\n",
       " 'MYC_NFKBIA': 65,\n",
       " 'MYC_SMAD2': 25,\n",
       " 'MYC_SP1': 75,\n",
       " 'MYC_STAT1': 97,\n",
       " 'MYC_STAT3': 23,\n",
       " 'MYC_STAT5A': 15,\n",
       " 'MYC_STAT6': 19,\n",
       " 'NFKBIA_SMAD2': 10,\n",
       " 'NFKBIA_SP1': 28,\n",
       " 'NFKBIA_STAT1': 47,\n",
       " 'NFKBIA_STAT3': 13,\n",
       " 'NFKBIA_STAT5A': 4,\n",
       " 'NFKBIA_STAT6': 13,\n",
       " 'SMAD2_SP1': 18,\n",
       " 'SMAD2_STAT1': 10,\n",
       " 'SMAD2_STAT3': 5,\n",
       " 'SMAD2_STAT5A': 1,\n",
       " 'SMAD2_STAT6': 9,\n",
       " 'SP1_STAT1': 24,\n",
       " 'SP1_STAT3': 10,\n",
       " 'SP1_STAT5A': 5,\n",
       " 'SP1_STAT6': 20,\n",
       " 'STAT1_STAT3': 6,\n",
       " 'STAT1_STAT5A': 5,\n",
       " 'STAT1_STAT6': 7,\n",
       " 'STAT3_STAT5A': 11,\n",
       " 'STAT3_STAT6': 39,\n",
       " 'STAT5A_STAT6': 10}"
      ]
     },
     "execution_count": 33,
     "metadata": {},
     "output_type": "execute_result"
    }
   ],
   "source": [
    "tf_gene_overlap_counts"
   ]
  },
  {
   "cell_type": "markdown",
   "metadata": {},
   "source": [
    "### For each TF pair, perform differential correlation analysis with target gene"
   ]
  },
  {
   "cell_type": "code",
   "execution_count": 34,
   "metadata": {},
   "outputs": [],
   "source": [
    "def correlation(g1, g2, label, label_col='ko_gene_cov'):\n",
    "    return spearmanr(\n",
    "        embedded_adata.X[(embedded_adata.obs[label_col] == label).values, embedded_adata.var.index.tolist().index(g1)],\n",
    "        embedded_adata.X[(embedded_adata.obs[label_col] == label).values, embedded_adata.var.index.tolist().index(g2)])"
   ]
  },
  {
   "cell_type": "code",
   "execution_count": 35,
   "metadata": {},
   "outputs": [],
   "source": [
    "def differential_correlation(g1, g2, label_1, label_2, label_col='ko_gene_cov'):\n",
    "    corr_1, pval_1 = correlation(g1, g2, label_1, label_col)\n",
    "    corr_2, pval_2 = correlation(g1, g2, label_2, label_col)\n",
    "    \n",
    "    n_1 = (embedded_adata.obs[label_col] == label_1).sum()\n",
    "    n_2 = (embedded_adata.obs[label_col] == label_2).sum()\n",
    "    \n",
    "    return (np.arctanh(corr_1) - np.arctanh(corr_2))/(np.sqrt(np.absolute((1/n_1) - (1/n_2))))"
   ]
  },
  {
   "cell_type": "code",
   "execution_count": 36,
   "metadata": {},
   "outputs": [],
   "source": [
    "all_stats = {}\n",
    "for pair, genes in tf_gene_overlaps.items():\n",
    "    genes = tf_gene_overlaps[pair]\n",
    "    tf1, tf2 = pair.split('_')\n",
    "    all_stats[pair] = {}\n",
    "    for gene in genes:\n",
    "        if gene == tf1 or gene == tf2:\n",
    "            continue\n",
    "        all_stats[pair][gene] = (\n",
    "            differential_correlation(gene, tf2, '0', tf1),\n",
    "            differential_correlation(gene, tf1, '0', tf2))"
   ]
  },
  {
   "cell_type": "markdown",
   "metadata": {},
   "source": [
    "### Generate null distribution"
   ]
  },
  {
   "cell_type": "code",
   "execution_count": 37,
   "metadata": {},
   "outputs": [],
   "source": [
    "embedded_adata.obs['shuffled_ko_gene_cov'] = embedded_adata.obs['ko_gene_cov'].values[np.random.permutation(len(embedded_adata.obs))]"
   ]
  },
  {
   "cell_type": "code",
   "execution_count": 38,
   "metadata": {},
   "outputs": [],
   "source": [
    "null_stats = []\n",
    "for pair, genes in tf_gene_overlaps.items():\n",
    "    genes = tf_gene_overlaps[pair]\n",
    "    tf1, tf2 = pair.split('_')\n",
    "    for gene in genes:\n",
    "        null_stats.append(differential_correlation(gene, tf2, '0', tf1, label_col='shuffled_ko_gene_cov'))\n",
    "        null_stats.append(differential_correlation(gene, tf1, '0', tf2, label_col='shuffled_ko_gene_cov'))\n",
    "null_stats = np.array(null_stats)"
   ]
  },
  {
   "cell_type": "markdown",
   "metadata": {},
   "source": [
    "### For each TF pair, keep the genes that are regulated by their complex"
   ]
  },
  {
   "cell_type": "code",
   "execution_count": 159,
   "metadata": {},
   "outputs": [
    {
     "data": {
      "text/plain": [
       "2078"
      ]
     },
     "execution_count": 159,
     "metadata": {},
     "output_type": "execute_result"
    }
   ],
   "source": [
    "len(null_stats)"
   ]
  },
  {
   "cell_type": "code",
   "execution_count": 161,
   "metadata": {},
   "outputs": [
    {
     "data": {
      "text/plain": [
       "0.00048123195380173246"
      ]
     },
     "execution_count": 161,
     "metadata": {},
     "output_type": "execute_result"
    }
   ],
   "source": [
    "1/2078"
   ]
  },
  {
   "cell_type": "code",
   "execution_count": 67,
   "metadata": {},
   "outputs": [
    {
     "data": {
      "text/plain": [
       "(array([ 29.,  99., 239., 417., 477., 422., 273.,  97.,  22.,   3.]),\n",
       " array([-3.42126031, -2.69093928, -1.96061824, -1.23029721, -0.49997618,\n",
       "         0.23034485,  0.96066589,  1.69098692,  2.42130795,  3.15162899,\n",
       "         3.88195002]),\n",
       " <a list of 10 Patch objects>)"
      ]
     },
     "execution_count": 67,
     "metadata": {},
     "output_type": "execute_result"
    },
    {
     "data": {
      "image/png": "[encoded data removed]",
      "text/plain": [
       "<Figure size 432x288 with 1 Axes>"
      ]
     },
     "metadata": {},
     "output_type": "display_data"
    }
   ],
   "source": [
    "plt.hist(null_stats)"
   ]
  },
  {
   "cell_type": "code",
   "execution_count": 39,
   "metadata": {},
   "outputs": [],
   "source": [
    "# Count tests\n",
    "num_tests = 0\n",
    "for pair, gene_list in all_stats.items():\n",
    "    num_tests += len(gene_list)"
   ]
  },
  {
   "cell_type": "code",
   "execution_count": 69,
   "metadata": {},
   "outputs": [
    {
     "data": {
      "text/plain": [
       "1039"
      ]
     },
     "execution_count": 69,
     "metadata": {},
     "output_type": "execute_result"
    }
   ],
   "source": [
    "num_tests"
   ]
  },
  {
   "cell_type": "code",
   "execution_count": 93,
   "metadata": {},
   "outputs": [],
   "source": [
    "pval_cutoff = 0.05/num_tests"
   ]
  },
  {
   "cell_type": "code",
   "execution_count": 94,
   "metadata": {},
   "outputs": [],
   "source": [
    "def emp_pval(val, null_stats):\n",
    "    return (null_stats >= val).mean()"
   ]
  },
  {
   "cell_type": "code",
   "execution_count": 86,
   "metadata": {},
   "outputs": [],
   "source": [
    "complex_regulators = {}\n",
    "for pair, gene_stats in all_stats.items():\n",
    "    for gene, stats in gene_stats.items():\n",
    "        s1, s2 = stats\n",
    "        if s1 < 0 or s2 < 0:\n",
    "            continue\n",
    "        pval_1 = emp_pval(s1, null_stats)\n",
    "        pval_2 = emp_pval(s2, null_stats)\n",
    "        if pval_1 < pval_cutoff and pval_2 < pval_cutoff:\n",
    "            if pair not in complex_regulators.keys():\n",
    "                complex_regulators[pair] = []\n",
    "            complex_regulators[pair].append(gene)"
   ]
  },
  {
   "cell_type": "code",
   "execution_count": 87,
   "metadata": {},
   "outputs": [],
   "source": [
    "G = nx.Graph()\n",
    "for pair in complex_regulators.keys():\n",
    "    tf1, tf2 = pair.split('_')\n",
    "    G.add_edge(tf1, tf2, weight=len(complex_regulators[pair]), color='b' if pair in edge_set else 'y')"
   ]
  },
  {
   "cell_type": "code",
   "execution_count": 88,
   "metadata": {},
   "outputs": [],
   "source": [
    "pos = nx.circular_layout(truth_graph)"
   ]
  },
  {
   "cell_type": "code",
   "execution_count": 89,
   "metadata": {},
   "outputs": [
    {
     "data": {
      "text/plain": [
       "16"
      ]
     },
     "execution_count": 89,
     "metadata": {},
     "output_type": "execute_result"
    }
   ],
   "source": [
    "len(G.edges)"
   ]
  },
  {
   "cell_type": "code",
   "execution_count": 91,
   "metadata": {},
   "outputs": [
    {
     "data": {
      "text/plain": [
       "55.0"
      ]
     },
     "execution_count": 91,
     "metadata": {},
     "output_type": "execute_result"
    }
   ],
   "source": [
    "(11*10)/2"
   ]
  },
  {
   "cell_type": "code",
   "execution_count": 92,
   "metadata": {},
   "outputs": [
    {
     "data": {
      "text/plain": [
       "Text(0.5,1,'Predicted interactions')"
      ]
     },
     "execution_count": 92,
     "metadata": {},
     "output_type": "execute_result"
    },
    {
     "data": {
      "image/png": "[encoded data removed]",
      "text/plain": [
       "<Figure size 720x720 with 1 Axes>"
      ]
     },
     "metadata": {},
     "output_type": "display_data"
    }
   ],
   "source": [
    "plt.figure(figsize=(10, 10))\n",
    "colors = [G[u][v]['color'] for u,v in G.edges]\n",
    "weights = [G[u][v]['weight'] for u,v in G.edges]\n",
    "nx.draw_networkx(G, pos=pos, with_labels=True, node_color='g', node_size=4200, edge_color=colors, width=8, font_color='w', font_size=15);\n",
    "plt.axis('off');\n",
    "plt.title('Predicted interactions', fontsize=20)\n",
    "#plt.savefig('/Users/mincheolkim/Documents/predicted_tf_interaction_map.png')"
   ]
  },
  {
   "cell_type": "markdown",
   "metadata": {},
   "source": [
    "### Shift in distribution graph"
   ]
  },
  {
   "cell_type": "code",
   "execution_count": 130,
   "metadata": {},
   "outputs": [],
   "source": [
    "# calculate correlations in WT cells\n",
    "corrs = np.array([correlation('STAT3', gene, '0', label_col='ko_gene_cov')[0] for gene in hits['STAT3']])\n",
    "ko_corrs = np.array([correlation('STAT3', gene, 'STAT6', label_col='ko_gene_cov')[0] for gene in hits['STAT3']])"
   ]
  },
  {
   "cell_type": "code",
   "execution_count": 131,
   "metadata": {},
   "outputs": [],
   "source": [
    "# calculate correlations in WT cells\n",
    "corrs_2 = np.array([correlation('STAT6', gene, '0', label_col='ko_gene_cov')[0] for gene in hits['STAT6']])\n",
    "ko_corrs_2 = np.array([correlation('STAT6', gene, 'STAT3', label_col='ko_gene_cov')[0] for gene in hits['STAT6']])"
   ]
  },
  {
   "cell_type": "code",
   "execution_count": 168,
   "metadata": {},
   "outputs": [
    {
     "data": {
      "text/plain": [
       "<matplotlib.legend.Legend at 0x1c1da275c0>"
      ]
     },
     "execution_count": 168,
     "metadata": {},
     "output_type": "execute_result"
    },
    {
     "data": {
      "image/png": "[encoded data removed]",
      "text/plain": [
       "<Figure size 1080x216 with 2 Axes>"
      ]
     },
     "metadata": {},
     "output_type": "display_data"
    }
   ],
   "source": [
    "plt.figure(figsize=(15, 3))\n",
    "plt.subplot(1, 2, 1)\n",
    "sns.distplot(corrs, kde=True, bins=40, hist=False, kde_kws={\"shade\": True})\n",
    "sns.distplot(ko_corrs, kde=True, bins=40, hist=False, kde_kws={\"shade\": True})\n",
    "plt.title('Distribution of correlations between STAT3 and other genes')\n",
    "plt.legend(['WT', 'STAT6 KO'])\n",
    "#plt.savefig('/Users/mincheolkim/Documents/correlation_distribution_shift.png')\n",
    "plt.subplot(1, 2, 2)\n",
    "sns.distplot(corrs_2, kde=True, bins=40, hist=False, kde_kws={\"shade\": True})\n",
    "sns.distplot(ko_corrs_2, kde=True, bins=40, hist=False, kde_kws={\"shade\": True})\n",
    "plt.title('Distribution of correlations between STAT6 and other genes')\n",
    "plt.legend(['WT', 'STAT3 KO'])"
   ]
  },
  {
   "cell_type": "markdown",
   "metadata": {},
   "source": [
    "### Boxplot\n",
    "\n",
    "The final gene set whose expression is mututally mediated by STAT3 and STAT6. "
   ]
  },
  {
   "cell_type": "code",
   "execution_count": 171,
   "metadata": {},
   "outputs": [
    {
     "name": "stdout",
     "output_type": "stream",
     "text": [
      "['INTS4', 'ZC3H7B', 'PWP2', 'ARL17A', 'ING5', 'DYNLL2', 'CYB5R1', 'PDXK', 'MTFR1L', 'KDM5C', 'GDI1']\n"
     ]
    }
   ],
   "source": [
    "print(complex_regulators['STAT3_STAT6'])"
   ]
  },
  {
   "cell_type": "code",
   "execution_count": 96,
   "metadata": {},
   "outputs": [],
   "source": [
    "corrs_6 = np.array([correlation('STAT3', gene, '0', label_col='ko_gene_cov')[0] for gene in complex_regulators['STAT3_STAT6']])\n",
    "ko_corrs_6 = np.array([correlation('STAT3', gene, 'STAT6', label_col='ko_gene_cov')[0] for gene in complex_regulators['STAT3_STAT6']])"
   ]
  },
  {
   "cell_type": "code",
   "execution_count": 97,
   "metadata": {},
   "outputs": [],
   "source": [
    "corrs_3 = np.array([correlation('STAT6', gene, '0', label_col='ko_gene_cov')[0] for gene in complex_regulators['STAT3_STAT6']])\n",
    "ko_corrs_3 = np.array([correlation('STAT6', gene, 'STAT3', label_col='ko_gene_cov')[0] for gene in complex_regulators['STAT3_STAT6']])"
   ]
  },
  {
   "cell_type": "code",
   "execution_count": 120,
   "metadata": {},
   "outputs": [],
   "source": [
    "boxplot_df = pd.DataFrame()"
   ]
  },
  {
   "cell_type": "code",
   "execution_count": 172,
   "metadata": {},
   "outputs": [],
   "source": [
    "from scipy.stats import ks_2samp, wilcoxon"
   ]
  },
  {
   "cell_type": "code",
   "execution_count": 173,
   "metadata": {},
   "outputs": [
    {
     "name": "stdout",
     "output_type": "stream",
     "text": [
      "Ks_2sampResult(statistic=0.7272727272727273, pvalue=0.0025221541349046404)\n",
      "WilcoxonResult(statistic=0.0, pvalue=0.0033456181158508813)\n"
     ]
    }
   ],
   "source": [
    "print(ks_2samp(corrs_6, ko_corrs_6))\n",
    "print(wilcoxon(corrs_6, ko_corrs_6))"
   ]
  },
  {
   "cell_type": "code",
   "execution_count": 174,
   "metadata": {},
   "outputs": [
    {
     "name": "stdout",
     "output_type": "stream",
     "text": [
      "Ks_2sampResult(statistic=0.9090909090909091, pvalue=5.901179037670526e-05)\n",
      "WilcoxonResult(statistic=0.0, pvalue=0.0033456181158508813)\n"
     ]
    }
   ],
   "source": [
    "print(ks_2samp(corrs_3, ko_corrs_3))\n",
    "print(wilcoxon(corrs_3, ko_corrs_3))"
   ]
  },
  {
   "cell_type": "code",
   "execution_count": 126,
   "metadata": {},
   "outputs": [],
   "source": [
    "boxplot_df['wt_stat3_gene'] = corrs_6\n",
    "boxplot_df['stat6ko_stat3_gene'] = ko_corrs_6\n",
    "boxplot_df['wt_stat6_gene'] = corrs_3\n",
    "boxplot_df['stat3ko_stat6_gene'] = ko_corrs_3"
   ]
  },
  {
   "cell_type": "code",
   "execution_count": 169,
   "metadata": {},
   "outputs": [
    {
     "data": {
      "text/plain": [
       "<matplotlib.axes._subplots.AxesSubplot at 0x1c1da5d400>"
      ]
     },
     "execution_count": 169,
     "metadata": {},
     "output_type": "execute_result"
    },
    {
     "data": {
      "image/png": "[encoded data removed]",
      "text/plain": [
       "<Figure size 576x360 with 1 Axes>"
      ]
     },
     "metadata": {},
     "output_type": "display_data"
    }
   ],
   "source": [
    "plt.figure(figsize=(8, 5))\n",
    "plt.title('Correlations between STAT3/6 and dependent genes')\n",
    "sns.boxplot(data=boxplot_df)"
   ]
  }
 ],
 "metadata": {
  "kernelspec": {
   "display_name": "Python [conda env:scvi]",
   "language": "python",
   "name": "conda-env-scvi-py"
  },
  "language_info": {
   "codemirror_mode": {
    "name": "ipython",
    "version": 3
   },
   "file_extension": ".py",
   "mimetype": "text/x-python",
   "name": "python",
   "nbconvert_exporter": "python",
   "pygments_lexer": "ipython3",
   "version": "3.6.5"
  }
 },
 "nbformat": 4,
 "nbformat_minor": 2
}
