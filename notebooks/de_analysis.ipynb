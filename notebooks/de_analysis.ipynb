{
 "cells": [
  {
   "cell_type": "markdown",
   "metadata": {},
   "source": [
    "# Differential Expression Analysis\n",
    "\n",
    "Differential Expression Analysis"
   ]
  },
  {
   "cell_type": "markdown",
   "metadata": {},
   "source": [
    "### Imports and setup"
   ]
  },
  {
   "cell_type": "code",
   "execution_count": 2,
   "metadata": {},
   "outputs": [
    {
     "data": {
      "text/html": [
       "<style>.container { width:100% !important; }</style>"
      ],
      "text/plain": [
       "<IPython.core.display.HTML object>"
      ]
     },
     "metadata": {},
     "output_type": "display_data"
    }
   ],
   "source": [
    "from IPython.core.display import display, HTML\n",
    "display(HTML(\"<style>.container { width:100% !important; }</style>\"))"
   ]
  },
  {
   "cell_type": "code",
   "execution_count": 3,
   "metadata": {},
   "outputs": [],
   "source": [
    "repo_path = '/Users/mincheolkim/Github/'\n",
    "data_path = '/Users/mincheolkim/Documents/'"
   ]
  },
  {
   "cell_type": "code",
   "execution_count": 4,
   "metadata": {},
   "outputs": [],
   "source": [
    "import sys\n",
    "sys.path.append(repo_path + 'scVI')\n",
    "sys.path.append(repo_path + 'scVI-extensions')"
   ]
  },
  {
   "cell_type": "code",
   "execution_count": 396,
   "metadata": {},
   "outputs": [],
   "source": [
    "import os\n",
    "\n",
    "import numpy as np\n",
    "from sklearn.manifold import TSNE\n",
    "import matplotlib\n",
    "matplotlib.use('AGG')\n",
    "%matplotlib inline\n",
    "import matplotlib.pyplot as plt\n",
    "import seaborn as sns\n",
    "import pandas as pd\n",
    "import torch\n",
    "import imp\n",
    "\n",
    "from scvi.metrics.clustering import entropy_batch_mixing, get_latent\n",
    "from scvi.models import VAE, SVAEC\n",
    "from scvi.inference import VariationalInference"
   ]
  },
  {
   "cell_type": "code",
   "execution_count": 6,
   "metadata": {},
   "outputs": [],
   "source": [
    "import scvi_extensions.dataset.supervised_data_loader as sdl\n",
    "import scvi_extensions.dataset.cropseq as cs"
   ]
  },
  {
   "cell_type": "markdown",
   "metadata": {},
   "source": [
    "### Load the data"
   ]
  },
  {
   "cell_type": "code",
   "execution_count": 7,
   "metadata": {},
   "outputs": [
    {
     "name": "stdout",
     "output_type": "stream",
     "text": [
      "Preprocessing CROP-seq dataset\n",
      "Number of cells kept after filtering with metadata: 283634\n",
      "Number of cells kept after removing all zero cells: 283634\n",
      "Finished preprocessing CROP-seq dataset\n"
     ]
    }
   ],
   "source": [
    "imp.reload(cs)\n",
    "imp.reload(sdl)\n",
    "# Load the dataset\n",
    "h5_filename = data_path + 'raw_gene_bc_matrices_h5.h5'\n",
    "metadata_filename = data_path + 'nsnp20.raw.sng.km_vb1.norm.meta.txt'\n",
    "gene_dataset = cs.CropseqDataset(\n",
    "    filename=h5_filename,\n",
    "    metadata_filename=metadata_filename,\n",
    "    use_donors=True,\n",
    "    use_labels=True,\n",
    "    save_path='')"
   ]
  },
  {
   "cell_type": "code",
   "execution_count": 8,
   "metadata": {},
   "outputs": [
    {
     "data": {
      "text/plain": [
       "<283634x32738 sparse matrix of type '<class 'numpy.int32'>'\n",
       "\twith 307458195 stored elements in Compressed Sparse Row format>"
      ]
     },
     "execution_count": 8,
     "metadata": {},
     "output_type": "execute_result"
    }
   ],
   "source": [
    "gene_dataset.X"
   ]
  },
  {
   "cell_type": "markdown",
   "metadata": {},
   "source": [
    "### Identify 1000 somewhat variable genes"
   ]
  },
  {
   "cell_type": "code",
   "execution_count": 9,
   "metadata": {},
   "outputs": [],
   "source": [
    "expression = gene_dataset.Xa\n",
    "mean = expression.mean(0)"
   ]
  },
  {
   "cell_type": "code",
   "execution_count": 18,
   "metadata": {},
   "outputs": [],
   "source": [
    "c = expression.copy()\n",
    "c.data **= 2\n",
    "second_moment = c.mean(0)\n",
    "del c"
   ]
  },
  {
   "cell_type": "code",
   "execution_count": 28,
   "metadata": {},
   "outputs": [],
   "source": [
    "variance = second_moment - np.multiply(mean, mean)"
   ]
  },
  {
   "cell_type": "code",
   "execution_count": 44,
   "metadata": {},
   "outputs": [],
   "source": [
    "n_genes = 1000"
   ]
  },
  {
   "cell_type": "code",
   "execution_count": 46,
   "metadata": {},
   "outputs": [],
   "source": [
    "vargene_indices = variance.A1.argsort()[-1*n_genes:][::-1]"
   ]
  },
  {
   "cell_type": "code",
   "execution_count": 48,
   "metadata": {},
   "outputs": [],
   "source": [
    "vargenes = gene_dataset.gene_names[vargene_indices]"
   ]
  },
  {
   "cell_type": "code",
   "execution_count": 52,
   "metadata": {},
   "outputs": [
    {
     "data": {
      "text/plain": [
       "array([13302, 19154, 23794,  4027, 14247, 32702, 30933, 24087, 10709,\n",
       "       32698])"
      ]
     },
     "execution_count": 52,
     "metadata": {},
     "output_type": "execute_result"
    }
   ],
   "source": [
    "vargene_indices[:10]"
   ]
  },
  {
   "cell_type": "code",
   "execution_count": 51,
   "metadata": {},
   "outputs": [
    {
     "data": {
      "text/plain": [
       "array(['TMSB4X', 'MALAT1', 'B2M', 'TMSB10', 'RPL10', 'MT-CO3', 'FTL',\n",
       "       'RPLP1', 'RPS18', 'MT-CO1'], dtype='<U44')"
      ]
     },
     "execution_count": 51,
     "metadata": {},
     "output_type": "execute_result"
    }
   ],
   "source": [
    "vargenes[:10]"
   ]
  },
  {
   "cell_type": "markdown",
   "metadata": {},
   "source": [
    "### Function for getting label for a guide"
   ]
  },
  {
   "cell_type": "code",
   "execution_count": 65,
   "metadata": {},
   "outputs": [],
   "source": [
    "def get_guide_index(guide, gene_dataset):\n",
    "    \n",
    "    return gene_dataset.guide_lookup.tolist().index(guide)"
   ]
  },
  {
   "cell_type": "code",
   "execution_count": 66,
   "metadata": {},
   "outputs": [
    {
     "data": {
      "text/plain": [
       "16"
      ]
     },
     "execution_count": 66,
     "metadata": {},
     "output_type": "execute_result"
    }
   ],
   "source": [
    "get_guide_index('BATF.75522739.AGGACTCTACCTGTTTGCCA_guide', gene_dataset)"
   ]
  },
  {
   "cell_type": "markdown",
   "metadata": {},
   "source": [
    "### Load a VAE model"
   ]
  },
  {
   "cell_type": "code",
   "execution_count": 119,
   "metadata": {},
   "outputs": [
    {
     "name": "stderr",
     "output_type": "stream",
     "text": [
      "/anaconda3/envs/scvi/lib/python3.6/site-packages/torch/serialization.py:425: SourceChangeWarning: source code of class 'torch.nn.modules.linear.Linear' has changed. you can retrieve the original source code by accessing the object's source attribute or set `torch.nn.Module.dump_patches = True` and use the patch tool to revert the changes.\n",
      "  warnings.warn(msg, SourceChangeWarning)\n",
      "/anaconda3/envs/scvi/lib/python3.6/site-packages/torch/serialization.py:425: SourceChangeWarning: source code of class 'torch.nn.modules.batchnorm.BatchNorm1d' has changed. you can retrieve the original source code by accessing the object's source attribute or set `torch.nn.Module.dump_patches = True` and use the patch tool to revert the changes.\n",
      "  warnings.warn(msg, SourceChangeWarning)\n"
     ]
    }
   ],
   "source": [
    "# Load the model\n",
    "model_path = data_path + 'vae_model_test.model'\n",
    "vae = torch.load(model_path, map_location=lambda storage, loc: storage)"
   ]
  },
  {
   "cell_type": "markdown",
   "metadata": {},
   "source": [
    "### Create a DataLoader"
   ]
  },
  {
   "cell_type": "code",
   "execution_count": 67,
   "metadata": {},
   "outputs": [],
   "source": [
    "data_loader = sdl.SupervisedTrainTestDataLoaders(gene_dataset)"
   ]
  },
  {
   "cell_type": "markdown",
   "metadata": {},
   "source": [
    "### Function for getting the mean expression"
   ]
  },
  {
   "cell_type": "code",
   "execution_count": 346,
   "metadata": {},
   "outputs": [],
   "source": [
    "def expression_stats(vae, data_loader, M_sampling=100, desired_labels=['NO_GUIDE'], desired_cell_count=500):\n",
    "    \"\"\"\n",
    "    Output average over statistics in a symmetric way (a against b)\n",
    "    forget the sets if permutation is True\n",
    "    :param vae: The generative vae and encoder network\n",
    "    :param data_loader: a data loader for a particular dataset\n",
    "    :param M_sampling: number of samples\n",
    "    :return: A 1-d vector of statistics of size n_genes\n",
    "    \"\"\"\n",
    "    px_scales = []\n",
    "    all_labels = []\n",
    "    cell_count = 0\n",
    "    for tensors in data_loader:\n",
    "        sample_batch, _, _, batch_index, labels = tensors\n",
    "        \n",
    "        # Only retain data about the labels of interest\n",
    "        indices = torch.zeros([labels.shape[0]], dtype=torch.uint8)\n",
    "        for dlabel in desired_labels:\n",
    "            indices |= (labels.view(-1) == dlabel)\n",
    "        \n",
    "        if indices.sum() > 0:\n",
    "            sample_batch = sample_batch[indices, :]\n",
    "            batch_index = batch_index[indices, 0]\n",
    "            labels = labels[indices, 0]\n",
    "            cell_count += indices.sum()\n",
    "\n",
    "            sample_batch = sample_batch.repeat(1, M_sampling).view(-1, sample_batch.size(1))\n",
    "            batch_index = batch_index.repeat(1, M_sampling).view(-1, 1)\n",
    "            labels = labels.repeat(1, M_sampling).view(-1, 1)\n",
    "            px_scales += [(vae.get_sample_scale(sample_batch, batch_index=batch_index, y=labels).squeeze()).cpu()]\n",
    "            all_labels += [labels.cpu()]\n",
    "            \n",
    "        if cell_count >= desired_cell_count:\n",
    "            print(cell_count)\n",
    "            break\n",
    "\n",
    "    px_scale = torch.cat(px_scales)\n",
    "    all_labels = torch.cat(all_labels)\n",
    "    \n",
    "\n",
    "\n",
    "    return px_scale, all_labels"
   ]
  },
  {
   "cell_type": "markdown",
   "metadata": {},
   "source": [
    "### Get mean expression for these cells\n",
    "\n",
    "For the first round, we choose the guides for knocking out POLR2A, BATF, and NULL (no guide)."
   ]
  },
  {
   "cell_type": "code",
   "execution_count": 347,
   "metadata": {},
   "outputs": [],
   "source": [
    "# Find the labels for these guides\n",
    "guides = [\n",
    "    'NO_GUIDE',\n",
    "    'POLR2A.7498096.CTTCAAGAACTAGTGCGCAG_guide',\n",
    "    'POLR2A.7503697.CATGCGGCGGGAACACAACG_guide',\n",
    "    'BATF.75522739.AGGACTCTACCTGTTTGCCA_guide',\n",
    "    ]"
   ]
  },
  {
   "cell_type": "code",
   "execution_count": 348,
   "metadata": {},
   "outputs": [],
   "source": [
    "guide_labels = [get_guide_index(guide, gene_dataset) for guide in guides]"
   ]
  },
  {
   "cell_type": "code",
   "execution_count": 349,
   "metadata": {},
   "outputs": [],
   "source": [
    "px_scale, all_labels = expression_stats(vae, data_loader['all'], desired_labels=guide_labels, M_sampling=10, desired_cell_count=5000)"
   ]
  },
  {
   "cell_type": "code",
   "execution_count": 351,
   "metadata": {},
   "outputs": [],
   "source": [
    "from sklearn.model_selection._split import _validate_shuffle_split"
   ]
  },
  {
   "cell_type": "code",
   "execution_count": 353,
   "metadata": {},
   "outputs": [
    {
     "data": {
      "text/plain": [
       "283634"
      ]
     },
     "execution_count": 353,
     "metadata": {},
     "output_type": "execute_result"
    }
   ],
   "source": [
    "len(gene_dataset)"
   ]
  },
  {
   "cell_type": "code",
   "execution_count": 354,
   "metadata": {},
   "outputs": [
    {
     "data": {
      "text/plain": [
       "(28363, 255271)"
      ]
     },
     "execution_count": 354,
     "metadata": {},
     "output_type": "execute_result"
    }
   ],
   "source": [
    "_validate_shuffle_split(283634, None, .1)"
   ]
  },
  {
   "cell_type": "markdown",
   "metadata": {},
   "source": [
    "### First, compare NO_GUIDE with POL2A guide"
   ]
  },
  {
   "cell_type": "code",
   "execution_count": 521,
   "metadata": {},
   "outputs": [],
   "source": [
    "M_permutation = 10000"
   ]
  },
  {
   "cell_type": "code",
   "execution_count": 522,
   "metadata": {},
   "outputs": [],
   "source": [
    "first_label = guide_labels[0]\n",
    "second_label = guide_labels[2]"
   ]
  },
  {
   "cell_type": "code",
   "execution_count": 523,
   "metadata": {},
   "outputs": [],
   "source": [
    "np_labels = all_labels.view(-1).data.numpy()"
   ]
  },
  {
   "cell_type": "code",
   "execution_count": 524,
   "metadata": {},
   "outputs": [],
   "source": [
    "first_label_idx = np.where(np_labels == first_label)[0]\n",
    "second_label_idx = np.where((np_labels == second_label) | (np_labels == guide_labels[1]))[0]"
   ]
  },
  {
   "cell_type": "code",
   "execution_count": 525,
   "metadata": {},
   "outputs": [],
   "source": [
    "first_set = px_scale[np.random.choice(first_label_idx, size=M_permutation), :].data.numpy()\n",
    "second_set = px_scale[np.random.choice(second_label_idx, size=M_permutation), :].data.numpy()"
   ]
  },
  {
   "cell_type": "code",
   "execution_count": 526,
   "metadata": {},
   "outputs": [],
   "source": [
    "res1 = np.mean(first_set >= second_set, 0)\n",
    "res1 = np.log(res1 + 1e-8) - np.log(1 - res1 + 1e-8)"
   ]
  },
  {
   "cell_type": "markdown",
   "metadata": {},
   "source": [
    "### Compare NO_GUIDE with NO_GUIDE"
   ]
  },
  {
   "cell_type": "code",
   "execution_count": 509,
   "metadata": {},
   "outputs": [],
   "source": [
    "M_permutation = 10000"
   ]
  },
  {
   "cell_type": "code",
   "execution_count": 510,
   "metadata": {},
   "outputs": [],
   "source": [
    "first_label = guide_labels[0]\n",
    "second_label = guide_labels[0]"
   ]
  },
  {
   "cell_type": "code",
   "execution_count": 511,
   "metadata": {},
   "outputs": [],
   "source": [
    "np_labels = all_labels.view(-1).data.numpy()"
   ]
  },
  {
   "cell_type": "code",
   "execution_count": 512,
   "metadata": {},
   "outputs": [],
   "source": [
    "first_label_idx = np.where(np_labels == first_label)[0]\n",
    "second_label_idx = np.where(np_labels == second_label)[0]"
   ]
  },
  {
   "cell_type": "code",
   "execution_count": 513,
   "metadata": {},
   "outputs": [],
   "source": [
    "first_set = px_scale[np.random.choice(first_label_idx, size=M_permutation), :].data.numpy()\n",
    "second_set = px_scale[np.random.choice(second_label_idx, size=M_permutation), :].data.numpy()"
   ]
  },
  {
   "cell_type": "code",
   "execution_count": 514,
   "metadata": {},
   "outputs": [],
   "source": [
    "res2 = np.mean(first_set >= second_set, 0)\n",
    "res2 = np.log(res2 + 1e-8) - np.log(1 - res2 + 1e-8)"
   ]
  },
  {
   "cell_type": "markdown",
   "metadata": {},
   "source": [
    "### Compare POL2 with POL2"
   ]
  },
  {
   "cell_type": "code",
   "execution_count": 532,
   "metadata": {},
   "outputs": [],
   "source": [
    "M_permutation = 10000"
   ]
  },
  {
   "cell_type": "code",
   "execution_count": 533,
   "metadata": {},
   "outputs": [],
   "source": [
    "first_label = guide_labels[1]\n",
    "second_label = guide_labels[2]"
   ]
  },
  {
   "cell_type": "code",
   "execution_count": 534,
   "metadata": {},
   "outputs": [],
   "source": [
    "np_labels = all_labels.view(-1).data.numpy()"
   ]
  },
  {
   "cell_type": "code",
   "execution_count": 535,
   "metadata": {},
   "outputs": [],
   "source": [
    "first_label_idx = np.where(np_labels == first_label)[0]\n",
    "second_label_idx = np.where(np_labels == second_label)[0]"
   ]
  },
  {
   "cell_type": "code",
   "execution_count": 536,
   "metadata": {},
   "outputs": [],
   "source": [
    "first_set = px_scale[np.random.choice(first_label_idx, size=M_permutation), :].data.numpy()\n",
    "second_set = px_scale[np.random.choice(second_label_idx, size=M_permutation), :].data.numpy()"
   ]
  },
  {
   "cell_type": "code",
   "execution_count": 538,
   "metadata": {},
   "outputs": [],
   "source": [
    "res3 = np.mean(first_set >= second_set, 0)\n",
    "res3 = np.log(res3 + 1e-8) - np.log(1 - res3 + 1e-8)"
   ]
  },
  {
   "cell_type": "code",
   "execution_count": 541,
   "metadata": {},
   "outputs": [
    {
     "name": "stderr",
     "output_type": "stream",
     "text": [
      "/anaconda3/envs/scvi/lib/python3.6/site-packages/matplotlib/axes/_axes.py:6462: UserWarning: The 'normed' kwarg is deprecated, and has been replaced by the 'density' kwarg.\n",
      "  warnings.warn(\"The 'normed' kwarg is deprecated, and has been \"\n",
      "/anaconda3/envs/scvi/lib/python3.6/site-packages/matplotlib/axes/_axes.py:6462: UserWarning: The 'normed' kwarg is deprecated, and has been replaced by the 'density' kwarg.\n",
      "  warnings.warn(\"The 'normed' kwarg is deprecated, and has been \"\n"
     ]
    },
    {
     "data": {
      "image/png": "[encoded data removed]",
      "text/plain": [
       "<Figure size 432x288 with 1 Axes>"
      ]
     },
     "metadata": {},
     "output_type": "display_data"
    }
   ],
   "source": [
    "sns.distplot(res1, bins=40, kde=False);\n",
    "sns.distplot(res2, bins=20, kde=False);\n",
    "plt.legend(['no_guide vs pol2', 'no_guide vs no_guide']);\n",
    "plt.title('Distribution of bayes factors');\n",
    "plt.xlabel('Bayes factor');\n",
    "plt.ylabel('count of genes');"
   ]
  }
 ],
 "metadata": {
  "kernelspec": {
   "display_name": "Python [conda env:scvi]",
   "language": "python",
   "name": "conda-env-scvi-py"
  },
  "language_info": {
   "codemirror_mode": {
    "name": "ipython",
    "version": 3
   },
   "file_extension": ".py",
   "mimetype": "text/x-python",
   "name": "python",
   "nbconvert_exporter": "python",
   "pygments_lexer": "ipython3",
   "version": "3.6.5"
  }
 },
 "nbformat": 4,
 "nbformat_minor": 2
}
