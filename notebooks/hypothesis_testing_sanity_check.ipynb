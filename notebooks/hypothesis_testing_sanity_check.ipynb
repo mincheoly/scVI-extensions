{
 "cells": [
  {
   "cell_type": "markdown",
   "metadata": {},
   "source": [
    "# Sanity check for hypothesis testing\n",
    "\n",
    "Model trained with KO gene has labels and tested between guides that knock out the same gene."
   ]
  },
  {
   "cell_type": "markdown",
   "metadata": {},
   "source": [
    "### Imports"
   ]
  },
  {
   "cell_type": "code",
   "execution_count": 1,
   "metadata": {},
   "outputs": [
    {
     "data": {
      "text/html": [
       "<style>.container { width:100% !important; }</style>"
      ],
      "text/plain": [
       "<IPython.core.display.HTML object>"
      ]
     },
     "metadata": {},
     "output_type": "display_data"
    }
   ],
   "source": [
    "from IPython.core.display import display, HTML\n",
    "import warnings\n",
    "warnings.filterwarnings('ignore')\n",
    "display(HTML(\"<style>.container { width:100% !important; }</style>\"))"
   ]
  },
  {
   "cell_type": "code",
   "execution_count": 2,
   "metadata": {},
   "outputs": [],
   "source": [
    "repo_path = '/Users/mincheolkim/Github/'\n",
    "data_path = '/Users/mincheolkim/Documents/'"
   ]
  },
  {
   "cell_type": "code",
   "execution_count": 3,
   "metadata": {},
   "outputs": [],
   "source": [
    "import sys\n",
    "sys.path.append(repo_path + 'scVI')\n",
    "sys.path.append(repo_path + 'scVI-extensions')"
   ]
  },
  {
   "cell_type": "code",
   "execution_count": 4,
   "metadata": {},
   "outputs": [],
   "source": [
    "import os\n",
    "\n",
    "import numpy as np\n",
    "from sklearn.manifold import TSNE\n",
    "import matplotlib\n",
    "%matplotlib inline\n",
    "import matplotlib.pyplot as plt\n",
    "import seaborn as sns\n",
    "from scipy.ndimage.filters import gaussian_filter\n",
    "import pandas as pd\n",
    "import torch\n",
    "import imp\n",
    "from scipy.stats import ttest_ind, wasserstein_distance, ks_2samp\n",
    "from scipy.stats import norm\n",
    "\n",
    "from scvi.metrics.clustering import entropy_batch_mixing, get_latent\n",
    "from scvi.models import VAE, SVAEC, VAEC\n",
    "from scvi.inference import VariationalInference"
   ]
  },
  {
   "cell_type": "code",
   "execution_count": 19,
   "metadata": {},
   "outputs": [],
   "source": [
    "import scvi_extensions.dataset.supervised_data_loader as sdl\n",
    "import scvi_extensions.dataset.cropseq as cs\n",
    "import scvi_extensions.inference.supervised_variational_inference as svi\n",
    "import scvi_extensions.hypothesis_testing.mean as mn\n",
    "import scvi_extensions.hypothesis_testing.variance as vr\n",
    "import scvi_extensions.dataset.label_data_loader as ldl"
   ]
  },
  {
   "cell_type": "markdown",
   "metadata": {},
   "source": [
    "### Load the model"
   ]
  },
  {
   "cell_type": "code",
   "execution_count": 34,
   "metadata": {},
   "outputs": [],
   "source": [
    "model = torch.load('/Users/mincheolkim/Documents/vaec_model_vargenes.model', map_location=lambda storage, loc: storage)"
   ]
  },
  {
   "cell_type": "markdown",
   "metadata": {},
   "source": [
    "### Create the dataset with guides as labels"
   ]
  },
  {
   "cell_type": "code",
   "execution_count": 35,
   "metadata": {},
   "outputs": [],
   "source": [
    "h5_filename = data_path + 'raw_gene_bc_matrices_h5.h5'\n",
    "metadata_filename = data_path + 'nsnp20.raw.sng.km_vb1.norm.meta.txt'"
   ]
  },
  {
   "cell_type": "code",
   "execution_count": 36,
   "metadata": {},
   "outputs": [
    {
     "name": "stdout",
     "output_type": "stream",
     "text": [
      "Preprocessing CROP-seq dataset\n",
      "Number of cells kept after filtering with metadata: 283634\n",
      "Number of cells kept after removing all zero cells: 283634\n",
      "Finished preprocessing CROP-seq dataset\n",
      "Downsampling from 32738 to 1000 genes\n"
     ]
    }
   ],
   "source": [
    "imp.reload(cs)\n",
    "# Load the dataset\n",
    "gene_dataset = cs.CropseqDataset(\n",
    "    filename=h5_filename,\n",
    "    metadata_filename=metadata_filename,\n",
    "    new_n_genes=1000,\n",
    "    use_donors=True,\n",
    "    use_labels='guide',\n",
    "    save_path='')"
   ]
  },
  {
   "cell_type": "markdown",
   "metadata": {},
   "source": [
    "### Find the indices for the two BATF guide labels and two normal guide labels"
   ]
  },
  {
   "cell_type": "code",
   "execution_count": 37,
   "metadata": {},
   "outputs": [
    {
     "data": {
      "text/plain": [
       "16    BATF.75522739.AGGACTCTACCTGTTTGCCA_guide\n",
       "17    BATF.75546499.ACAGAACGCGGCTCTACGCA_guide\n",
       "dtype: object"
      ]
     },
     "execution_count": 37,
     "metadata": {},
     "output_type": "execute_result"
    }
   ],
   "source": [
    "pd.Series(gene_dataset.guide_lookup)[pd.Series(gene_dataset.guide_lookup).str.contains('BATF')]"
   ]
  },
  {
   "cell_type": "code",
   "execution_count": 38,
   "metadata": {},
   "outputs": [
    {
     "data": {
      "text/plain": [
       "156    NO_GUIDE\n",
       "dtype: object"
      ]
     },
     "execution_count": 38,
     "metadata": {},
     "output_type": "execute_result"
    }
   ],
   "source": [
    "pd.Series(gene_dataset.guide_lookup)[pd.Series(gene_dataset.guide_lookup).str.contains('NO_GUIDE')]"
   ]
  },
  {
   "cell_type": "markdown",
   "metadata": {},
   "source": [
    "### Variance testing\n",
    "\n",
    "Test between BATF guide 1, BATF guide 2, and NO_GUIDE"
   ]
  },
  {
   "cell_type": "code",
   "execution_count": 66,
   "metadata": {},
   "outputs": [
    {
     "name": "stdout",
     "output_type": "stream",
     "text": [
      "Sampling for variance testing...\n",
      "Done sampling for variance testing...\n"
     ]
    }
   ],
   "source": [
    "variance_results = vr.gene_variance_test(model, gene_dataset, [16, 17, 156], 100, 10000)"
   ]
  },
  {
   "cell_type": "code",
   "execution_count": 67,
   "metadata": {},
   "outputs": [
    {
     "data": {
      "text/html": [
       "<div>\n",
       "<style scoped>\n",
       "    .dataframe tbody tr th:only-of-type {\n",
       "        vertical-align: middle;\n",
       "    }\n",
       "\n",
       "    .dataframe tbody tr th {\n",
       "        vertical-align: top;\n",
       "    }\n",
       "\n",
       "    .dataframe thead th {\n",
       "        text-align: right;\n",
       "    }\n",
       "</style>\n",
       "<table border=\"1\" class=\"dataframe\">\n",
       "  <thead>\n",
       "    <tr style=\"text-align: right;\">\n",
       "      <th></th>\n",
       "      <th>gene</th>\n",
       "      <th>gene_index</th>\n",
       "      <th>P(H1)</th>\n",
       "      <th>bayes_factor</th>\n",
       "      <th>bayes_factor_mag</th>\n",
       "      <th>pval</th>\n",
       "      <th>direction</th>\n",
       "    </tr>\n",
       "  </thead>\n",
       "  <tbody>\n",
       "    <tr>\n",
       "      <th>983</th>\n",
       "      <td>DDX3X</td>\n",
       "      <td>983</td>\n",
       "      <td>0.4356</td>\n",
       "      <td>-0.259039</td>\n",
       "      <td>0.259039</td>\n",
       "      <td>3.215393e-32</td>\n",
       "      <td>-1.0</td>\n",
       "    </tr>\n",
       "    <tr>\n",
       "      <th>169</th>\n",
       "      <td>CCL4</td>\n",
       "      <td>169</td>\n",
       "      <td>0.4369</td>\n",
       "      <td>-0.253753</td>\n",
       "      <td>0.253753</td>\n",
       "      <td>5.474692e-31</td>\n",
       "      <td>-1.0</td>\n",
       "    </tr>\n",
       "    <tr>\n",
       "      <th>678</th>\n",
       "      <td>RAP1A</td>\n",
       "      <td>678</td>\n",
       "      <td>0.4374</td>\n",
       "      <td>-0.251721</td>\n",
       "      <td>0.251721</td>\n",
       "      <td>1.603816e-30</td>\n",
       "      <td>-1.0</td>\n",
       "    </tr>\n",
       "  </tbody>\n",
       "</table>\n",
       "</div>"
      ],
      "text/plain": [
       "      gene  gene_index   P(H1)  bayes_factor  bayes_factor_mag          pval  \\\n",
       "983  DDX3X         983  0.4356     -0.259039          0.259039  3.215393e-32   \n",
       "169   CCL4         169  0.4369     -0.253753          0.253753  5.474692e-31   \n",
       "678  RAP1A         678  0.4374     -0.251721          0.251721  1.603816e-30   \n",
       "\n",
       "     direction  \n",
       "983       -1.0  \n",
       "169       -1.0  \n",
       "678       -1.0  "
      ]
     },
     "execution_count": 67,
     "metadata": {},
     "output_type": "execute_result"
    }
   ],
   "source": [
    "variance_results[16][17].head(3)"
   ]
  },
  {
   "cell_type": "code",
   "execution_count": 68,
   "metadata": {},
   "outputs": [
    {
     "data": {
      "text/html": [
       "<div>\n",
       "<style scoped>\n",
       "    .dataframe tbody tr th:only-of-type {\n",
       "        vertical-align: middle;\n",
       "    }\n",
       "\n",
       "    .dataframe tbody tr th {\n",
       "        vertical-align: top;\n",
       "    }\n",
       "\n",
       "    .dataframe thead th {\n",
       "        text-align: right;\n",
       "    }\n",
       "</style>\n",
       "<table border=\"1\" class=\"dataframe\">\n",
       "  <thead>\n",
       "    <tr style=\"text-align: right;\">\n",
       "      <th></th>\n",
       "      <th>gene</th>\n",
       "      <th>gene_index</th>\n",
       "      <th>P(H1)</th>\n",
       "      <th>bayes_factor</th>\n",
       "      <th>bayes_factor_mag</th>\n",
       "      <th>pval</th>\n",
       "      <th>direction</th>\n",
       "    </tr>\n",
       "  </thead>\n",
       "  <tbody>\n",
       "    <tr>\n",
       "      <th>624</th>\n",
       "      <td>LYAR</td>\n",
       "      <td>624</td>\n",
       "      <td>0.3546</td>\n",
       "      <td>-0.598880</td>\n",
       "      <td>0.598880</td>\n",
       "      <td>7.957008e-159</td>\n",
       "      <td>-1.0</td>\n",
       "    </tr>\n",
       "    <tr>\n",
       "      <th>617</th>\n",
       "      <td>CD59</td>\n",
       "      <td>617</td>\n",
       "      <td>0.3623</td>\n",
       "      <td>-0.565395</td>\n",
       "      <td>0.565395</td>\n",
       "      <td>1.470970e-142</td>\n",
       "      <td>-1.0</td>\n",
       "    </tr>\n",
       "    <tr>\n",
       "      <th>255</th>\n",
       "      <td>IL2RG</td>\n",
       "      <td>255</td>\n",
       "      <td>0.3749</td>\n",
       "      <td>-0.511252</td>\n",
       "      <td>0.511252</td>\n",
       "      <td>7.361522e-118</td>\n",
       "      <td>-1.0</td>\n",
       "    </tr>\n",
       "  </tbody>\n",
       "</table>\n",
       "</div>"
      ],
      "text/plain": [
       "      gene  gene_index   P(H1)  bayes_factor  bayes_factor_mag           pval  \\\n",
       "624   LYAR         624  0.3546     -0.598880          0.598880  7.957008e-159   \n",
       "617   CD59         617  0.3623     -0.565395          0.565395  1.470970e-142   \n",
       "255  IL2RG         255  0.3749     -0.511252          0.511252  7.361522e-118   \n",
       "\n",
       "     direction  \n",
       "624       -1.0  \n",
       "617       -1.0  \n",
       "255       -1.0  "
      ]
     },
     "execution_count": 68,
     "metadata": {},
     "output_type": "execute_result"
    }
   ],
   "source": [
    "variance_results[16][156].head(3)"
   ]
  },
  {
   "cell_type": "code",
   "execution_count": 72,
   "metadata": {},
   "outputs": [
    {
     "name": "stderr",
     "output_type": "stream",
     "text": [
      "/anaconda3/envs/scvi/lib/python3.6/site-packages/matplotlib/axes/_axes.py:6462: UserWarning: The 'normed' kwarg is deprecated, and has been replaced by the 'density' kwarg.\n",
      "  warnings.warn(\"The 'normed' kwarg is deprecated, and has been \"\n",
      "/anaconda3/envs/scvi/lib/python3.6/site-packages/matplotlib/axes/_axes.py:6462: UserWarning: The 'normed' kwarg is deprecated, and has been replaced by the 'density' kwarg.\n",
      "  warnings.warn(\"The 'normed' kwarg is deprecated, and has been \"\n"
     ]
    },
    {
     "data": {
      "text/plain": [
       "Text(0.5,1,'Variance P(H1) Distribution')"
      ]
     },
     "execution_count": 72,
     "metadata": {},
     "output_type": "execute_result"
    },
    {
     "data": {
      "image/png": "[encoded data removed]",
      "text/plain": [
       "<Figure size 432x288 with 1 Axes>"
      ]
     },
     "metadata": {},
     "output_type": "display_data"
    }
   ],
   "source": [
    "sns.distplot(variance_results[16][17]['P(H1)'], kde=False)\n",
    "sns.distplot(variance_results[16][156]['P(H1)'], kde=False)\n",
    "plt.legend(['Between BATF guides', 'Betwen BATF and no guide'])\n",
    "plt.title('Variance P(H1) Distribution')"
   ]
  },
  {
   "cell_type": "markdown",
   "metadata": {},
   "source": [
    "### Differential Expression"
   ]
  },
  {
   "cell_type": "code",
   "execution_count": 60,
   "metadata": {},
   "outputs": [
    {
     "name": "stdout",
     "output_type": "stream",
     "text": [
      "Sampling for differential expression...\n",
      "Done sampling for differential expression...\n"
     ]
    }
   ],
   "source": [
    "de_results = mn.differential_expression(model, gene_dataset, [16, 17, 156], 100, 10000)"
   ]
  },
  {
   "cell_type": "code",
   "execution_count": 61,
   "metadata": {},
   "outputs": [
    {
     "data": {
      "text/html": [
       "<div>\n",
       "<style scoped>\n",
       "    .dataframe tbody tr th:only-of-type {\n",
       "        vertical-align: middle;\n",
       "    }\n",
       "\n",
       "    .dataframe tbody tr th {\n",
       "        vertical-align: top;\n",
       "    }\n",
       "\n",
       "    .dataframe thead th {\n",
       "        text-align: right;\n",
       "    }\n",
       "</style>\n",
       "<table border=\"1\" class=\"dataframe\">\n",
       "  <thead>\n",
       "    <tr style=\"text-align: right;\">\n",
       "      <th></th>\n",
       "      <th>gene</th>\n",
       "      <th>gene_index</th>\n",
       "      <th>P(H1)</th>\n",
       "      <th>bayes_factor</th>\n",
       "      <th>bayes_factor_mag</th>\n",
       "      <th>pval</th>\n",
       "      <th>direction</th>\n",
       "    </tr>\n",
       "  </thead>\n",
       "  <tbody>\n",
       "    <tr>\n",
       "      <th>352</th>\n",
       "      <td>HIGD2A</td>\n",
       "      <td>352</td>\n",
       "      <td>0.5746</td>\n",
       "      <td>0.300644</td>\n",
       "      <td>0.300644</td>\n",
       "      <td>0.000000e+00</td>\n",
       "      <td>1.0</td>\n",
       "    </tr>\n",
       "    <tr>\n",
       "      <th>501</th>\n",
       "      <td>SELK</td>\n",
       "      <td>501</td>\n",
       "      <td>0.4359</td>\n",
       "      <td>-0.257819</td>\n",
       "      <td>0.257819</td>\n",
       "      <td>3.310408e-48</td>\n",
       "      <td>-1.0</td>\n",
       "    </tr>\n",
       "    <tr>\n",
       "      <th>763</th>\n",
       "      <td>SPCS3</td>\n",
       "      <td>763</td>\n",
       "      <td>0.4375</td>\n",
       "      <td>-0.251314</td>\n",
       "      <td>0.251314</td>\n",
       "      <td>6.844732e-46</td>\n",
       "      <td>-1.0</td>\n",
       "    </tr>\n",
       "  </tbody>\n",
       "</table>\n",
       "</div>"
      ],
      "text/plain": [
       "       gene  gene_index   P(H1)  bayes_factor  bayes_factor_mag          pval  \\\n",
       "352  HIGD2A         352  0.5746      0.300644          0.300644  0.000000e+00   \n",
       "501    SELK         501  0.4359     -0.257819          0.257819  3.310408e-48   \n",
       "763   SPCS3         763  0.4375     -0.251314          0.251314  6.844732e-46   \n",
       "\n",
       "     direction  \n",
       "352        1.0  \n",
       "501       -1.0  \n",
       "763       -1.0  "
      ]
     },
     "execution_count": 61,
     "metadata": {},
     "output_type": "execute_result"
    }
   ],
   "source": [
    "de_results[16][17].head(3)"
   ]
  },
  {
   "cell_type": "code",
   "execution_count": 63,
   "metadata": {},
   "outputs": [
    {
     "data": {
      "text/html": [
       "<div>\n",
       "<style scoped>\n",
       "    .dataframe tbody tr th:only-of-type {\n",
       "        vertical-align: middle;\n",
       "    }\n",
       "\n",
       "    .dataframe tbody tr th {\n",
       "        vertical-align: top;\n",
       "    }\n",
       "\n",
       "    .dataframe thead th {\n",
       "        text-align: right;\n",
       "    }\n",
       "</style>\n",
       "<table border=\"1\" class=\"dataframe\">\n",
       "  <thead>\n",
       "    <tr style=\"text-align: right;\">\n",
       "      <th></th>\n",
       "      <th>gene</th>\n",
       "      <th>gene_index</th>\n",
       "      <th>P(H1)</th>\n",
       "      <th>bayes_factor</th>\n",
       "      <th>bayes_factor_mag</th>\n",
       "      <th>pval</th>\n",
       "      <th>direction</th>\n",
       "    </tr>\n",
       "  </thead>\n",
       "  <tbody>\n",
       "    <tr>\n",
       "      <th>624</th>\n",
       "      <td>LYAR</td>\n",
       "      <td>624</td>\n",
       "      <td>0.3668</td>\n",
       "      <td>-0.545970</td>\n",
       "      <td>0.545970</td>\n",
       "      <td>1.184358e-204</td>\n",
       "      <td>-1.0</td>\n",
       "    </tr>\n",
       "    <tr>\n",
       "      <th>659</th>\n",
       "      <td>SEC11A</td>\n",
       "      <td>659</td>\n",
       "      <td>0.3727</td>\n",
       "      <td>-0.520651</td>\n",
       "      <td>0.520651</td>\n",
       "      <td>5.550273e-187</td>\n",
       "      <td>-1.0</td>\n",
       "    </tr>\n",
       "    <tr>\n",
       "      <th>683</th>\n",
       "      <td>LIMS1</td>\n",
       "      <td>683</td>\n",
       "      <td>0.3730</td>\n",
       "      <td>-0.519368</td>\n",
       "      <td>0.519368</td>\n",
       "      <td>4.181235e-186</td>\n",
       "      <td>-1.0</td>\n",
       "    </tr>\n",
       "  </tbody>\n",
       "</table>\n",
       "</div>"
      ],
      "text/plain": [
       "       gene  gene_index   P(H1)  bayes_factor  bayes_factor_mag  \\\n",
       "624    LYAR         624  0.3668     -0.545970          0.545970   \n",
       "659  SEC11A         659  0.3727     -0.520651          0.520651   \n",
       "683   LIMS1         683  0.3730     -0.519368          0.519368   \n",
       "\n",
       "              pval  direction  \n",
       "624  1.184358e-204       -1.0  \n",
       "659  5.550273e-187       -1.0  \n",
       "683  4.181235e-186       -1.0  "
      ]
     },
     "execution_count": 63,
     "metadata": {},
     "output_type": "execute_result"
    }
   ],
   "source": [
    "de_results[16][156].head(3)"
   ]
  },
  {
   "cell_type": "code",
   "execution_count": 71,
   "metadata": {},
   "outputs": [
    {
     "name": "stderr",
     "output_type": "stream",
     "text": [
      "/anaconda3/envs/scvi/lib/python3.6/site-packages/matplotlib/axes/_axes.py:6462: UserWarning: The 'normed' kwarg is deprecated, and has been replaced by the 'density' kwarg.\n",
      "  warnings.warn(\"The 'normed' kwarg is deprecated, and has been \"\n",
      "/anaconda3/envs/scvi/lib/python3.6/site-packages/matplotlib/axes/_axes.py:6462: UserWarning: The 'normed' kwarg is deprecated, and has been replaced by the 'density' kwarg.\n",
      "  warnings.warn(\"The 'normed' kwarg is deprecated, and has been \"\n"
     ]
    },
    {
     "data": {
      "text/plain": [
       "Text(0.5,1,'DE P(H1) Distribution')"
      ]
     },
     "execution_count": 71,
     "metadata": {},
     "output_type": "execute_result"
    },
    {
     "data": {
      "image/png": "[encoded data removed]",
      "text/plain": [
       "<Figure size 432x288 with 1 Axes>"
      ]
     },
     "metadata": {},
     "output_type": "display_data"
    }
   ],
   "source": [
    "sns.distplot(de_results[16][17]['P(H1)'], kde=False)\n",
    "sns.distplot(de_results[16][156]['P(H1)'], kde=False)\n",
    "plt.legend(['Between BATF guides', 'Betwen BATF and no guide'])\n",
    "plt.title('DE P(H1) Distribution')"
   ]
  }
 ],
 "metadata": {
  "kernelspec": {
   "display_name": "Python [conda env:scvi]",
   "language": "python",
   "name": "conda-env-scvi-py"
  },
  "language_info": {
   "codemirror_mode": {
    "name": "ipython",
    "version": 3
   },
   "file_extension": ".py",
   "mimetype": "text/x-python",
   "name": "python",
   "nbconvert_exporter": "python",
   "pygments_lexer": "ipython3",
   "version": "3.6.5"
  }
 },
 "nbformat": 4,
 "nbformat_minor": 2
}
