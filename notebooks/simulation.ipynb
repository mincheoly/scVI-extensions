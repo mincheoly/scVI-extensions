{
 "cells": [
  {
   "cell_type": "markdown",
   "metadata": {},
   "source": [
    "# Simulations\n",
    "\n",
    "Simulate some sparse data. Compare scVI, CVAE, and scanpy."
   ]
  },
  {
   "cell_type": "code",
   "execution_count": 1,
   "metadata": {},
   "outputs": [
    {
     "data": {
      "text/html": [
       "<style>.container { width:100% !important; }</style>"
      ],
      "text/plain": [
       "<IPython.core.display.HTML object>"
      ]
     },
     "metadata": {},
     "output_type": "display_data"
    }
   ],
   "source": [
    "from IPython.core.display import display, HTML\n",
    "display(HTML(\"<style>.container { width:100% !important; }</style>\"))"
   ]
  },
  {
   "cell_type": "code",
   "execution_count": 2,
   "metadata": {},
   "outputs": [],
   "source": [
    "repo_path = '/Users/mincheolkim/Github/'\n",
    "data_path = '/Users/mincheolkim/Documents/'"
   ]
  },
  {
   "cell_type": "code",
   "execution_count": 3,
   "metadata": {},
   "outputs": [],
   "source": [
    "import sys\n",
    "sys.path.append(repo_path + 'scVI')\n",
    "sys.path.append(repo_path + 'scVI-extensions')"
   ]
  },
  {
   "cell_type": "code",
   "execution_count": 4,
   "metadata": {},
   "outputs": [
    {
     "name": "stderr",
     "output_type": "stream",
     "text": [
      "/anaconda3/envs/scvi/lib/python3.6/site-packages/h5py/__init__.py:36: FutureWarning: Conversion of the second argument of issubdtype from `float` to `np.floating` is deprecated. In future, it will be treated as `np.float64 == np.dtype(float).type`.\n",
      "  from ._conv import register_converters as _register_converters\n"
     ]
    }
   ],
   "source": [
    "import os\n",
    "\n",
    "import numpy as np\n",
    "from sklearn.manifold import TSNE\n",
    "from sklearn.datasets import make_spd_matrix\n",
    "import matplotlib\n",
    "%matplotlib inline\n",
    "import matplotlib.pyplot as plt\n",
    "import seaborn as sns\n",
    "from scipy.ndimage.filters import gaussian_filter\n",
    "import pandas as pd\n",
    "import torch\n",
    "import imp\n",
    "\n",
    "from scvi.metrics.clustering import entropy_batch_mixing, get_latent\n",
    "from scvi.models import VAE, SVAEC, VAEC\n",
    "from scvi.inference import VariationalInference\n",
    "from scvi.dataset import GeneExpressionDataset"
   ]
  },
  {
   "cell_type": "code",
   "execution_count": 5,
   "metadata": {},
   "outputs": [],
   "source": [
    "import scvi_extensions.dataset.supervised_data_loader as sdl\n",
    "import scvi_extensions.dataset.cropseq as cs\n",
    "import scvi_extensions.inference.supervised_variational_inference as svi\n",
    "import scvi_extensions.hypothesis_testing.mean as mn\n",
    "import scvi_extensions.models.cvae as cv"
   ]
  },
  {
   "cell_type": "code",
   "execution_count": 129,
   "metadata": {},
   "outputs": [],
   "source": [
    "import scanpy.api as sc\n",
    "from anndata import AnnData"
   ]
  },
  {
   "cell_type": "markdown",
   "metadata": {},
   "source": [
    "### Function for generating data"
   ]
  },
  {
   "cell_type": "code",
   "execution_count": 156,
   "metadata": {},
   "outputs": [],
   "source": [
    "D = 100\n",
    "N = 100\n",
    "NUM_TRIAL = 100"
   ]
  },
  {
   "cell_type": "code",
   "execution_count": 157,
   "metadata": {},
   "outputs": [],
   "source": [
    "def generate_data(diff):\n",
    "    sigma_1 = make_spd_matrix(D)\n",
    "    sigma_2 = make_spd_matrix(D)\n",
    "    \n",
    "    means_1 = np.array([10 for i in range(D)])\n",
    "    means_2 = np.array([10 for i in range(D)])\n",
    "    means_2[4] = 10 + diff\n",
    "\n",
    "    X_dense = np.concatenate([\n",
    "        np.random.multivariate_normal(means_1, sigma_1, size=int(N/2)),\n",
    "        np.random.multivariate_normal(means_2, sigma_2, size=int(N/2))])\n",
    "\n",
    "    X = np.random.binomial(n=np.clip(np.round(X_dense).astype(np.int64), a_min=0, a_max=None),p=0.1)\n",
    "    labels = np.array([0 for i in range(int(N/2))] + [1 for i in range(int(N/2))])\n",
    "    \n",
    "    dataset = GeneExpressionDataset(*GeneExpressionDataset.get_attributes_from_matrix(X, labels=labels))\n",
    "    dataset.gene_names = np.array(['A', 'B', 'C', 'D', 'E', 'F', 'G', 'H', 'I', 'K'])\n",
    "    \n",
    "    return X_dense, dataset"
   ]
  },
  {
   "cell_type": "markdown",
   "metadata": {},
   "source": [
    "### Simulation"
   ]
  },
  {
   "cell_type": "code",
   "execution_count": 114,
   "metadata": {},
   "outputs": [
    {
     "data": {
      "text/plain": [
       "<module 'scvi_extensions.hypothesis_testing.mean' from '/Users/mincheolkim/Github/scVI-extensions/scvi_extensions/hypothesis_testing/mean.py'>"
      ]
     },
     "execution_count": 114,
     "metadata": {},
     "output_type": "execute_result"
    }
   ],
   "source": [
    "imp.reload(cv)\n",
    "imp.reload(svi)\n",
    "imp.reload(mn)"
   ]
  },
  {
   "cell_type": "code",
   "execution_count": 153,
   "metadata": {},
   "outputs": [],
   "source": [
    "n_epochs=200\n",
    "lr=1e-3\n",
    "use_batches=False\n",
    "use_cuda=False"
   ]
  },
  {
   "cell_type": "code",
   "execution_count": 184,
   "metadata": {},
   "outputs": [
    {
     "name": "stdout",
     "output_type": "stream",
     "text": [
      "training: 100%|██████████| 200/200 [00:03<00:00, 64.37it/s]\n",
      "training: 100%|██████████| 200/200 [00:03<00:00, 51.58it/s]\n",
      "Sampling for differential expression...\n",
      "Done sampling for differential expression...\n",
      "Sampling for differential expression...\n",
      "Done sampling for differential expression...\n",
      "training: 100%|██████████| 200/200 [00:03<00:00, 65.23it/s]\n",
      "training: 100%|██████████| 200/200 [00:03<00:00, 55.75it/s]\n",
      "Sampling for differential expression...\n",
      "Done sampling for differential expression...\n",
      "Sampling for differential expression...\n",
      "Done sampling for differential expression...\n",
      "training: 100%|██████████| 200/200 [00:03<00:00, 62.76it/s]\n",
      "training: 100%|██████████| 200/200 [00:04<00:00, 49.31it/s]\n",
      "Sampling for differential expression...\n",
      "Done sampling for differential expression...\n",
      "Sampling for differential expression...\n",
      "Done sampling for differential expression...\n",
      "training: 100%|██████████| 200/200 [00:03<00:00, 63.59it/s]\n",
      "training: 100%|██████████| 200/200 [00:03<00:00, 60.21it/s]\n",
      "Sampling for differential expression...\n",
      "Done sampling for differential expression...\n",
      "Sampling for differential expression...\n",
      "Done sampling for differential expression...\n",
      "training: 100%|██████████| 200/200 [00:03<00:00, 61.81it/s]\n",
      "training: 100%|██████████| 200/200 [00:03<00:00, 57.81it/s]\n",
      "Sampling for differential expression...\n",
      "Done sampling for differential expression...\n",
      "Sampling for differential expression...\n",
      "Done sampling for differential expression...\n",
      "training: 100%|██████████| 200/200 [00:03<00:00, 54.13it/s]\n",
      "training: 100%|██████████| 200/200 [00:04<00:00, 48.84it/s]\n",
      "Sampling for differential expression...\n",
      "Done sampling for differential expression...\n",
      "Sampling for differential expression...\n",
      "Done sampling for differential expression...\n",
      "training: 100%|██████████| 200/200 [00:03<00:00, 65.27it/s]\n",
      "training: 100%|██████████| 200/200 [00:03<00:00, 62.04it/s]\n",
      "Sampling for differential expression...\n",
      "Done sampling for differential expression...\n",
      "Sampling for differential expression...\n",
      "Done sampling for differential expression...\n"
     ]
    }
   ],
   "source": [
    "supervised_bf = []\n",
    "bf = []\n",
    "\n",
    "for diff in [1, 5, 10, 15, 20, 25, 30]:\n",
    "\n",
    "    X_dense, gene_dataset = generate_data(diff)\n",
    "    \n",
    "    # Fit scVI\n",
    "    vae = VAE(gene_dataset.nb_genes, n_batch=gene_dataset.n_batches * use_batches, n_hidden=20, n_latent=10)\n",
    "    infer = VariationalInference(\n",
    "        vae, \n",
    "        gene_dataset, \n",
    "        train_size=0.9, \n",
    "        use_cuda=use_cuda,\n",
    "        verbose=False,\n",
    "        frequency=1)\n",
    "    infer.train(n_epochs=n_epochs, lr=lr)\n",
    "    \n",
    "    # Fit CVAE\n",
    "    cvae = cv.CVAE(gene_dataset.nb_genes, n_labels=gene_dataset.n_labels, n_batch=gene_dataset.n_batches * use_batches, n_hidden=20, n_latent=10)\n",
    "    supervised_infer = svi.SupervisedVariationalInference(\n",
    "        cvae, \n",
    "        gene_dataset, \n",
    "        train_size=0.9, \n",
    "        use_cuda=use_cuda,\n",
    "        verbose=False,\n",
    "        frequency=1)\n",
    "    supervised_infer.train(n_epochs=n_epochs, lr=lr)\n",
    "    \n",
    "    supervised_null, supervised_de = mn.differential_expression(cvae, gene_dataset, [0,1], 100, testing=False)\n",
    "    null, de = mn.differential_expression(vae, gene_dataset, [0,1], 100, testing=False)\n",
    "    \n",
    "    supervised_bf.append(supervised_de[0][1].query('gene == \"E\"')['bayes_factor_mag'].values[0])\n",
    "    bf.append(de[0][1].query('gene == \"E\"')['bayes_factor_mag'].values[0])"
   ]
  },
  {
   "cell_type": "code",
   "execution_count": 185,
   "metadata": {},
   "outputs": [
    {
     "ename": "AttributeError",
     "evalue": "module 'seaborn' has no attribute 'lineplot'",
     "output_type": "error",
     "traceback": [
      "\u001b[0;31m-------------------------------------------------------------------------\u001b[0m",
      "\u001b[0;31mAttributeError\u001b[0m                          Traceback (most recent call last)",
      "\u001b[0;32m<ipython-input-185-c59184d5d500>\u001b[0m in \u001b[0;36m<module>\u001b[0;34m()\u001b[0m\n\u001b[0;32m----> 1\u001b[0;31m \u001b[0msns\u001b[0m\u001b[0;34m.\u001b[0m\u001b[0mlineplot\u001b[0m\u001b[0;34m(\u001b[0m\u001b[0;34m[\u001b[0m\u001b[0;36m1\u001b[0m\u001b[0;34m,\u001b[0m \u001b[0;36m5\u001b[0m\u001b[0;34m,\u001b[0m \u001b[0;36m10\u001b[0m\u001b[0;34m,\u001b[0m \u001b[0;36m15\u001b[0m\u001b[0;34m,\u001b[0m \u001b[0;36m20\u001b[0m\u001b[0;34m,\u001b[0m \u001b[0;36m25\u001b[0m\u001b[0;34m,\u001b[0m \u001b[0;36m30\u001b[0m\u001b[0;34m]\u001b[0m\u001b[0;34m,\u001b[0m \u001b[0msupervised_bf\u001b[0m\u001b[0;34m)\u001b[0m\u001b[0;34m\u001b[0m\u001b[0m\n\u001b[0m",
      "\u001b[0;31mAttributeError\u001b[0m: module 'seaborn' has no attribute 'lineplot'"
     ]
    }
   ],
   "source": [
    "sns.lineplot([1, 5, 10, 15, 20, 25, 30], supervised_bf)"
   ]
  },
  {
   "cell_type": "code",
   "execution_count": 180,
   "metadata": {},
   "outputs": [
    {
     "data": {
      "text/html": [
       "<div>\n",
       "<style scoped>\n",
       "    .dataframe tbody tr th:only-of-type {\n",
       "        vertical-align: middle;\n",
       "    }\n",
       "\n",
       "    .dataframe tbody tr th {\n",
       "        vertical-align: top;\n",
       "    }\n",
       "\n",
       "    .dataframe thead th {\n",
       "        text-align: right;\n",
       "    }\n",
       "</style>\n",
       "<table border=\"1\" class=\"dataframe\">\n",
       "  <thead>\n",
       "    <tr style=\"text-align: right;\">\n",
       "      <th></th>\n",
       "      <th>gene</th>\n",
       "      <th>gene_index</th>\n",
       "      <th>P(H1)</th>\n",
       "      <th>bayes_factor</th>\n",
       "      <th>bayes_factor_mag</th>\n",
       "      <th>pval</th>\n",
       "      <th>direction</th>\n",
       "    </tr>\n",
       "  </thead>\n",
       "  <tbody>\n",
       "    <tr>\n",
       "      <th>3</th>\n",
       "      <td>D</td>\n",
       "      <td>3</td>\n",
       "      <td>0.3337</td>\n",
       "      <td>-0.691498</td>\n",
       "      <td>0.691498</td>\n",
       "      <td>1.916209e-149</td>\n",
       "      <td>-1.0</td>\n",
       "    </tr>\n",
       "    <tr>\n",
       "      <th>5</th>\n",
       "      <td>F</td>\n",
       "      <td>5</td>\n",
       "      <td>0.6432</td>\n",
       "      <td>0.589280</td>\n",
       "      <td>0.589280</td>\n",
       "      <td>0.000000e+00</td>\n",
       "      <td>1.0</td>\n",
       "    </tr>\n",
       "    <tr>\n",
       "      <th>4</th>\n",
       "      <td>E</td>\n",
       "      <td>4</td>\n",
       "      <td>0.3775</td>\n",
       "      <td>-0.500173</td>\n",
       "      <td>0.500173</td>\n",
       "      <td>2.212657e-82</td>\n",
       "      <td>-1.0</td>\n",
       "    </tr>\n",
       "    <tr>\n",
       "      <th>2</th>\n",
       "      <td>C</td>\n",
       "      <td>2</td>\n",
       "      <td>0.6038</td>\n",
       "      <td>0.421324</td>\n",
       "      <td>0.421324</td>\n",
       "      <td>0.000000e+00</td>\n",
       "      <td>1.0</td>\n",
       "    </tr>\n",
       "    <tr>\n",
       "      <th>8</th>\n",
       "      <td>I</td>\n",
       "      <td>8</td>\n",
       "      <td>0.3973</td>\n",
       "      <td>-0.416728</td>\n",
       "      <td>0.416728</td>\n",
       "      <td>1.119118e-58</td>\n",
       "      <td>-1.0</td>\n",
       "    </tr>\n",
       "    <tr>\n",
       "      <th>1</th>\n",
       "      <td>B</td>\n",
       "      <td>1</td>\n",
       "      <td>0.5607</td>\n",
       "      <td>0.244003</td>\n",
       "      <td>0.244003</td>\n",
       "      <td>0.000000e+00</td>\n",
       "      <td>1.0</td>\n",
       "    </tr>\n",
       "    <tr>\n",
       "      <th>9</th>\n",
       "      <td>K</td>\n",
       "      <td>9</td>\n",
       "      <td>0.4470</td>\n",
       "      <td>-0.212799</td>\n",
       "      <td>0.212799</td>\n",
       "      <td>2.871054e-17</td>\n",
       "      <td>-1.0</td>\n",
       "    </tr>\n",
       "    <tr>\n",
       "      <th>7</th>\n",
       "      <td>H</td>\n",
       "      <td>7</td>\n",
       "      <td>0.5506</td>\n",
       "      <td>0.203095</td>\n",
       "      <td>0.203095</td>\n",
       "      <td>4.329870e-15</td>\n",
       "      <td>1.0</td>\n",
       "    </tr>\n",
       "    <tr>\n",
       "      <th>0</th>\n",
       "      <td>A</td>\n",
       "      <td>0</td>\n",
       "      <td>0.4698</td>\n",
       "      <td>-0.120947</td>\n",
       "      <td>0.120947</td>\n",
       "      <td>7.152054e-07</td>\n",
       "      <td>-1.0</td>\n",
       "    </tr>\n",
       "    <tr>\n",
       "      <th>6</th>\n",
       "      <td>G</td>\n",
       "      <td>6</td>\n",
       "      <td>0.4773</td>\n",
       "      <td>-0.090862</td>\n",
       "      <td>0.090862</td>\n",
       "      <td>1.295665e-04</td>\n",
       "      <td>-1.0</td>\n",
       "    </tr>\n",
       "  </tbody>\n",
       "</table>\n",
       "</div>"
      ],
      "text/plain": [
       "  gene  gene_index   P(H1)  bayes_factor  bayes_factor_mag           pval  \\\n",
       "3    D           3  0.3337     -0.691498          0.691498  1.916209e-149   \n",
       "5    F           5  0.6432      0.589280          0.589280   0.000000e+00   \n",
       "4    E           4  0.3775     -0.500173          0.500173   2.212657e-82   \n",
       "2    C           2  0.6038      0.421324          0.421324   0.000000e+00   \n",
       "8    I           8  0.3973     -0.416728          0.416728   1.119118e-58   \n",
       "1    B           1  0.5607      0.244003          0.244003   0.000000e+00   \n",
       "9    K           9  0.4470     -0.212799          0.212799   2.871054e-17   \n",
       "7    H           7  0.5506      0.203095          0.203095   4.329870e-15   \n",
       "0    A           0  0.4698     -0.120947          0.120947   7.152054e-07   \n",
       "6    G           6  0.4773     -0.090862          0.090862   1.295665e-04   \n",
       "\n",
       "   direction  \n",
       "3       -1.0  \n",
       "5        1.0  \n",
       "4       -1.0  \n",
       "2        1.0  \n",
       "8       -1.0  \n",
       "1        1.0  \n",
       "9       -1.0  \n",
       "7        1.0  \n",
       "0       -1.0  \n",
       "6       -1.0  "
      ]
     },
     "execution_count": 180,
     "metadata": {},
     "output_type": "execute_result"
    }
   ],
   "source": [
    "de[0][1]"
   ]
  },
  {
   "cell_type": "code",
   "execution_count": 181,
   "metadata": {},
   "outputs": [
    {
     "data": {
      "text/html": [
       "<div>\n",
       "<style scoped>\n",
       "    .dataframe tbody tr th:only-of-type {\n",
       "        vertical-align: middle;\n",
       "    }\n",
       "\n",
       "    .dataframe tbody tr th {\n",
       "        vertical-align: top;\n",
       "    }\n",
       "\n",
       "    .dataframe thead th {\n",
       "        text-align: right;\n",
       "    }\n",
       "</style>\n",
       "<table border=\"1\" class=\"dataframe\">\n",
       "  <thead>\n",
       "    <tr style=\"text-align: right;\">\n",
       "      <th></th>\n",
       "      <th>gene</th>\n",
       "      <th>gene_index</th>\n",
       "      <th>P(H1)</th>\n",
       "      <th>bayes_factor</th>\n",
       "      <th>bayes_factor_mag</th>\n",
       "      <th>pval</th>\n",
       "      <th>direction</th>\n",
       "    </tr>\n",
       "  </thead>\n",
       "  <tbody>\n",
       "    <tr>\n",
       "      <th>0</th>\n",
       "      <td>A</td>\n",
       "      <td>0</td>\n",
       "      <td>0.7550</td>\n",
       "      <td>1.125460</td>\n",
       "      <td>1.125460</td>\n",
       "      <td>0.000000e+00</td>\n",
       "      <td>1.0</td>\n",
       "    </tr>\n",
       "    <tr>\n",
       "      <th>4</th>\n",
       "      <td>E</td>\n",
       "      <td>4</td>\n",
       "      <td>0.3021</td>\n",
       "      <td>-0.837318</td>\n",
       "      <td>0.837318</td>\n",
       "      <td>1.802369e-251</td>\n",
       "      <td>-1.0</td>\n",
       "    </tr>\n",
       "    <tr>\n",
       "      <th>3</th>\n",
       "      <td>D</td>\n",
       "      <td>3</td>\n",
       "      <td>0.3098</td>\n",
       "      <td>-0.801054</td>\n",
       "      <td>0.801054</td>\n",
       "      <td>1.742734e-232</td>\n",
       "      <td>-1.0</td>\n",
       "    </tr>\n",
       "    <tr>\n",
       "      <th>6</th>\n",
       "      <td>G</td>\n",
       "      <td>6</td>\n",
       "      <td>0.6895</td>\n",
       "      <td>0.797783</td>\n",
       "      <td>0.797783</td>\n",
       "      <td>0.000000e+00</td>\n",
       "      <td>1.0</td>\n",
       "    </tr>\n",
       "    <tr>\n",
       "      <th>8</th>\n",
       "      <td>I</td>\n",
       "      <td>8</td>\n",
       "      <td>0.3993</td>\n",
       "      <td>-0.408383</td>\n",
       "      <td>0.408383</td>\n",
       "      <td>6.675844e-67</td>\n",
       "      <td>-1.0</td>\n",
       "    </tr>\n",
       "    <tr>\n",
       "      <th>2</th>\n",
       "      <td>C</td>\n",
       "      <td>2</td>\n",
       "      <td>0.4011</td>\n",
       "      <td>-0.400884</td>\n",
       "      <td>0.400884</td>\n",
       "      <td>1.302488e-64</td>\n",
       "      <td>-1.0</td>\n",
       "    </tr>\n",
       "    <tr>\n",
       "      <th>5</th>\n",
       "      <td>F</td>\n",
       "      <td>5</td>\n",
       "      <td>0.5677</td>\n",
       "      <td>0.272473</td>\n",
       "      <td>0.272473</td>\n",
       "      <td>0.000000e+00</td>\n",
       "      <td>1.0</td>\n",
       "    </tr>\n",
       "    <tr>\n",
       "      <th>9</th>\n",
       "      <td>K</td>\n",
       "      <td>9</td>\n",
       "      <td>0.5627</td>\n",
       "      <td>0.252127</td>\n",
       "      <td>0.252127</td>\n",
       "      <td>0.000000e+00</td>\n",
       "      <td>1.0</td>\n",
       "    </tr>\n",
       "    <tr>\n",
       "      <th>7</th>\n",
       "      <td>H</td>\n",
       "      <td>7</td>\n",
       "      <td>0.5589</td>\n",
       "      <td>0.236699</td>\n",
       "      <td>0.236699</td>\n",
       "      <td>0.000000e+00</td>\n",
       "      <td>1.0</td>\n",
       "    </tr>\n",
       "    <tr>\n",
       "      <th>1</th>\n",
       "      <td>B</td>\n",
       "      <td>1</td>\n",
       "      <td>0.5478</td>\n",
       "      <td>0.191786</td>\n",
       "      <td>0.191786</td>\n",
       "      <td>2.220446e-16</td>\n",
       "      <td>1.0</td>\n",
       "    </tr>\n",
       "  </tbody>\n",
       "</table>\n",
       "</div>"
      ],
      "text/plain": [
       "  gene  gene_index   P(H1)  bayes_factor  bayes_factor_mag           pval  \\\n",
       "0    A           0  0.7550      1.125460          1.125460   0.000000e+00   \n",
       "4    E           4  0.3021     -0.837318          0.837318  1.802369e-251   \n",
       "3    D           3  0.3098     -0.801054          0.801054  1.742734e-232   \n",
       "6    G           6  0.6895      0.797783          0.797783   0.000000e+00   \n",
       "8    I           8  0.3993     -0.408383          0.408383   6.675844e-67   \n",
       "2    C           2  0.4011     -0.400884          0.400884   1.302488e-64   \n",
       "5    F           5  0.5677      0.272473          0.272473   0.000000e+00   \n",
       "9    K           9  0.5627      0.252127          0.252127   0.000000e+00   \n",
       "7    H           7  0.5589      0.236699          0.236699   0.000000e+00   \n",
       "1    B           1  0.5478      0.191786          0.191786   2.220446e-16   \n",
       "\n",
       "   direction  \n",
       "0        1.0  \n",
       "4       -1.0  \n",
       "3       -1.0  \n",
       "6        1.0  \n",
       "8       -1.0  \n",
       "2       -1.0  \n",
       "5        1.0  \n",
       "9        1.0  \n",
       "7        1.0  \n",
       "1        1.0  "
      ]
     },
     "execution_count": 181,
     "metadata": {},
     "output_type": "execute_result"
    }
   ],
   "source": [
    "supervised_de[0][1]"
   ]
  },
  {
   "cell_type": "code",
   "execution_count": 130,
   "metadata": {},
   "outputs": [],
   "source": [
    "adata = AnnData(gene_dataset.X)"
   ]
  },
  {
   "cell_type": "code",
   "execution_count": 146,
   "metadata": {},
   "outputs": [],
   "source": [
    "adata.obs['group'] = gene_dataset.labels.reshape(-1)\n",
    "adata.obs['group'] = adata.obs['group'].astype('category')"
   ]
  },
  {
   "cell_type": "code",
   "execution_count": 147,
   "metadata": {},
   "outputs": [
    {
     "data": {
      "text/html": [
       "<div>\n",
       "<style scoped>\n",
       "    .dataframe tbody tr th:only-of-type {\n",
       "        vertical-align: middle;\n",
       "    }\n",
       "\n",
       "    .dataframe tbody tr th {\n",
       "        vertical-align: top;\n",
       "    }\n",
       "\n",
       "    .dataframe thead th {\n",
       "        text-align: right;\n",
       "    }\n",
       "</style>\n",
       "<table border=\"1\" class=\"dataframe\">\n",
       "  <thead>\n",
       "    <tr style=\"text-align: right;\">\n",
       "      <th></th>\n",
       "      <th>group</th>\n",
       "    </tr>\n",
       "  </thead>\n",
       "  <tbody>\n",
       "    <tr>\n",
       "      <th>0</th>\n",
       "      <td>0</td>\n",
       "    </tr>\n",
       "    <tr>\n",
       "      <th>1</th>\n",
       "      <td>0</td>\n",
       "    </tr>\n",
       "    <tr>\n",
       "      <th>2</th>\n",
       "      <td>0</td>\n",
       "    </tr>\n",
       "    <tr>\n",
       "      <th>3</th>\n",
       "      <td>0</td>\n",
       "    </tr>\n",
       "    <tr>\n",
       "      <th>4</th>\n",
       "      <td>0</td>\n",
       "    </tr>\n",
       "  </tbody>\n",
       "</table>\n",
       "</div>"
      ],
      "text/plain": [
       "  group\n",
       "0     0\n",
       "1     0\n",
       "2     0\n",
       "3     0\n",
       "4     0"
      ]
     },
     "execution_count": 147,
     "metadata": {},
     "output_type": "execute_result"
    }
   ],
   "source": [
    "adata.obs.head(5)"
   ]
  },
  {
   "cell_type": "code",
   "execution_count": 151,
   "metadata": {},
   "outputs": [
    {
     "data": {
      "image/png": "[encoded data removed]",
      "text/plain": [
       "<Figure size 1728x288 with 2 Axes>"
      ]
     },
     "metadata": {},
     "output_type": "display_data"
    }
   ],
   "source": [
    "sc.tl.rank_genes_groups(adata, 'group')\n",
    "sc.pl.rank_genes_groups(adata, n_genes=20, sharey=False)"
   ]
  }
 ],
 "metadata": {
  "kernelspec": {
   "display_name": "Python [conda env:scvi]",
   "language": "python",
   "name": "conda-env-scvi-py"
  },
  "language_info": {
   "codemirror_mode": {
    "name": "ipython",
    "version": 3
   },
   "file_extension": ".py",
   "mimetype": "text/x-python",
   "name": "python",
   "nbconvert_exporter": "python",
   "pygments_lexer": "ipython3",
   "version": "3.6.5"
  }
 },
 "nbformat": 4,
 "nbformat_minor": 2
}
