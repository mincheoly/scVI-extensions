{
 "cells": [
  {
   "cell_type": "markdown",
   "metadata": {},
   "source": [
    "# Simulations\n",
    "\n",
    "Simulate some sparse data. Compare scVI, CVAE, and scanpy."
   ]
  },
  {
   "cell_type": "code",
   "execution_count": 7,
   "metadata": {},
   "outputs": [
    {
     "data": {
      "text/html": [
       "<style>.container { width:100% !important; }</style>"
      ],
      "text/plain": [
       "<IPython.core.display.HTML object>"
      ]
     },
     "metadata": {},
     "output_type": "display_data"
    }
   ],
   "source": [
    "from IPython.core.display import display, HTML\n",
    "display(HTML(\"<style>.container { width:100% !important; }</style>\"))"
   ]
  },
  {
   "cell_type": "code",
   "execution_count": 8,
   "metadata": {},
   "outputs": [],
   "source": [
    "repo_path = '/Users/mincheolkim/Github/'\n",
    "data_path = '/Users/mincheolkim/Documents/'"
   ]
  },
  {
   "cell_type": "code",
   "execution_count": 9,
   "metadata": {},
   "outputs": [],
   "source": [
    "import sys\n",
    "sys.path.append(repo_path + 'scVI')\n",
    "sys.path.append(repo_path + 'scVI-extensions')"
   ]
  },
  {
   "cell_type": "code",
   "execution_count": 10,
   "metadata": {},
   "outputs": [],
   "source": [
    "import os\n",
    "\n",
    "import numpy as np\n",
    "from sklearn.manifold import TSNE\n",
    "from sklearn.datasets import make_spd_matrix\n",
    "import matplotlib\n",
    "%matplotlib inline\n",
    "import matplotlib.pyplot as plt\n",
    "import seaborn as sns\n",
    "from scipy.ndimage.filters import gaussian_filter\n",
    "import pandas as pd\n",
    "import torch\n",
    "import imp\n",
    "\n",
    "from scvi.metrics.clustering import entropy_batch_mixing, get_latent\n",
    "from scvi.models import VAE, SVAEC, VAEC\n",
    "from scvi.inference import VariationalInference\n",
    "from scvi.dataset import GeneExpressionDataset"
   ]
  },
  {
   "cell_type": "code",
   "execution_count": 11,
   "metadata": {},
   "outputs": [],
   "source": [
    "import scvi_extensions.dataset.supervised_data_loader as sdl\n",
    "import scvi_extensions.dataset.cropseq as cs\n",
    "import scvi_extensions.inference.supervised_variational_inference as svi\n",
    "import scvi_extensions.hypothesis_testing.mean as mn\n",
    "import scvi_extensions.models.cvae as cv"
   ]
  },
  {
   "cell_type": "code",
   "execution_count": 12,
   "metadata": {},
   "outputs": [],
   "source": [
    "import scanpy.api as sc\n",
    "from anndata import AnnData"
   ]
  },
  {
   "cell_type": "markdown",
   "metadata": {},
   "source": [
    "### Function for generating data"
   ]
  },
  {
   "cell_type": "code",
   "execution_count": 255,
   "metadata": {},
   "outputs": [],
   "source": [
    "D = 100\n",
    "N = 1000\n",
    "NUM_TRIAL = 100\n",
    "base_exp = 2"
   ]
  },
  {
   "cell_type": "code",
   "execution_count": 256,
   "metadata": {},
   "outputs": [],
   "source": [
    "def generate_data(diff):\n",
    "    sigma_1 = make_spd_matrix(D)\n",
    "    sigma_2 = make_spd_matrix(D)\n",
    "    \n",
    "    means_1 = np.array([base_exp for i in range(D)])\n",
    "    means_2 = np.array([base_exp for i in range(D)])\n",
    "    means_2[4] = base_exp + diff\n",
    "\n",
    "    X_dense = np.concatenate([\n",
    "        np.random.multivariate_normal(means_1, sigma_1, size=int(N/2)),\n",
    "        np.random.multivariate_normal(means_2, sigma_2, size=int(N/2))])\n",
    "\n",
    "    X = np.random.binomial(n=np.clip(np.round(X_dense).astype(np.int64), a_min=0, a_max=None),p=0.1)\n",
    "    labels = np.array([0 for i in range(int(N/2))] + [1 for i in range(int(N/2))])\n",
    "    \n",
    "    dataset = GeneExpressionDataset(*GeneExpressionDataset.get_attributes_from_matrix(X, labels=labels))\n",
    "    dataset.gene_names = np.array(list(range(D)))\n",
    "    \n",
    "    return X_dense, dataset"
   ]
  },
  {
   "cell_type": "code",
   "execution_count": 257,
   "metadata": {},
   "outputs": [
    {
     "data": {
      "text/plain": [
       "0.81122"
      ]
     },
     "execution_count": 257,
     "metadata": {},
     "output_type": "execute_result"
    }
   ],
   "source": [
    "X_dense, gene_dataset = generate_data(10)\n",
    "(gene_dataset.X == 0).sum()/(D*N)"
   ]
  },
  {
   "cell_type": "markdown",
   "metadata": {},
   "source": [
    "### Simulation"
   ]
  },
  {
   "cell_type": "code",
   "execution_count": 258,
   "metadata": {},
   "outputs": [
    {
     "data": {
      "text/plain": [
       "<module 'scvi_extensions.hypothesis_testing.mean' from '/Users/mincheolkim/Github/scVI-extensions/scvi_extensions/hypothesis_testing/mean.py'>"
      ]
     },
     "execution_count": 258,
     "metadata": {},
     "output_type": "execute_result"
    }
   ],
   "source": [
    "imp.reload(cv)\n",
    "imp.reload(svi)\n",
    "imp.reload(mn)"
   ]
  },
  {
   "cell_type": "code",
   "execution_count": 259,
   "metadata": {},
   "outputs": [],
   "source": [
    "n_epochs=100\n",
    "lr=1e-3\n",
    "use_batches=False\n",
    "use_cuda=False"
   ]
  },
  {
   "cell_type": "code",
   "execution_count": 260,
   "metadata": {},
   "outputs": [
    {
     "name": "stdout",
     "output_type": "stream",
     "text": [
      "training: 100%|██████████| 100/100 [00:12<00:00,  8.33it/s]\n",
      "training: 100%|██████████| 100/100 [00:14<00:00,  6.67it/s]\n",
      "Sampling for differential expression...\n",
      "Done sampling for differential expression...\n",
      "Sampling for differential expression...\n",
      "Done sampling for differential expression...\n"
     ]
    }
   ],
   "source": [
    "supervised_bf = []\n",
    "bf = []\n",
    "\n",
    "for diff in [2]:\n",
    "\n",
    "    X_dense, gene_dataset = generate_data(diff)\n",
    "    \n",
    "    # Fit scVI\n",
    "    vae = VAE(gene_dataset.nb_genes, n_batch=gene_dataset.n_batches * use_batches, n_hidden=50, n_latent=10)\n",
    "    infer = VariationalInference(\n",
    "        vae, \n",
    "        gene_dataset, \n",
    "        train_size=0.9, \n",
    "        use_cuda=use_cuda,\n",
    "        verbose=False,\n",
    "        frequency=1)\n",
    "    infer.train(n_epochs=n_epochs, lr=lr)\n",
    "    \n",
    "    # Fit CVAE\n",
    "    cvae = cv.CVAE(gene_dataset.nb_genes, n_labels=gene_dataset.n_labels, n_batch=gene_dataset.n_batches * use_batches, n_hidden=50, n_latent=10)\n",
    "    supervised_infer = svi.SupervisedVariationalInference(\n",
    "        cvae, \n",
    "        gene_dataset, \n",
    "        train_size=0.9, \n",
    "        use_cuda=use_cuda,\n",
    "        verbose=False,\n",
    "        frequency=1)\n",
    "    supervised_infer.train(n_epochs=n_epochs, lr=lr)\n",
    "    \n",
    "    supervised_null, supervised_de = mn.differential_expression(cvae, gene_dataset, [0,1], 100, testing=False)\n",
    "    null, de = mn.differential_expression(vae, gene_dataset, [0,1], 100, testing=False)\n",
    "    \n",
    "    supervised_bf.append(supervised_de[0][1].query('gene == 4')['bayes_factor_mag'].values[0])\n",
    "    bf.append(de[0][1].query('gene == 4')['bayes_factor_mag'].values[0])"
   ]
  },
  {
   "cell_type": "code",
   "execution_count": 261,
   "metadata": {},
   "outputs": [
    {
     "data": {
      "text/plain": [
       "[0.0960738281651885]"
      ]
     },
     "execution_count": 261,
     "metadata": {},
     "output_type": "execute_result"
    }
   ],
   "source": [
    "bf"
   ]
  },
  {
   "cell_type": "code",
   "execution_count": 262,
   "metadata": {},
   "outputs": [
    {
     "data": {
      "text/plain": [
       "[0.751015799078385]"
      ]
     },
     "execution_count": 262,
     "metadata": {},
     "output_type": "execute_result"
    }
   ],
   "source": [
    "supervised_bf"
   ]
  },
  {
   "cell_type": "code",
   "execution_count": 263,
   "metadata": {},
   "outputs": [
    {
     "data": {
      "text/html": [
       "<div>\n",
       "<style scoped>\n",
       "    .dataframe tbody tr th:only-of-type {\n",
       "        vertical-align: middle;\n",
       "    }\n",
       "\n",
       "    .dataframe tbody tr th {\n",
       "        vertical-align: top;\n",
       "    }\n",
       "\n",
       "    .dataframe thead th {\n",
       "        text-align: right;\n",
       "    }\n",
       "</style>\n",
       "<table border=\"1\" class=\"dataframe\">\n",
       "  <thead>\n",
       "    <tr style=\"text-align: right;\">\n",
       "      <th></th>\n",
       "      <th>gene</th>\n",
       "      <th>gene_index</th>\n",
       "      <th>P(H1)</th>\n",
       "      <th>bayes_factor</th>\n",
       "      <th>bayes_factor_mag</th>\n",
       "      <th>pval</th>\n",
       "      <th>direction</th>\n",
       "    </tr>\n",
       "  </thead>\n",
       "  <tbody>\n",
       "    <tr>\n",
       "      <th>75</th>\n",
       "      <td>75</td>\n",
       "      <td>75</td>\n",
       "      <td>0.6131</td>\n",
       "      <td>0.460362</td>\n",
       "      <td>0.460362</td>\n",
       "      <td>0.000000e+00</td>\n",
       "      <td>1.0</td>\n",
       "    </tr>\n",
       "    <tr>\n",
       "      <th>2</th>\n",
       "      <td>2</td>\n",
       "      <td>2</td>\n",
       "      <td>0.5806</td>\n",
       "      <td>0.325237</td>\n",
       "      <td>0.325237</td>\n",
       "      <td>0.000000e+00</td>\n",
       "      <td>1.0</td>\n",
       "    </tr>\n",
       "    <tr>\n",
       "      <th>37</th>\n",
       "      <td>37</td>\n",
       "      <td>37</td>\n",
       "      <td>0.4299</td>\n",
       "      <td>-0.282259</td>\n",
       "      <td>0.282259</td>\n",
       "      <td>1.013312e-34</td>\n",
       "      <td>-1.0</td>\n",
       "    </tr>\n",
       "    <tr>\n",
       "      <th>45</th>\n",
       "      <td>45</td>\n",
       "      <td>45</td>\n",
       "      <td>0.5654</td>\n",
       "      <td>0.263107</td>\n",
       "      <td>0.263107</td>\n",
       "      <td>0.000000e+00</td>\n",
       "      <td>1.0</td>\n",
       "    </tr>\n",
       "    <tr>\n",
       "      <th>48</th>\n",
       "      <td>48</td>\n",
       "      <td>48</td>\n",
       "      <td>0.4373</td>\n",
       "      <td>-0.252127</td>\n",
       "      <td>0.252127</td>\n",
       "      <td>3.825717e-28</td>\n",
       "      <td>-1.0</td>\n",
       "    </tr>\n",
       "  </tbody>\n",
       "</table>\n",
       "</div>"
      ],
      "text/plain": [
       "    gene  gene_index   P(H1)  bayes_factor  bayes_factor_mag          pval  \\\n",
       "75    75          75  0.6131      0.460362          0.460362  0.000000e+00   \n",
       "2      2           2  0.5806      0.325237          0.325237  0.000000e+00   \n",
       "37    37          37  0.4299     -0.282259          0.282259  1.013312e-34   \n",
       "45    45          45  0.5654      0.263107          0.263107  0.000000e+00   \n",
       "48    48          48  0.4373     -0.252127          0.252127  3.825717e-28   \n",
       "\n",
       "    direction  \n",
       "75        1.0  \n",
       "2         1.0  \n",
       "37       -1.0  \n",
       "45        1.0  \n",
       "48       -1.0  "
      ]
     },
     "execution_count": 263,
     "metadata": {},
     "output_type": "execute_result"
    }
   ],
   "source": [
    "de[0][1].head(5)"
   ]
  },
  {
   "cell_type": "code",
   "execution_count": 264,
   "metadata": {},
   "outputs": [
    {
     "data": {
      "text/html": [
       "<div>\n",
       "<style scoped>\n",
       "    .dataframe tbody tr th:only-of-type {\n",
       "        vertical-align: middle;\n",
       "    }\n",
       "\n",
       "    .dataframe tbody tr th {\n",
       "        vertical-align: top;\n",
       "    }\n",
       "\n",
       "    .dataframe thead th {\n",
       "        text-align: right;\n",
       "    }\n",
       "</style>\n",
       "<table border=\"1\" class=\"dataframe\">\n",
       "  <thead>\n",
       "    <tr style=\"text-align: right;\">\n",
       "      <th></th>\n",
       "      <th>gene</th>\n",
       "      <th>gene_index</th>\n",
       "      <th>P(H1)</th>\n",
       "      <th>bayes_factor</th>\n",
       "      <th>bayes_factor_mag</th>\n",
       "      <th>pval</th>\n",
       "      <th>direction</th>\n",
       "    </tr>\n",
       "  </thead>\n",
       "  <tbody>\n",
       "    <tr>\n",
       "      <th>62</th>\n",
       "      <td>62</td>\n",
       "      <td>62</td>\n",
       "      <td>0.6937</td>\n",
       "      <td>0.817475</td>\n",
       "      <td>0.817475</td>\n",
       "      <td>0.000000e+00</td>\n",
       "      <td>1.0</td>\n",
       "    </tr>\n",
       "    <tr>\n",
       "      <th>4</th>\n",
       "      <td>4</td>\n",
       "      <td>4</td>\n",
       "      <td>0.3206</td>\n",
       "      <td>-0.751016</td>\n",
       "      <td>0.751016</td>\n",
       "      <td>1.104228e-262</td>\n",
       "      <td>-1.0</td>\n",
       "    </tr>\n",
       "    <tr>\n",
       "      <th>58</th>\n",
       "      <td>58</td>\n",
       "      <td>58</td>\n",
       "      <td>0.6675</td>\n",
       "      <td>0.696900</td>\n",
       "      <td>0.696900</td>\n",
       "      <td>0.000000e+00</td>\n",
       "      <td>1.0</td>\n",
       "    </tr>\n",
       "    <tr>\n",
       "      <th>77</th>\n",
       "      <td>77</td>\n",
       "      <td>77</td>\n",
       "      <td>0.6652</td>\n",
       "      <td>0.686554</td>\n",
       "      <td>0.686554</td>\n",
       "      <td>0.000000e+00</td>\n",
       "      <td>1.0</td>\n",
       "    </tr>\n",
       "    <tr>\n",
       "      <th>15</th>\n",
       "      <td>15</td>\n",
       "      <td>15</td>\n",
       "      <td>0.6560</td>\n",
       "      <td>0.645519</td>\n",
       "      <td>0.645519</td>\n",
       "      <td>0.000000e+00</td>\n",
       "      <td>1.0</td>\n",
       "    </tr>\n",
       "  </tbody>\n",
       "</table>\n",
       "</div>"
      ],
      "text/plain": [
       "    gene  gene_index   P(H1)  bayes_factor  bayes_factor_mag           pval  \\\n",
       "62    62          62  0.6937      0.817475          0.817475   0.000000e+00   \n",
       "4      4           4  0.3206     -0.751016          0.751016  1.104228e-262   \n",
       "58    58          58  0.6675      0.696900          0.696900   0.000000e+00   \n",
       "77    77          77  0.6652      0.686554          0.686554   0.000000e+00   \n",
       "15    15          15  0.6560      0.645519          0.645519   0.000000e+00   \n",
       "\n",
       "    direction  \n",
       "62        1.0  \n",
       "4        -1.0  \n",
       "58        1.0  \n",
       "77        1.0  \n",
       "15        1.0  "
      ]
     },
     "execution_count": 264,
     "metadata": {},
     "output_type": "execute_result"
    }
   ],
   "source": [
    "supervised_de[0][1].head(5)"
   ]
  },
  {
   "cell_type": "code",
   "execution_count": 265,
   "metadata": {},
   "outputs": [],
   "source": [
    "adata = AnnData(gene_dataset.X)"
   ]
  },
  {
   "cell_type": "code",
   "execution_count": 266,
   "metadata": {},
   "outputs": [],
   "source": [
    "adata.obs['group'] = gene_dataset.labels.reshape(-1)\n",
    "adata.obs['group'] = adata.obs['group'].astype('category')"
   ]
  },
  {
   "cell_type": "code",
   "execution_count": 267,
   "metadata": {},
   "outputs": [
    {
     "data": {
      "image/png": "[encoded data removed]",
      "text/plain": [
       "<Figure size 1728x288 with 2 Axes>"
      ]
     },
     "metadata": {},
     "output_type": "display_data"
    }
   ],
   "source": [
    "sc.tl.rank_genes_groups(adata, 'group')\n",
    "sc.pl.rank_genes_groups(adata, n_genes=5, sharey=False)"
   ]
  }
 ],
 "metadata": {
  "kernelspec": {
   "display_name": "Python [conda env:scvi]",
   "language": "python",
   "name": "conda-env-scvi-py"
  },
  "language_info": {
   "codemirror_mode": {
    "name": "ipython",
    "version": 3
   },
   "file_extension": ".py",
   "mimetype": "text/x-python",
   "name": "python",
   "nbconvert_exporter": "python",
   "pygments_lexer": "ipython3",
   "version": "3.6.5"
  }
 },
 "nbformat": 4,
 "nbformat_minor": 2
}
