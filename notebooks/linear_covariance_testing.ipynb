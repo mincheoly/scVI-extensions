{
 "cells": [
  {
   "cell_type": "markdown",
   "metadata": {},
   "source": [
    "# Linear Covariance Testing\n",
    "\n",
    "Use linear mixed effect models to test the effect of the guide on the covariance of IRF4 and BATF and target genes."
   ]
  },
  {
   "cell_type": "markdown",
   "metadata": {},
   "source": [
    "### Import"
   ]
  },
  {
   "cell_type": "code",
   "execution_count": 1,
   "metadata": {},
   "outputs": [
    {
     "data": {
      "text/html": [
       "<style>.container { width:100% !important; }</style>"
      ],
      "text/plain": [
       "<IPython.core.display.HTML object>"
      ]
     },
     "metadata": {},
     "output_type": "display_data"
    }
   ],
   "source": [
    "from IPython.core.display import display, HTML\n",
    "import warnings\n",
    "warnings.filterwarnings('ignore')\n",
    "display(HTML(\"<style>.container { width:100% !important; }</style>\"))\n",
    "%matplotlib inline"
   ]
  },
  {
   "cell_type": "code",
   "execution_count": 2,
   "metadata": {},
   "outputs": [],
   "source": [
    "repo_path = '/Users/mincheolkim/Github/'\n",
    "data_path = '/Users/mincheolkim/Documents/'"
   ]
  },
  {
   "cell_type": "code",
   "execution_count": 3,
   "metadata": {},
   "outputs": [],
   "source": [
    "import sys\n",
    "sys.path.append(repo_path + 'scVI')\n",
    "sys.path.append(repo_path + 'scVI-extensions')"
   ]
  },
  {
   "cell_type": "code",
   "execution_count": 4,
   "metadata": {},
   "outputs": [],
   "source": [
    "import statsmodels.api as sm\n",
    "import statsmodels.formula.api as smf\n",
    "import imp\n",
    "import numpy as np\n",
    "import pandas as pd"
   ]
  },
  {
   "cell_type": "code",
   "execution_count": 5,
   "metadata": {},
   "outputs": [],
   "source": [
    "import scvi_extensions.dataset.supervised_data_loader as sdl\n",
    "import scvi_extensions.dataset.cropseq as cs\n",
    "import scvi_extensions.inference.supervised_variational_inference as svi\n",
    "import scvi_extensions.hypothesis_testing.mean as mn\n",
    "import scvi_extensions.hypothesis_testing.variance as vr\n",
    "import scvi_extensions.dataset.label_data_loader as ldl"
   ]
  },
  {
   "cell_type": "code",
   "execution_count": 13,
   "metadata": {},
   "outputs": [],
   "source": [
    "import scanpy.api as sc"
   ]
  },
  {
   "cell_type": "markdown",
   "metadata": {},
   "source": [
    "### Load a dataset"
   ]
  },
  {
   "cell_type": "code",
   "execution_count": 6,
   "metadata": {},
   "outputs": [],
   "source": [
    "h5_filename = data_path + 'raw_gene_bc_matrices_h5.h5'\n",
    "metadata_filename = data_path + 'nsnp20.raw.sng.km_vb1_default.norm.meta.txt'"
   ]
  },
  {
   "cell_type": "code",
   "execution_count": 7,
   "metadata": {},
   "outputs": [
    {
     "name": "stdout",
     "output_type": "stream",
     "text": [
      "Preprocessing CROP-seq dataset\n",
      "Number of cells kept after filtering with metadata: 283634\n",
      "Number of cells kept after removing all zero cells: 283634\n",
      "Finished preprocessing CROP-seq dataset\n"
     ]
    }
   ],
   "source": [
    "imp.reload(cs)\n",
    "# Load the dataset\n",
    "gene_dataset = cs.CropseqDataset(\n",
    "    filename=h5_filename,\n",
    "    metadata_filename=metadata_filename,\n",
    "    batch='wells',\n",
    "    use_labels='gene',\n",
    "    save_path='')"
   ]
  },
  {
   "cell_type": "markdown",
   "metadata": {},
   "source": [
    "### Read into scanpy"
   ]
  },
  {
   "cell_type": "code",
   "execution_count": 14,
   "metadata": {},
   "outputs": [],
   "source": [
    "embedded_adata = sc.read('/Users/mincheolkim/Documents/nsnp20.raw.sng.km_vb1_default.pc60.norm.h5ad')"
   ]
  },
  {
   "cell_type": "code",
   "execution_count": 11,
   "metadata": {},
   "outputs": [
    {
     "data": {
      "text/plain": [
       "NO_GUIDE    87336\n",
       "FUBP1        4908\n",
       "YEATS4       3863\n",
       "IFI16        3403\n",
       "VDR          2611\n",
       "FUS          2604\n",
       "GTF2H2       2520\n",
       "NFATC3       2519\n",
       "ZNF706       2438\n",
       "RFX2         2431\n",
       "DDB2         2385\n",
       "ATF4         2343\n",
       "ELK1         2343\n",
       "EZH2         2317\n",
       "ZNF146       2186\n",
       "SMAD2        2172\n",
       "RBBP7        2134\n",
       "HDAC3        2118\n",
       "NCOA3        2103\n",
       "HOPX         2092\n",
       "HMGB1        2049\n",
       "ARID5A       2037\n",
       "IRF2         2007\n",
       "ZBED2        1969\n",
       "GABPA        1964\n",
       "IRF8         1906\n",
       "SATB1        1900\n",
       "MIER1        1824\n",
       "ELF5         1817\n",
       "PHB          1813\n",
       "            ...  \n",
       "SNW1          927\n",
       "BATF          915\n",
       "BACH2         911\n",
       "ZNF207        904\n",
       "PHTF2         861\n",
       "JUNB          856\n",
       "ZFP36L1       856\n",
       "E2F4          850\n",
       "ZNF593        848\n",
       "MAZ           839\n",
       "NFKBIA        828\n",
       "NRF1          806\n",
       "HIF1A         804\n",
       "TAF9          798\n",
       "RBPJ          793\n",
       "STAT5A        773\n",
       "SFPQ          758\n",
       "POLR2A        756\n",
       "STAT6         742\n",
       "RUNX1         727\n",
       "RPL7          707\n",
       "NOC4L         627\n",
       "PREB          594\n",
       "JUN           587\n",
       "SMARCE1       498\n",
       "PHF5A         470\n",
       "PCBP1         464\n",
       "HNRNPK        463\n",
       "MYC           415\n",
       "RPL7A         301\n",
       "Length: 141, dtype: int64"
      ]
     },
     "execution_count": 11,
     "metadata": {},
     "output_type": "execute_result"
    }
   ],
   "source": [
    "pd.Series(gene_dataset.ko_gene.reshape(-1)).value_counts()"
   ]
  },
  {
   "cell_type": "markdown",
   "metadata": {},
   "source": [
    "### Create a dataframe with relevant cells"
   ]
  },
  {
   "cell_type": "code",
   "execution_count": 135,
   "metadata": {},
   "outputs": [],
   "source": [
    "ko_genes = ['NO_GUIDE', 'BATF', 'IRF4', 'JUNB', 'STAT1']\n",
    "genes_of_interest = [\n",
    "    'BATF', \n",
    "    'IRF4', \n",
    "    'JUNB', \n",
    "    'RORC',\n",
    "    'BCL6', 'MAF', 'IL10', 'IL17A', 'IL17B', 'CYCS', 'IL2', 'CMIP', 'IFNG', 'IL4', 'IL5', 'STAT1',\n",
    "    'IL21', 'IL23R']#,'IL1RB1',]\n",
    "goi_indices = [np.where(gene_dataset.gene_names == gene)[0][0] for gene in genes_of_interest]"
   ]
  },
  {
   "cell_type": "code",
   "execution_count": 136,
   "metadata": {},
   "outputs": [
    {
     "data": {
      "text/plain": [
       "array(['ARID5A', 'ARID5B', 'ASCC1', 'ATF3', 'ATF4', 'ATF6', 'BACH1',\n",
       "       'BACH2', 'BATF', 'BCLAF1', 'BHLHE40', 'CBFB', 'CEBPZ', 'CREM',\n",
       "       'CTCF', 'CTCFL', 'DCP1A', 'DDB2', 'DDX3X', 'DNMT1', 'DPF2', 'DR1',\n",
       "       'E2F4', 'EGR1', 'EGR2', 'ELF1', 'ELF5', 'ELK1', 'ELK4', 'ENO1',\n",
       "       'ERG', 'ETS1', 'ETV1', 'EWSR1', 'EZH2', 'FLI1', 'FOSL2', 'FOXP1',\n",
       "       'FUBP1', 'FUS', 'GABPA', 'GABPB1', 'GTF2H2', 'GTF2I', 'GTF3A',\n",
       "       'HCFC1', 'HDAC3', 'HIF1A', 'HMGA1', 'HMGB1', 'HNRNPK', 'HOPX',\n",
       "       'ID2', 'IFI16', 'IKZF1', 'IRF1', 'IRF2', 'IRF4', 'IRF8', 'JUN',\n",
       "       'JUNB', 'KLF6', 'LRRFIP1', 'MAF1', 'MAFA', 'MAFK', 'MATR3', 'MAZ',\n",
       "       'MIER1', 'MLX', 'MTA2', 'MYC', 'NCOA3', 'NCOA4', 'NFATC3',\n",
       "       'NFKBIA', 'NOC4L', 'NONO', 'NO_GUIDE', 'NRF1', 'PARP1', 'PCBP1',\n",
       "       'PCBP2', 'PHB', 'PHB2', 'PHF5A', 'PHTF2', 'PLAGL2', 'POLR2A',\n",
       "       'PRDM1', 'PREB', 'RBBP7', 'RBPJ', 'RC3H1', 'RFX2', 'RPL7', 'RPL7A',\n",
       "       'RUNX1', 'RUNX2', 'SATB1', 'SFPQ', 'SLC30A9', 'SMAD2', 'SMARCA5',\n",
       "       'SMARCE1', 'SNW1', 'SP1', 'SRA1', 'SSRP1', 'STAT1', 'STAT3',\n",
       "       'STAT5A', 'STAT6', 'SUB1', 'TAF7', 'TAF9', 'TCF19', 'TCF25',\n",
       "       'TFAM', 'TFB2M', 'TFDP1', 'THAP5', 'TOE1', 'TOX4', 'TP53', 'VDR',\n",
       "       'XBP1', 'YBX1', 'YEATS4', 'ZBED2', 'ZC3H15', 'ZFP36L1', 'ZNF146',\n",
       "       'ZNF207', 'ZNF24', 'ZNF410', 'ZNF460', 'ZNF511', 'ZNF593',\n",
       "       'ZNF622', 'ZNF706'], dtype=object)"
      ]
     },
     "execution_count": 136,
     "metadata": {},
     "output_type": "execute_result"
    }
   ],
   "source": [
    "gene_dataset.ko_gene_lookup"
   ]
  },
  {
   "cell_type": "code",
   "execution_count": 188,
   "metadata": {},
   "outputs": [
    {
     "name": "stdout",
     "output_type": "stream",
     "text": [
      "NO_GUIDE 87336\n",
      "BATF 915\n",
      "IRF4 961\n",
      "JUNB 856\n",
      "STAT1 1458\n"
     ]
    }
   ],
   "source": [
    "dfs=[]\n",
    "for ko_gene in ko_genes:\n",
    "    indices = (gene_dataset.labels == np.where(gene_dataset.ko_gene_lookup == ko_gene)[0][0]).reshape(-1)\n",
    "    print(ko_gene, indices.sum())\n",
    "    expr = gene_dataset.X[indices, :].astype(float)\n",
    "    umi_counts = expr.sum(axis=1)\n",
    "    df = pd.DataFrame(expr[:, goi_indices].todense()/umi_counts, columns=genes_of_interest)\n",
    "    \n",
    "    for gene in genes_of_interest:\n",
    "        df[gene + '_std'] = (df[gene] - df[gene].mean())/np.sqrt(df[gene].var())\n",
    "    df['ko_gene'] = ko_gene\n",
    "    df['donor'] = pd.Series(gene_dataset.donor_batches[indices].reshape(-1)).astype(int)\n",
    "    df['louvain'] = gene_dataset.louvain[indices].reshape(-1)\n",
    "    df['well'] = gene_dataset.wells[indices].reshape(-1)\n",
    "    dfs.append(df)\n",
    "df = pd.get_dummies(pd.concat(dfs), columns=['ko_gene'])"
   ]
  },
  {
   "cell_type": "markdown",
   "metadata": {},
   "source": [
    "### Compute covariances of interest and decide the group"
   ]
  },
  {
   "cell_type": "code",
   "execution_count": 189,
   "metadata": {},
   "outputs": [],
   "source": [
    "def compute_point_cov(s1, s2):\n",
    "   return df[s1 + '_std']*df[s2 + '_std']"
   ]
  },
  {
   "cell_type": "code",
   "execution_count": 190,
   "metadata": {},
   "outputs": [],
   "source": [
    "groups = 'donor'"
   ]
  },
  {
   "cell_type": "markdown",
   "metadata": {},
   "source": [
    "### Get some general sense of how sparse these genes are\n",
    "\n",
    "IRF4 isnt detected for most cells, so I'm going to test BATF using IRF4 KO cells."
   ]
  },
  {
   "cell_type": "code",
   "execution_count": 191,
   "metadata": {},
   "outputs": [],
   "source": [
    "df['cov_BATF_RORC'] = compute_point_cov('BATF', 'RORC')\n",
    "df['cov_IRF4_RORC'] = compute_point_cov('IRF4', 'RORC')\n",
    "df['cov_BATF_IFNG'] = compute_point_cov('BATF', 'IFNG')\n",
    "df['cov_IRF4_IFNG'] = compute_point_cov('IRF4', 'IFNG')"
   ]
  },
  {
   "cell_type": "code",
   "execution_count": 192,
   "metadata": {},
   "outputs": [],
   "source": [
    "df['cov_BATF_RORC'] = compute_point_cov('BATF', 'RORC')\n",
    "df['cov_IRF4_RORC'] = compute_point_cov('IRF4', 'RORC')\n",
    "df['cov_STAT1_IFNG'] = compute_point_cov('STAT1', 'IFNG')\n",
    "df['cov_IRF4_IFNG'] = compute_point_cov('IRF4', 'IFNG')"
   ]
  },
  {
   "cell_type": "markdown",
   "metadata": {},
   "source": [
    "### Test differential BATF/RORC covariance between IRF4 KO cells and NO_GUIDE cells"
   ]
  },
  {
   "cell_type": "code",
   "execution_count": 194,
   "metadata": {},
   "outputs": [
    {
     "name": "stdout",
     "output_type": "stream",
     "text": [
      "           Mixed Linear Model Regression Results\n",
      "============================================================\n",
      "Model:            MixedLM Dependent Variable: cov_STAT1_IFNG\n",
      "No. Observations: 88794   Method:             REML          \n",
      "No. Groups:       9       Scale:              0.6086        \n",
      "Min. group size:  7571    Likelihood:         -103952.9886  \n",
      "Max. group size:  11927   Converged:          Yes           \n",
      "Mean group size:  9866.0                                    \n",
      "------------------------------------------------------------\n",
      "                  Coef.  Std.Err.   z    P>|z| [0.025 0.975]\n",
      "------------------------------------------------------------\n",
      "Intercept         -0.037    0.020 -1.806 0.071 -0.077  0.003\n",
      "ko_gene_NO_GUIDE   0.021    0.021  1.041 0.298 -0.019  0.062\n",
      "Group Var          0.000    0.000                           \n",
      "============================================================\n",
      "\n"
     ]
    },
    {
     "name": "stderr",
     "output_type": "stream",
     "text": [
      "/anaconda3/envs/scvi/lib/python3.6/site-packages/statsmodels/regression/mixed_linear_model.py:2045: ConvergenceWarning: The MLE may be on the boundary of the parameter space.\n",
      "  warnings.warn(msg, ConvergenceWarning)\n"
     ]
    }
   ],
   "source": [
    "print(smf.mixedlm(\n",
    "    'cov_STAT1_IFNG ~ ko_gene_NO_GUIDE',\n",
    "    df.query('ko_gene_STAT1 > 0 | ko_gene_NO_GUIDE > 0'),\n",
    "    groups=df.query('ko_gene_STAT1 > 0 | ko_gene_NO_GUIDE > 0')[groups]).fit(maxiter=2000, method='nm').summary())"
   ]
  },
  {
   "cell_type": "markdown",
   "metadata": {},
   "source": [
    "### Scratch"
   ]
  },
  {
   "cell_type": "code",
   "execution_count": 23,
   "metadata": {},
   "outputs": [],
   "source": [
    "temp = (gene_dataset.X > 0).sum(axis=0)"
   ]
  },
  {
   "cell_type": "code",
   "execution_count": 34,
   "metadata": {},
   "outputs": [
    {
     "data": {
      "text/plain": [
       "4912"
      ]
     },
     "execution_count": 34,
     "metadata": {},
     "output_type": "execute_result"
    }
   ],
   "source": [
    "(temp > gene_dataset.X.shape[0]*0.05).sum()"
   ]
  },
  {
   "cell_type": "code",
   "execution_count": 31,
   "metadata": {},
   "outputs": [
    {
     "data": {
      "text/plain": [
       "0.75"
      ]
     },
     "execution_count": 31,
     "metadata": {},
     "output_type": "execute_result"
    }
   ],
   "source": [
    "min(1, 300/400)"
   ]
  },
  {
   "cell_type": "code",
   "execution_count": 33,
   "metadata": {},
   "outputs": [
    {
     "data": {
      "text/plain": [
       "0.0028"
      ]
     },
     "execution_count": 33,
     "metadata": {},
     "output_type": "execute_result"
    }
   ],
   "source": [
    "700/250000"
   ]
  },
  {
   "cell_type": "code",
   "execution_count": null,
   "metadata": {},
   "outputs": [],
   "source": []
  }
 ],
 "metadata": {
  "kernelspec": {
   "display_name": "Python [conda env:scvi]",
   "language": "python",
   "name": "conda-env-scvi-py"
  },
  "language_info": {
   "codemirror_mode": {
    "name": "ipython",
    "version": 3
   },
   "file_extension": ".py",
   "mimetype": "text/x-python",
   "name": "python",
   "nbconvert_exporter": "python",
   "pygments_lexer": "ipython3",
   "version": "3.6.5"
  }
 },
 "nbformat": 4,
 "nbformat_minor": 2
}
