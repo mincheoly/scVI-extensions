{
 "cells": [
  {
   "cell_type": "markdown",
   "metadata": {},
   "source": [
    "# Linear Covariance Testing\n",
    "\n",
    "Use linear mixed effect models to test the effect of the guide on the covariance of IRF4 and BATF and target genes."
   ]
  },
  {
   "cell_type": "markdown",
   "metadata": {},
   "source": [
    "### Import"
   ]
  },
  {
   "cell_type": "code",
   "execution_count": 6,
   "metadata": {},
   "outputs": [
    {
     "data": {
      "text/html": [
       "<style>.container { width:100% !important; }</style>"
      ],
      "text/plain": [
       "<IPython.core.display.HTML object>"
      ]
     },
     "metadata": {},
     "output_type": "display_data"
    }
   ],
   "source": [
    "from IPython.core.display import display, HTML\n",
    "import warnings\n",
    "warnings.filterwarnings('ignore')\n",
    "display(HTML(\"<style>.container { width:100% !important; }</style>\"))"
   ]
  },
  {
   "cell_type": "code",
   "execution_count": 7,
   "metadata": {},
   "outputs": [],
   "source": [
    "repo_path = '/Users/mincheolkim/Github/'\n",
    "data_path = '/Users/mincheolkim/Documents/'"
   ]
  },
  {
   "cell_type": "code",
   "execution_count": 8,
   "metadata": {},
   "outputs": [],
   "source": [
    "import sys\n",
    "sys.path.append(repo_path + 'scVI')\n",
    "sys.path.append(repo_path + 'scVI-extensions')"
   ]
  },
  {
   "cell_type": "code",
   "execution_count": 14,
   "metadata": {},
   "outputs": [],
   "source": [
    "import statsmodels.api as sm\n",
    "import statsmodels.formula.api as smf"
   ]
  },
  {
   "cell_type": "code",
   "execution_count": 10,
   "metadata": {},
   "outputs": [],
   "source": [
    "import scvi_extensions.dataset.supervised_data_loader as sdl\n",
    "import scvi_extensions.dataset.cropseq as cs\n",
    "import scvi_extensions.inference.supervised_variational_inference as svi\n",
    "import scvi_extensions.hypothesis_testing.mean as mn\n",
    "import scvi_extensions.hypothesis_testing.variance as vr\n",
    "import scvi_extensions.dataset.label_data_loader as ldl"
   ]
  },
  {
   "cell_type": "markdown",
   "metadata": {},
   "source": [
    "### Load a dataset"
   ]
  },
  {
   "cell_type": "code",
   "execution_count": 11,
   "metadata": {},
   "outputs": [],
   "source": [
    "h5_filename = data_path + 'raw_gene_bc_matrices_h5.h5'\n",
    "metadata_filename = data_path + 'nsnp20.raw.sng.km_vb1_default.norm.meta.txt'"
   ]
  },
  {
   "cell_type": "code",
   "execution_count": 13,
   "metadata": {},
   "outputs": [
    {
     "name": "stdout",
     "output_type": "stream",
     "text": [
      "Preprocessing CROP-seq dataset\n",
      "Number of cells kept after filtering with metadata: 283634\n",
      "Number of cells kept after removing all zero cells: 283634\n",
      "Finished preprocessing CROP-seq dataset\n"
     ]
    }
   ],
   "source": [
    "imp.reload(cs)\n",
    "# Load the dataset\n",
    "gene_dataset = cs.CropseqDataset(\n",
    "    filename=h5_filename,\n",
    "    metadata_filename=metadata_filename,\n",
    "    batch='wells',\n",
    "    use_labels='gene',\n",
    "    save_path='')"
   ]
  },
  {
   "cell_type": "markdown",
   "metadata": {},
   "source": [
    "### Create a dataframe with relevant cells"
   ]
  },
  {
   "cell_type": "code",
   "execution_count": 143,
   "metadata": {},
   "outputs": [],
   "source": [
    "ko_genes = ['NO_GUIDE', 'BATF', 'IRF4', 'JUNB']\n",
    "genes_of_interest = ['BATF', 'IRF4', 'JUNB', 'RORC', 'BCL6', 'MAF', 'IL10']\n",
    "goi_indices = [np.where(gene_dataset.gene_names == gene)[0][0] for gene in genes_of_interest]"
   ]
  },
  {
   "cell_type": "code",
   "execution_count": 230,
   "metadata": {},
   "outputs": [
    {
     "name": "stdout",
     "output_type": "stream",
     "text": [
      "NO_GUIDE 87336\n",
      "BATF 915\n",
      "IRF4 961\n",
      "JUNB 856\n"
     ]
    }
   ],
   "source": [
    "dfs=[]\n",
    "for ko_gene in ko_genes:\n",
    "    indices = (gene_dataset.labels == np.where(gene_dataset.ko_gene_lookup == ko_gene)[0][0]).reshape(-1)\n",
    "    print(ko_gene, indices.sum())\n",
    "    expr = gene_dataset.X[indices, :].astype(float)\n",
    "    umi_counts = expr.sum(axis=1)\n",
    "    df = pd.DataFrame(expr[:, goi_indices].todense(), columns=genes_of_interest)\n",
    "    df['ko_gene'] = ko_gene\n",
    "    df['donor'] = pd.Series(gene_dataset.donor_batches[indices].reshape(-1)).astype(int)\n",
    "    df['louvain'] = gene_dataset.louvain[indices].reshape(-1)\n",
    "    dfs.append(df)\n",
    "df = pd.get_dummies(pd.concat(dfs), columns=['ko_gene'])"
   ]
  },
  {
   "cell_type": "markdown",
   "metadata": {},
   "source": [
    "### Compute covariances of interest and decide the group"
   ]
  },
  {
   "cell_type": "code",
   "execution_count": 231,
   "metadata": {},
   "outputs": [],
   "source": [
    "def compute_point_cov(s1, s2):\n",
    "    return (df[s1]-df[s1].mean())*(df[s2]-df[s2].mean())"
   ]
  },
  {
   "cell_type": "code",
   "execution_count": 233,
   "metadata": {},
   "outputs": [],
   "source": [
    "df['cov_BATF_RORC'] = compute_point_cov('BATF', 'RORC')\n",
    "df['cov_IRF4_RORC'] = compute_point_cov('IRF4', 'RORC')"
   ]
  },
  {
   "cell_type": "code",
   "execution_count": 290,
   "metadata": {},
   "outputs": [],
   "source": [
    "groups = 'donor'"
   ]
  },
  {
   "cell_type": "markdown",
   "metadata": {},
   "source": [
    "### Get some general sense of how sparse these genes are\n",
    "\n",
    "IRF4 isnt detected for most cells, so I'm going to test BATF using IRF4 KO cells."
   ]
  },
  {
   "cell_type": "code",
   "execution_count": 291,
   "metadata": {},
   "outputs": [
    {
     "data": {
      "text/plain": [
       "(14205, 17)"
      ]
     },
     "execution_count": 291,
     "metadata": {},
     "output_type": "execute_result"
    }
   ],
   "source": [
    "df.query('BATF > 0').shape"
   ]
  },
  {
   "cell_type": "code",
   "execution_count": 292,
   "metadata": {},
   "outputs": [
    {
     "data": {
      "text/plain": [
       "(1147, 17)"
      ]
     },
     "execution_count": 292,
     "metadata": {},
     "output_type": "execute_result"
    }
   ],
   "source": [
    "df.query('IRF4 > 0').shape"
   ]
  },
  {
   "cell_type": "markdown",
   "metadata": {},
   "source": [
    "### Test differential BATF/RORC covariance between IRF4 KO cells and NO_GUIDE cells\n",
    "\n",
    "p_value 0.006, shows some significance"
   ]
  },
  {
   "cell_type": "code",
   "execution_count": 298,
   "metadata": {},
   "outputs": [
    {
     "name": "stdout",
     "output_type": "stream",
     "text": [
      "           Mixed Linear Model Regression Results\n",
      "===========================================================\n",
      "Model:            MixedLM Dependent Variable: cov_BATF_RORC\n",
      "No. Observations: 88297   Method:             REML         \n",
      "No. Groups:       9       Scale:              0.0123       \n",
      "Min. group size:  7565    Likelihood:         69046.8944   \n",
      "Max. group size:  11814   Converged:          Yes          \n",
      "Mean group size:  9810.8                                   \n",
      "------------------------------------------------------------\n",
      "               Coef.  Std.Err.    z    P>|z|  [0.025  0.975]\n",
      "------------------------------------------------------------\n",
      "Intercept      0.002     0.000  4.702  0.000   0.001   0.003\n",
      "ko_gene_IRF4   0.010     0.004  2.758  0.006   0.003   0.017\n",
      "Group Var      0.000     0.000                              \n",
      "===========================================================\n",
      "\n"
     ]
    },
    {
     "name": "stderr",
     "output_type": "stream",
     "text": [
      "/anaconda3/envs/scvi/lib/python3.6/site-packages/statsmodels/regression/mixed_linear_model.py:2045: ConvergenceWarning: The MLE may be on the boundary of the parameter space.\n",
      "  warnings.warn(msg, ConvergenceWarning)\n"
     ]
    }
   ],
   "source": [
    "print(smf.mixedlm(\n",
    "    'cov_BATF_RORC ~ ko_gene_IRF4',\n",
    "    df.query('ko_gene_IRF4 > 0 | ko_gene_NO_GUIDE > 0'),\n",
    "    groups=df.query('ko_gene_IRF4 > 0 | ko_gene_NO_GUIDE > 0')[groups]).fit(maxiter=1000, method='nm').summary())"
   ]
  },
  {
   "cell_type": "markdown",
   "metadata": {},
   "source": [
    "### Test differential BATF/RORC covariance between BATF KO cells and IRF4 KO cells\n",
    "\n",
    "p_value 0.165, significance goes away."
   ]
  },
  {
   "cell_type": "code",
   "execution_count": 299,
   "metadata": {},
   "outputs": [
    {
     "name": "stdout",
     "output_type": "stream",
     "text": [
      "           Mixed Linear Model Regression Results\n",
      "===========================================================\n",
      "Model:            MixedLM Dependent Variable: cov_BATF_RORC\n",
      "No. Observations: 1876    Method:             REML         \n",
      "No. Groups:       9       Scale:              0.0293       \n",
      "Min. group size:  149     Likelihood:         641.3140     \n",
      "Max. group size:  266     Converged:          Yes          \n",
      "Mean group size:  208.4                                    \n",
      "------------------------------------------------------------\n",
      "               Coef.  Std.Err.    z    P>|z|  [0.025  0.975]\n",
      "------------------------------------------------------------\n",
      "Intercept      0.001     0.006  0.194  0.846  -0.011   0.013\n",
      "ko_gene_IRF4   0.011     0.008  1.388  0.165  -0.005   0.026\n",
      "Group Var      0.000     0.001                              \n",
      "===========================================================\n",
      "\n"
     ]
    },
    {
     "name": "stderr",
     "output_type": "stream",
     "text": [
      "/anaconda3/envs/scvi/lib/python3.6/site-packages/statsmodels/regression/mixed_linear_model.py:2045: ConvergenceWarning: The MLE may be on the boundary of the parameter space.\n",
      "  warnings.warn(msg, ConvergenceWarning)\n"
     ]
    }
   ],
   "source": [
    "print(smf.mixedlm(\n",
    "    'cov_BATF_RORC ~ ko_gene_IRF4',\n",
    "    df.query('ko_gene_BATF > 0 | ko_gene_IRF4 > 0'),\n",
    "    groups=df.query('ko_gene_BATF > 0 | ko_gene_IRF4 > 0')[groups]).fit(maxiter=1000, method='nm').summary())"
   ]
  },
  {
   "cell_type": "markdown",
   "metadata": {},
   "source": [
    "### Boxplot"
   ]
  }
 ],
 "metadata": {
  "kernelspec": {
   "display_name": "Python [conda env:scvi]",
   "language": "python",
   "name": "conda-env-scvi-py"
  },
  "language_info": {
   "codemirror_mode": {
    "name": "ipython",
    "version": 3
   },
   "file_extension": ".py",
   "mimetype": "text/x-python",
   "name": "python",
   "nbconvert_exporter": "python",
   "pygments_lexer": "ipython3",
   "version": "3.6.5"
  }
 },
 "nbformat": 4,
 "nbformat_minor": 2
}
