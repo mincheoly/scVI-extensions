{
 "cells": [
  {
   "cell_type": "markdown",
   "metadata": {
    "nbpresent": {
     "id": "594fa366-b4d9-4743-8a08-256df372fb40"
    }
   },
   "source": [
    "# Guide distribution plots"
   ]
  },
  {
   "cell_type": "markdown",
   "metadata": {
    "nbpresent": {
     "id": "d72a9172-1d44-400d-93ec-a8faa879c4a5"
    }
   },
   "source": [
    "### Imports"
   ]
  },
  {
   "cell_type": "code",
   "execution_count": 1,
   "metadata": {
    "nbpresent": {
     "id": "6a4f25a9-cd04-4b4c-81b3-c8b54a7922b5"
    }
   },
   "outputs": [
    {
     "name": "stderr",
     "output_type": "stream",
     "text": [
      "/anaconda3/envs/scvi/lib/python3.6/site-packages/h5py/__init__.py:36: FutureWarning: Conversion of the second argument of issubdtype from `float` to `np.floating` is deprecated. In future, it will be treated as `np.float64 == np.dtype(float).type`.\n",
      "  from ._conv import register_converters as _register_converters\n"
     ]
    }
   ],
   "source": [
    "import scanpy.api as sc"
   ]
  },
  {
   "cell_type": "code",
   "execution_count": 2,
   "metadata": {
    "nbpresent": {
     "id": "c816930f-ddac-4e8b-b64f-a47d1a0c3fad"
    }
   },
   "outputs": [
    {
     "data": {
      "text/html": [
       "<style>.container { width:100% !important; }</style>"
      ],
      "text/plain": [
       "<IPython.core.display.HTML object>"
      ]
     },
     "metadata": {},
     "output_type": "display_data"
    }
   ],
   "source": [
    "from IPython.core.display import display, HTML\n",
    "import warnings\n",
    "warnings.filterwarnings('ignore')\n",
    "display(HTML(\"<style>.container { width:100% !important; }</style>\"))"
   ]
  },
  {
   "cell_type": "code",
   "execution_count": 3,
   "metadata": {
    "nbpresent": {
     "id": "09bfcb7d-1d3f-4719-ab94-9575b62a3ed3"
    }
   },
   "outputs": [],
   "source": [
    "repo_path = '/Users/mincheolkim/Github/'\n",
    "data_path = '/Users/mincheolkim/Documents/'"
   ]
  },
  {
   "cell_type": "code",
   "execution_count": 4,
   "metadata": {
    "nbpresent": {
     "id": "b09a2244-c745-4aba-9650-33635f25696d"
    }
   },
   "outputs": [],
   "source": [
    "import sys\n",
    "sys.path.append(repo_path + 'scVI')\n",
    "sys.path.append(repo_path + 'scVI-extensions')"
   ]
  },
  {
   "cell_type": "code",
   "execution_count": 5,
   "metadata": {
    "nbpresent": {
     "id": "f8bdfc1d-35c2-4a7b-b1b2-50ab86288975"
    }
   },
   "outputs": [],
   "source": [
    "import os\n",
    "\n",
    "import numpy as np\n",
    "from sklearn.manifold import TSNE\n",
    "from anndata import AnnData\n",
    "import matplotlib\n",
    "%matplotlib inline\n",
    "import matplotlib.pyplot as plt\n",
    "import seaborn as sns\n",
    "from scipy.ndimage.filters import gaussian_filter\n",
    "import pandas as pd\n",
    "import torch\n",
    "import scipy.sparse as sp_sparse\n",
    "import imp\n",
    "from scipy.stats import ttest_ind, wasserstein_distance, ks_2samp\n",
    "import umap\n",
    "from scipy.stats import norm\n",
    "from sklearn.manifold import TSNE\n",
    "import h5py\n",
    "\n",
    "from scvi.metrics.clustering import entropy_batch_mixing, get_latent\n",
    "from scvi.models import VAE, SVAEC, VAEC\n",
    "from scvi.inference import VariationalInference"
   ]
  },
  {
   "cell_type": "code",
   "execution_count": 6,
   "metadata": {
    "nbpresent": {
     "id": "c4bf70ab-8b72-479a-a1d0-03a691a930d8"
    }
   },
   "outputs": [],
   "source": [
    "import scvi_extensions.dataset.supervised_data_loader as sdl\n",
    "import scvi_extensions.dataset.cropseq as cs\n",
    "import scvi_extensions.inference.supervised_variational_inference as svi\n",
    "import scvi_extensions.hypothesis_testing.mean as mn\n",
    "import scvi_extensions.hypothesis_testing.variance as vr\n",
    "import scvi_extensions.dataset.label_data_loader as ldl"
   ]
  },
  {
   "cell_type": "markdown",
   "metadata": {},
   "source": [
    "### Read the AnnData with tSNE coordinates"
   ]
  },
  {
   "cell_type": "code",
   "execution_count": 7,
   "metadata": {},
   "outputs": [],
   "source": [
    "embedded_adata = sc.read('/Users/mincheolkim/Documents/nsnp20.raw.sng.km_vb1_default.pc60.norm.h5ad')"
   ]
  },
  {
   "cell_type": "markdown",
   "metadata": {},
   "source": [
    "### Guide indicators"
   ]
  },
  {
   "cell_type": "code",
   "execution_count": 12,
   "metadata": {},
   "outputs": [],
   "source": [
    "genes = np.unique(\n",
    "    embedded_adata.obs.query('guide_cov != \"0\" & guide_cov != \"Undetermined\"')['guide_cov'].str.partition('.')[0].values)"
   ]
  },
  {
   "cell_type": "code",
   "execution_count": 13,
   "metadata": {},
   "outputs": [],
   "source": [
    "for gene in genes:\n",
    "    embedded_adata.obs[gene] = embedded_adata.obs['guide_cov'].str.contains(gene)"
   ]
  },
  {
   "cell_type": "code",
   "execution_count": 14,
   "metadata": {},
   "outputs": [],
   "source": [
    "embedded_adata.obs['BATF'] = embedded_adata.obs['guide_cov'].str.contains('BATF')\n",
    "embedded_adata.obs['RBBP7'] = embedded_adata.obs['guide_cov'].str.contains('RBBP7')"
   ]
  },
  {
   "cell_type": "code",
   "execution_count": 15,
   "metadata": {},
   "outputs": [],
   "source": [
    "embedded_adata.obs['NO GUIDE'] = embedded_adata.obs['guide_cov'] == \"0\""
   ]
  },
  {
   "cell_type": "markdown",
   "metadata": {},
   "source": [
    "### Create heatmaps"
   ]
  },
  {
   "cell_type": "code",
   "execution_count": 16,
   "metadata": {},
   "outputs": [],
   "source": [
    "%matplotlib inline"
   ]
  },
  {
   "cell_type": "code",
   "execution_count": 20,
   "metadata": {},
   "outputs": [],
   "source": [
    "for guide in genes:\n",
    "    coordinates = embedded_adata.obsm['X_tsne'][embedded_adata.obs[guide], :]\n",
    "    heatmap, xedges, yedges = np.histogram2d(\n",
    "        coordinates[:, 0], \n",
    "        coordinates[:, 1], \n",
    "        bins=30, \n",
    "        range=[[-30, 30], [-30, 30]],\n",
    "        normed=True)\n",
    "    #plt.subplot(1, 3, guides.index(guide)+1)\n",
    "    plt.figure()\n",
    "    plt.imshow(\n",
    "        gaussian_filter(heatmap.T, sigma=1), \n",
    "        interpolation='nearest',  \n",
    "        origin='lower',\n",
    "        extent=[xedges[0], xedges[-1], yedges[0], yedges[-1]],\n",
    "        cmap='YlGn')\n",
    "    plt.title(guide + ' KO cells' if guide != 'NO GUIDE' else guide)\n",
    "    plt.colorbar(fraction=0.046)\n",
    "    plt.xlabel('tSNE1');\n",
    "    plt.ylabel('tSNE2');\n",
    "    plt.savefig('/Users/mincheolkim/Documents/scvi_outputs/rachel_scanpy/heatmap_{}.png'.format(guide))\n",
    "    plt.close()"
   ]
  }
 ],
 "metadata": {
  "kernelspec": {
   "display_name": "Python [conda env:scvi]",
   "language": "python",
   "name": "conda-env-scvi-py"
  },
  "language_info": {
   "codemirror_mode": {
    "name": "ipython",
    "version": 3
   },
   "file_extension": ".py",
   "mimetype": "text/x-python",
   "name": "python",
   "nbconvert_exporter": "python",
   "pygments_lexer": "ipython3",
   "version": "3.6.5"
  }
 },
 "nbformat": 4,
 "nbformat_minor": 2
}
