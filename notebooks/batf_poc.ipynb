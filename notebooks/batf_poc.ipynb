{
 "cells": [
  {
   "cell_type": "markdown",
   "metadata": {},
   "source": [
    "# POL2 Proof of Concept\n",
    "\n",
    "This notebook is for creating a small dataset consisting of just POL2 guide cells and control cells (no guides), then performing some unsupervised and supervised training of scVI."
   ]
  },
  {
   "cell_type": "markdown",
   "metadata": {},
   "source": [
    "## Imports"
   ]
  },
  {
   "cell_type": "code",
   "execution_count": 1,
   "metadata": {},
   "outputs": [
    {
     "data": {
      "text/html": [
       "<style>.container { width:100% !important; }</style>"
      ],
      "text/plain": [
       "<IPython.core.display.HTML object>"
      ]
     },
     "metadata": {},
     "output_type": "display_data"
    }
   ],
   "source": [
    "from IPython.core.display import display, HTML\n",
    "display(HTML(\"<style>.container { width:100% !important; }</style>\"))"
   ]
  },
  {
   "cell_type": "code",
   "execution_count": 2,
   "metadata": {},
   "outputs": [],
   "source": [
    "repo_path = '/Users/mincheolkim/Github/'\n",
    "data_path = '/Users/mincheolkim/Documents/'"
   ]
  },
  {
   "cell_type": "code",
   "execution_count": 3,
   "metadata": {},
   "outputs": [],
   "source": [
    "import sys\n",
    "sys.path.append(repo_path + 'scVI')\n",
    "sys.path.append(repo_path + 'scVI-extensions')"
   ]
  },
  {
   "cell_type": "code",
   "execution_count": 4,
   "metadata": {},
   "outputs": [
    {
     "name": "stderr",
     "output_type": "stream",
     "text": [
      "/anaconda3/envs/scvi/lib/python3.6/site-packages/h5py/__init__.py:36: FutureWarning: Conversion of the second argument of issubdtype from `float` to `np.floating` is deprecated. In future, it will be treated as `np.float64 == np.dtype(float).type`.\n",
      "  from ._conv import register_converters as _register_converters\n"
     ]
    }
   ],
   "source": [
    "import os\n",
    "\n",
    "import numpy as np\n",
    "from sklearn.manifold import TSNE\n",
    "import matplotlib\n",
    "%matplotlib inline\n",
    "import matplotlib.pyplot as plt\n",
    "import seaborn as sns\n",
    "from scipy.ndimage.filters import gaussian_filter\n",
    "import pandas as pd\n",
    "import torch\n",
    "import imp\n",
    "\n",
    "from scvi.metrics.clustering import entropy_batch_mixing, get_latent\n",
    "from scvi.models import VAE, SVAEC, VAEC\n",
    "from scvi.inference import VariationalInference"
   ]
  },
  {
   "cell_type": "code",
   "execution_count": 5,
   "metadata": {},
   "outputs": [],
   "source": [
    "import scvi_extensions.dataset.supervised_data_loader as sdl\n",
    "import scvi_extensions.dataset.cropseq as cs\n",
    "import scvi_extensions.inference.supervised_variational_inference as svi\n",
    "import scvi_extensions.hypothesis_testing.mean as mn"
   ]
  },
  {
   "cell_type": "markdown",
   "metadata": {},
   "source": [
    "## Create a small metadata file"
   ]
  },
  {
   "cell_type": "code",
   "execution_count": 6,
   "metadata": {},
   "outputs": [],
   "source": [
    "metadata_filename = data_path + 'nsnp20.raw.sng.km_vb1.norm.meta.txt'\n",
    "abridged_metadata_filename = data_path + 'batf_nc_metadata.txt'\n",
    "metadata = pd.read_csv(metadata_filename, sep='\\t')"
   ]
  },
  {
   "cell_type": "code",
   "execution_count": 7,
   "metadata": {},
   "outputs": [],
   "source": [
    "nc_metadata = metadata.query('guide_cov == \"0\"').sample(700)\n",
    "ko_metadata = metadata[metadata.guide_cov.str.contains('BATF')].sample(700)"
   ]
  },
  {
   "cell_type": "code",
   "execution_count": 8,
   "metadata": {},
   "outputs": [],
   "source": [
    "ko_metadata['guide_cov'] = ko_metadata['guide_cov'].str.slice(0, 4)\n",
    "nc_metadata['guide_cov'] = 'NO_GUIDE'"
   ]
  },
  {
   "cell_type": "code",
   "execution_count": 9,
   "metadata": {},
   "outputs": [],
   "source": [
    "abridged_metadata = pd.concat([ko_metadata, nc_metadata])\n",
    "abridged_metadata.to_csv(abridged_metadata_filename, sep='\\t')"
   ]
  },
  {
   "cell_type": "markdown",
   "metadata": {},
   "source": [
    "## Create a dataset"
   ]
  },
  {
   "cell_type": "code",
   "execution_count": 10,
   "metadata": {},
   "outputs": [],
   "source": [
    "h5_filename = '/Users/mincheolkim/Documents/raw_gene_bc_matrices_h5.h5'"
   ]
  },
  {
   "cell_type": "code",
   "execution_count": 11,
   "metadata": {},
   "outputs": [
    {
     "name": "stdout",
     "output_type": "stream",
     "text": [
      "Preprocessing CROP-seq dataset\n",
      "Number of cells kept after filtering with metadata: 1400\n",
      "Number of cells kept after removing all zero cells: 1400\n",
      "Finished preprocessing CROP-seq dataset\n",
      "Downsampling from 32738 to 1000 genes\n"
     ]
    }
   ],
   "source": [
    "imp.reload(cs)\n",
    "# Load the dataset\n",
    "gene_dataset = cs.CropseqDataset(\n",
    "    filename=h5_filename,\n",
    "    metadata_filename=abridged_metadata_filename,\n",
    "    new_n_genes=1000,\n",
    "    use_donors=True,\n",
    "    use_labels=True,\n",
    "    save_path='')"
   ]
  },
  {
   "cell_type": "markdown",
   "metadata": {},
   "source": [
    "## Useful functions"
   ]
  },
  {
   "cell_type": "code",
   "execution_count": 12,
   "metadata": {},
   "outputs": [],
   "source": [
    "def plot_pair_densities(vae, inference, n_points=1000, sigma=1.5):\n",
    "    latent, batch_indices, labels = get_latent(vae, inference.data_loaders['sequential'])\n",
    "    latent, idx_t_sne = inference.apply_t_sne(latent, n_points)\n",
    "    batch_indices = batch_indices[idx_t_sne].ravel()\n",
    "    labels = labels[idx_t_sne].ravel()\n",
    "    \n",
    "    plt.figure(figsize=(10, 20))\n",
    "    for label, guide in enumerate(inference.gene_dataset.guide_lookup):\n",
    "        guide_latent = latent[labels == label, :]\n",
    "        guide_heatmap, guide_xedges, guide_yedges = np.histogram2d(guide_latent[:, 0], guide_latent[:, 1], bins=30)\n",
    "        guide_heatmap = gaussian_filter(guide_heatmap, sigma=sigma)\n",
    "        plt.subplot(1, len(inference.gene_dataset.guide_lookup)+1, label+1)\n",
    "        plt.imshow(guide_heatmap.T, extent=None, origin='lower', cmap=matplotlib.cm.jet, aspect=1)\n",
    "        plt.title(guide)\n",
    "    plt.show()"
   ]
  },
  {
   "cell_type": "markdown",
   "metadata": {},
   "source": [
    "## Unsupervised Model"
   ]
  },
  {
   "cell_type": "markdown",
   "metadata": {},
   "source": [
    "### Training"
   ]
  },
  {
   "cell_type": "code",
   "execution_count": 13,
   "metadata": {},
   "outputs": [],
   "source": [
    "n_epochs=200\n",
    "lr=1e-4\n",
    "use_batches=True\n",
    "use_cuda=False"
   ]
  },
  {
   "cell_type": "code",
   "execution_count": 116,
   "metadata": {},
   "outputs": [
    {
     "name": "stdout",
     "output_type": "stream",
     "text": [
      "training: 100%|██████████| 200/200 [03:05<00:00,  1.08it/s]\n"
     ]
    }
   ],
   "source": [
    "vae = VAE(gene_dataset.nb_genes, n_batch=gene_dataset.n_batches * use_batches)\n",
    "infer = VariationalInference(\n",
    "    vae, \n",
    "    gene_dataset, \n",
    "    train_size=0.9, \n",
    "    use_cuda=use_cuda,\n",
    "    verbose=False,\n",
    "    frequency=1)\n",
    "infer.train(n_epochs=n_epochs, lr=lr)"
   ]
  },
  {
   "cell_type": "code",
   "execution_count": 117,
   "metadata": {},
   "outputs": [
    {
     "data": {
      "text/plain": [
       "Text(0.5,0,'iter')"
      ]
     },
     "execution_count": 117,
     "metadata": {},
     "output_type": "execute_result"
    },
    {
     "data": {
      "image/png": "[encoded data removed]",
      "text/plain": [
       "<Figure size 432x288 with 1 Axes>"
      ]
     },
     "metadata": {},
     "output_type": "display_data"
    }
   ],
   "source": [
    "plt.plot(infer.history['ll_test'])\n",
    "plt.title('Test loss')\n",
    "plt.ylabel('log likelihood')\n",
    "plt.xlabel('iter')"
   ]
  },
  {
   "cell_type": "markdown",
   "metadata": {},
   "source": [
    "### t-SNE"
   ]
  },
  {
   "cell_type": "code",
   "execution_count": 118,
   "metadata": {},
   "outputs": [
    {
     "data": {
      "image/png": "[encoded data removed]",
      "text/plain": [
       "<Figure size 720x1440 with 2 Axes>"
      ]
     },
     "metadata": {},
     "output_type": "display_data"
    }
   ],
   "source": [
    "plot_pair_densities(vae, infer)"
   ]
  },
  {
   "cell_type": "markdown",
   "metadata": {},
   "source": [
    "## Supervised Model"
   ]
  },
  {
   "cell_type": "markdown",
   "metadata": {},
   "source": [
    "### Supervised training"
   ]
  },
  {
   "cell_type": "code",
   "execution_count": 14,
   "metadata": {},
   "outputs": [
    {
     "name": "stdout",
     "output_type": "stream",
     "text": [
      "training: 100%|██████████| 200/200 [03:43<00:00,  1.12s/it]\n"
     ]
    }
   ],
   "source": [
    "vaec = VAEC(gene_dataset.nb_genes, n_labels=gene_dataset.n_labels, n_batch=gene_dataset.n_batches * use_batches)\n",
    "supervised_infer = svi.SupervisedVariationalInference(\n",
    "    vaec, \n",
    "    gene_dataset, \n",
    "    train_size=0.9, \n",
    "    use_cuda=use_cuda,\n",
    "    verbose=False,\n",
    "    frequency=1)\n",
    "supervised_infer.train(n_epochs=n_epochs, lr=lr)"
   ]
  },
  {
   "cell_type": "code",
   "execution_count": 15,
   "metadata": {},
   "outputs": [
    {
     "data": {
      "text/plain": [
       "Text(0.5,0,'iter')"
      ]
     },
     "execution_count": 15,
     "metadata": {},
     "output_type": "execute_result"
    },
    {
     "data": {
      "image/png": "[encoded data removed]",
      "text/plain": [
       "<Figure size 432x288 with 1 Axes>"
      ]
     },
     "metadata": {},
     "output_type": "display_data"
    }
   ],
   "source": [
    "plt.plot(supervised_infer.history['ll_test'])\n",
    "plt.title('Test loss')\n",
    "plt.ylabel('ll')\n",
    "plt.xlabel('iter')"
   ]
  },
  {
   "cell_type": "code",
   "execution_count": 17,
   "metadata": {},
   "outputs": [
    {
     "data": {
      "image/png": "[encoded data removed]",
      "text/plain": [
       "<Figure size 720x1440 with 2 Axes>"
      ]
     },
     "metadata": {},
     "output_type": "display_data"
    }
   ],
   "source": [
    "plot_pair_densities(vaec, supervised_infer, n_points=5000, sigma=2)"
   ]
  }
 ],
 "metadata": {
  "kernelspec": {
   "display_name": "Python [conda env:scvi]",
   "language": "python",
   "name": "conda-env-scvi-py"
  },
  "language_info": {
   "codemirror_mode": {
    "name": "ipython",
    "version": 3
   },
   "file_extension": ".py",
   "mimetype": "text/x-python",
   "name": "python",
   "nbconvert_exporter": "python",
   "pygments_lexer": "ipython3",
   "version": "3.6.5"
  }
 },
 "nbformat": 4,
 "nbformat_minor": 2
}
