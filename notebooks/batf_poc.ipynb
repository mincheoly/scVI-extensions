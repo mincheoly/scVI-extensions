{
 "cells": [
  {
   "cell_type": "markdown",
   "metadata": {},
   "source": [
    "# BATF Proof of Concept\n",
    "\n",
    "This notebook is for creating a small dataset consisting of just POL2 guide cells and control cells (no guides), then performing some unsupervised and supervised training of scVI."
   ]
  },
  {
   "cell_type": "markdown",
   "metadata": {},
   "source": [
    "### Imports"
   ]
  },
  {
   "cell_type": "code",
   "execution_count": 1,
   "metadata": {},
   "outputs": [
    {
     "data": {
      "text/html": [
       "<style>.container { width:100% !important; }</style>"
      ],
      "text/plain": [
       "<IPython.core.display.HTML object>"
      ]
     },
     "metadata": {},
     "output_type": "display_data"
    }
   ],
   "source": [
    "from IPython.core.display import display, HTML\n",
    "display(HTML(\"<style>.container { width:100% !important; }</style>\"))"
   ]
  },
  {
   "cell_type": "code",
   "execution_count": 2,
   "metadata": {},
   "outputs": [],
   "source": [
    "repo_path = '/Users/mincheolkim/Github/'\n",
    "data_path = '/Users/mincheolkim/Documents/'"
   ]
  },
  {
   "cell_type": "code",
   "execution_count": 3,
   "metadata": {},
   "outputs": [],
   "source": [
    "import sys\n",
    "sys.path.append(repo_path + 'scVI')\n",
    "sys.path.append(repo_path + 'scVI-extensions')"
   ]
  },
  {
   "cell_type": "code",
   "execution_count": 4,
   "metadata": {},
   "outputs": [
    {
     "name": "stderr",
     "output_type": "stream",
     "text": [
      "/anaconda3/envs/scvi/lib/python3.6/site-packages/h5py/__init__.py:36: FutureWarning: Conversion of the second argument of issubdtype from `float` to `np.floating` is deprecated. In future, it will be treated as `np.float64 == np.dtype(float).type`.\n",
      "  from ._conv import register_converters as _register_converters\n"
     ]
    }
   ],
   "source": [
    "import os\n",
    "\n",
    "import numpy as np\n",
    "from sklearn.manifold import TSNE\n",
    "import matplotlib\n",
    "%matplotlib inline\n",
    "import matplotlib.pyplot as plt\n",
    "import seaborn as sns\n",
    "from scipy.ndimage.filters import gaussian_filter\n",
    "import pandas as pd\n",
    "import torch\n",
    "import imp\n",
    "\n",
    "from scvi.metrics.clustering import entropy_batch_mixing, get_latent\n",
    "from scvi.models import VAE, SVAEC, VAEC\n",
    "from scvi.inference import VariationalInference"
   ]
  },
  {
   "cell_type": "code",
   "execution_count": 15,
   "metadata": {},
   "outputs": [],
   "source": [
    "import scvi_extensions.dataset.supervised_data_loader as sdl\n",
    "import scvi_extensions.dataset.cropseq as cs\n",
    "import scvi_extensions.inference.supervised_variational_inference as svi\n",
    "import scvi_extensions.hypothesis_testing.mean as mn\n",
    "import scvi_extensions.models.cvae as cv"
   ]
  },
  {
   "cell_type": "markdown",
   "metadata": {},
   "source": [
    "### Create a small metadata file\n",
    "\n",
    "This metadata will contain all BATF, IRF4, JUNB KO cells as well as about 800 cells with no guides."
   ]
  },
  {
   "cell_type": "code",
   "execution_count": 6,
   "metadata": {},
   "outputs": [],
   "source": [
    "metadata_filename = data_path + 'nsnp20.raw.sng.km_vb1_default.norm.meta.txt'\n",
    "abridged_metadata_filename = data_path + 'simple_metadata.txt'\n",
    "metadata = pd.read_csv(metadata_filename, sep='\\t')"
   ]
  },
  {
   "cell_type": "code",
   "execution_count": 7,
   "metadata": {},
   "outputs": [],
   "source": [
    "ko_metadata = metadata[\n",
    "    (metadata['guide_cov'].str.contains('BATF')) | \n",
    "    (metadata['guide_cov'].str.contains('IRF4')) |\n",
    "    (metadata['guide_cov'].str.contains('JUNB'))]\n",
    "ng_metadata = metadata.query('guide_cov == \"0\"').sample(800)"
   ]
  },
  {
   "cell_type": "code",
   "execution_count": 8,
   "metadata": {},
   "outputs": [],
   "source": [
    "sample_metadata = pd.concat([ko_metadata, ng_metadata])"
   ]
  },
  {
   "cell_type": "code",
   "execution_count": 9,
   "metadata": {},
   "outputs": [],
   "source": [
    "sample_metadata.to_csv(abridged_metadata_filename, sep='\\t')"
   ]
  },
  {
   "cell_type": "markdown",
   "metadata": {},
   "source": [
    "### Create a dataset for training"
   ]
  },
  {
   "cell_type": "code",
   "execution_count": 11,
   "metadata": {},
   "outputs": [],
   "source": [
    "h5_filename = '/Users/mincheolkim/Documents/raw_gene_bc_matrices_h5.h5'"
   ]
  },
  {
   "cell_type": "code",
   "execution_count": 61,
   "metadata": {},
   "outputs": [
    {
     "name": "stdout",
     "output_type": "stream",
     "text": [
      "Preprocessing CROP-seq dataset\n",
      "Number of cells kept after filtering with metadata: 3532\n",
      "Number of cells kept after removing all zero cells: 3532\n",
      "Finished preprocessing CROP-seq dataset\n",
      "Downsampling from 32738 to 2000 genes\n"
     ]
    }
   ],
   "source": [
    "imp.reload(cs)\n",
    "# Load the dataset for training\n",
    "gene_dataset = cs.CropseqDataset(\n",
    "    filename=h5_filename,\n",
    "    metadata_filename=abridged_metadata_filename,\n",
    "    new_n_genes=2000,\n",
    "    subset_genes=['IL10', 'RORC', 'SIRT1'],\n",
    "    batch='wells',\n",
    "    use_labels='gene',\n",
    "    save_path='')"
   ]
  },
  {
   "cell_type": "markdown",
   "metadata": {},
   "source": [
    "### Train an unsupervised model"
   ]
  },
  {
   "cell_type": "code",
   "execution_count": 13,
   "metadata": {},
   "outputs": [],
   "source": [
    "n_epochs=200\n",
    "lr=1e-4\n",
    "use_batches=True\n",
    "use_cuda=False"
   ]
  },
  {
   "cell_type": "code",
   "execution_count": 14,
   "metadata": {},
   "outputs": [
    {
     "name": "stdout",
     "output_type": "stream",
     "text": [
      "training: 100%|██████████| 200/200 [14:26<00:00,  4.33s/it]\n"
     ]
    }
   ],
   "source": [
    "vae = VAE(gene_dataset.nb_genes, n_batch=gene_dataset.n_batches * use_batches)\n",
    "infer = VariationalInference(\n",
    "    vae, \n",
    "    gene_dataset, \n",
    "    train_size=0.9, \n",
    "    use_cuda=use_cuda,\n",
    "    verbose=False,\n",
    "    frequency=1)\n",
    "infer.train(n_epochs=n_epochs, lr=lr)"
   ]
  },
  {
   "cell_type": "markdown",
   "metadata": {},
   "source": [
    "### Train a supervised model"
   ]
  },
  {
   "cell_type": "code",
   "execution_count": 62,
   "metadata": {},
   "outputs": [
    {
     "data": {
      "text/plain": [
       "<module 'scvi_extensions.inference.supervised_variational_inference' from '/Users/mincheolkim/Github/scVI-extensions/scvi_extensions/inference/supervised_variational_inference.py'>"
      ]
     },
     "execution_count": 62,
     "metadata": {},
     "output_type": "execute_result"
    }
   ],
   "source": [
    "imp.reload(cv)\n",
    "imp.reload(svi)"
   ]
  },
  {
   "cell_type": "code",
   "execution_count": 63,
   "metadata": {},
   "outputs": [
    {
     "name": "stdout",
     "output_type": "stream",
     "text": [
      "training: 100%|██████████| 200/200 [15:28<00:00,  4.64s/it]\n"
     ]
    }
   ],
   "source": [
    "cvae = cv.CVAE(gene_dataset.nb_genes, n_labels=gene_dataset.n_labels, n_batch=gene_dataset.n_batches * use_batches)\n",
    "supervised_infer = svi.SupervisedVariationalInference(\n",
    "    cvae, \n",
    "    gene_dataset, \n",
    "    train_size=0.9, \n",
    "    use_cuda=use_cuda,\n",
    "    verbose=False,\n",
    "    frequency=1)\n",
    "supervised_infer.train(n_epochs=n_epochs, lr=lr)"
   ]
  },
  {
   "cell_type": "markdown",
   "metadata": {},
   "source": [
    "### Differential Expression"
   ]
  },
  {
   "cell_type": "code",
   "execution_count": 49,
   "metadata": {},
   "outputs": [
    {
     "name": "stdout",
     "output_type": "stream",
     "text": [
      "Preprocessing CROP-seq dataset\n",
      "Number of cells kept after filtering with metadata: 3532\n",
      "Number of cells kept after removing all zero cells: 3532\n",
      "Finished preprocessing CROP-seq dataset\n",
      "Downsampling from 32738 to 2000 genes\n"
     ]
    }
   ],
   "source": [
    "imp.reload(cs)\n",
    "# Load the dataset for training\n",
    "de_dataset = cs.CropseqDataset(\n",
    "    filename=h5_filename,\n",
    "    metadata_filename=abridged_metadata_filename,\n",
    "    new_n_genes=2000,\n",
    "    subset_genes=['IL10', 'RORC', 'SIRT1'],\n",
    "    batch='wells',\n",
    "    use_labels='gene',\n",
    "    testing_labels='gene',\n",
    "    save_path='')"
   ]
  },
  {
   "cell_type": "code",
   "execution_count": 55,
   "metadata": {},
   "outputs": [
    {
     "name": "stdout",
     "output_type": "stream",
     "text": [
      "Sampling for differential expression...\n",
      "Done sampling for differential expression...\n"
     ]
    }
   ],
   "source": [
    "de_results = mn.differential_expression(vae, de_dataset, [0, 1, 2, 3], 100)"
   ]
  },
  {
   "cell_type": "code",
   "execution_count": 98,
   "metadata": {},
   "outputs": [
    {
     "data": {
      "text/html": [
       "<div>\n",
       "<style scoped>\n",
       "    .dataframe tbody tr th:only-of-type {\n",
       "        vertical-align: middle;\n",
       "    }\n",
       "\n",
       "    .dataframe tbody tr th {\n",
       "        vertical-align: top;\n",
       "    }\n",
       "\n",
       "    .dataframe thead th {\n",
       "        text-align: right;\n",
       "    }\n",
       "</style>\n",
       "<table border=\"1\" class=\"dataframe\">\n",
       "  <thead>\n",
       "    <tr style=\"text-align: right;\">\n",
       "      <th></th>\n",
       "      <th>gene</th>\n",
       "      <th>gene_index</th>\n",
       "      <th>P(H1)</th>\n",
       "      <th>bayes_factor</th>\n",
       "      <th>bayes_factor_mag</th>\n",
       "      <th>pval</th>\n",
       "      <th>direction</th>\n",
       "    </tr>\n",
       "  </thead>\n",
       "  <tbody>\n",
       "    <tr>\n",
       "      <th>489</th>\n",
       "      <td>ALOX5AP</td>\n",
       "      <td>489</td>\n",
       "      <td>0.3555</td>\n",
       "      <td>-0.594950</td>\n",
       "      <td>0.594950</td>\n",
       "      <td>0.0</td>\n",
       "      <td>-1.0</td>\n",
       "    </tr>\n",
       "    <tr>\n",
       "      <th>1417</th>\n",
       "      <td>EMC7</td>\n",
       "      <td>1417</td>\n",
       "      <td>0.3591</td>\n",
       "      <td>-0.579273</td>\n",
       "      <td>0.579273</td>\n",
       "      <td>0.0</td>\n",
       "      <td>-1.0</td>\n",
       "    </tr>\n",
       "    <tr>\n",
       "      <th>1092</th>\n",
       "      <td>CDC42SE1</td>\n",
       "      <td>1092</td>\n",
       "      <td>0.3598</td>\n",
       "      <td>-0.576232</td>\n",
       "      <td>0.576232</td>\n",
       "      <td>0.0</td>\n",
       "      <td>-1.0</td>\n",
       "    </tr>\n",
       "    <tr>\n",
       "      <th>1392</th>\n",
       "      <td>CNIH4</td>\n",
       "      <td>1392</td>\n",
       "      <td>0.3607</td>\n",
       "      <td>-0.572327</td>\n",
       "      <td>0.572327</td>\n",
       "      <td>0.0</td>\n",
       "      <td>-1.0</td>\n",
       "    </tr>\n",
       "    <tr>\n",
       "      <th>1168</th>\n",
       "      <td>DYNLT1</td>\n",
       "      <td>1168</td>\n",
       "      <td>0.3637</td>\n",
       "      <td>-0.559341</td>\n",
       "      <td>0.559341</td>\n",
       "      <td>0.0</td>\n",
       "      <td>-1.0</td>\n",
       "    </tr>\n",
       "  </tbody>\n",
       "</table>\n",
       "</div>"
      ],
      "text/plain": [
       "          gene  gene_index   P(H1)  bayes_factor  bayes_factor_mag  pval  \\\n",
       "489    ALOX5AP         489  0.3555     -0.594950          0.594950   0.0   \n",
       "1417      EMC7        1417  0.3591     -0.579273          0.579273   0.0   \n",
       "1092  CDC42SE1        1092  0.3598     -0.576232          0.576232   0.0   \n",
       "1392     CNIH4        1392  0.3607     -0.572327          0.572327   0.0   \n",
       "1168    DYNLT1        1168  0.3637     -0.559341          0.559341   0.0   \n",
       "\n",
       "      direction  \n",
       "489        -1.0  \n",
       "1417       -1.0  \n",
       "1092       -1.0  \n",
       "1392       -1.0  \n",
       "1168       -1.0  "
      ]
     },
     "execution_count": 98,
     "metadata": {},
     "output_type": "execute_result"
    }
   ],
   "source": [
    "de_results[1][0][3].head(5)"
   ]
  },
  {
   "cell_type": "code",
   "execution_count": 64,
   "metadata": {},
   "outputs": [
    {
     "name": "stdout",
     "output_type": "stream",
     "text": [
      "Sampling for differential expression...\n",
      "Done sampling for differential expression...\n"
     ]
    }
   ],
   "source": [
    "supervised_de_results = mn.differential_expression(cvae, de_dataset, [0, 1, 2, 3], 100)"
   ]
  },
  {
   "cell_type": "code",
   "execution_count": 76,
   "metadata": {},
   "outputs": [
    {
     "data": {
      "text/plain": [
       "array(['BATF', 'IRF4', 'JUNB', 'NO_GUIDE'], dtype='<U8')"
      ]
     },
     "execution_count": 76,
     "metadata": {},
     "output_type": "execute_result"
    }
   ],
   "source": [
    "de_dataset.cell_types"
   ]
  },
  {
   "cell_type": "code",
   "execution_count": 122,
   "metadata": {},
   "outputs": [
    {
     "name": "stdout",
     "output_type": "stream",
     "text": [
      "2    0.270029\n",
      "Name: bayes_factor_mag, dtype: float64\n",
      "2    0.247252\n",
      "Name: bayes_factor_mag, dtype: float64\n"
     ]
    }
   ],
   "source": [
    "print(supervised_de_results[1][2][3].query('gene == \"SIRT1\"')['bayes_factor_mag'])\n",
    "print(de_results[1][2][3].query('gene == \"SIRT1\"')['bayes_factor_mag'])"
   ]
  },
  {
   "cell_type": "code",
   "execution_count": 128,
   "metadata": {},
   "outputs": [
    {
     "name": "stderr",
     "output_type": "stream",
     "text": [
      "/anaconda3/envs/scvi/lib/python3.6/site-packages/matplotlib/axes/_axes.py:6462: UserWarning: The 'normed' kwarg is deprecated, and has been replaced by the 'density' kwarg.\n",
      "  warnings.warn(\"The 'normed' kwarg is deprecated, and has been \"\n",
      "/anaconda3/envs/scvi/lib/python3.6/site-packages/matplotlib/axes/_axes.py:6462: UserWarning: The 'normed' kwarg is deprecated, and has been replaced by the 'density' kwarg.\n",
      "  warnings.warn(\"The 'normed' kwarg is deprecated, and has been \"\n"
     ]
    },
    {
     "data": {
      "text/plain": [
       "<matplotlib.legend.Legend at 0x1a2ef20438>"
      ]
     },
     "execution_count": 128,
     "metadata": {},
     "output_type": "execute_result"
    },
    {
     "data": {
      "image/png": "[encoded data removed]",
      "text/plain": [
       "<Figure size 432x288 with 1 Axes>"
      ]
     },
     "metadata": {},
     "output_type": "display_data"
    }
   ],
   "source": [
    "sns.distplot(supervised_de_results[1][0][3]['bayes_factor'], kde=False)\n",
    "sns.distplot(de_results[1][0][3]['bayes_factor'], kde=False)\n",
    "plt.title('Distribution of Bayes Factors for genes (BATF KO vs no guide)')\n",
    "plt.legend(['CVAE', 'VAE (scVI)'])"
   ]
  },
  {
   "cell_type": "code",
   "execution_count": 134,
   "metadata": {},
   "outputs": [],
   "source": [
    "temp = pd.DataFrame(\n",
    "    [\n",
    "        ('IL10', 'CVAE', 0.203904),\n",
    "        ('IL10', 'VAE (scVI)', 0.164772),\n",
    "        ('RORC', 'CVAE', 0.37431),\n",
    "        ('RORC', 'VAE (scVI)', 0.207137),\n",
    "        ('SIRT1', 'CVAE', 0.270029),\n",
    "        ('SIRT1', 'VAE (scVI)', 0.247252)\n",
    "], columns=['gene', 'model', 'Bayes factor magnitude'])"
   ]
  },
  {
   "cell_type": "code",
   "execution_count": 173,
   "metadata": {},
   "outputs": [],
   "source": [
    "sns.set_palette(\"muted\")"
   ]
  },
  {
   "cell_type": "code",
   "execution_count": 174,
   "metadata": {},
   "outputs": [
    {
     "name": "stderr",
     "output_type": "stream",
     "text": [
      "/anaconda3/envs/scvi/lib/python3.6/site-packages/matplotlib/axes/_axes.py:6462: UserWarning: The 'normed' kwarg is deprecated, and has been replaced by the 'density' kwarg.\n",
      "  warnings.warn(\"The 'normed' kwarg is deprecated, and has been \"\n",
      "/anaconda3/envs/scvi/lib/python3.6/site-packages/matplotlib/axes/_axes.py:6462: UserWarning: The 'normed' kwarg is deprecated, and has been replaced by the 'density' kwarg.\n",
      "  warnings.warn(\"The 'normed' kwarg is deprecated, and has been \"\n"
     ]
    },
    {
     "data": {
      "image/png": "[encoded data removed]",
      "text/plain": [
       "<Figure size 1080x360 with 2 Axes>"
      ]
     },
     "metadata": {},
     "output_type": "display_data"
    }
   ],
   "source": [
    "plt.figure(figsize=(15, 5))\n",
    "plt.subplot(1, 2, 1)\n",
    "\n",
    "sns.distplot(supervised_de_results[1][0][3]['bayes_factor'], kde=False)\n",
    "sns.distplot(de_results[1][0][3]['bayes_factor'], kde=False)\n",
    "plt.title('Distribution of Bayes Factors for genes (BATF KO vs no guide)')\n",
    "plt.legend(['CVAE', 'VAE (scVI)'])\n",
    "plt.subplot(1, 2, 2)\n",
    "sns.barplot(x='gene', y='Bayes factor magnitude', hue='model', data=temp)\n",
    "plt.title('Bayes Factors for genes regulated by BATF')\n",
    "plt.savefig('/Users/mincheolkim/Documents/scvi_outputs/batf_poc.png')"
   ]
  },
  {
   "cell_type": "code",
   "execution_count": 108,
   "metadata": {},
   "outputs": [
    {
     "data": {
      "text/plain": [
       "<matplotlib.axes._subplots.AxesSubplot at 0x1a26635390>"
      ]
     },
     "execution_count": 108,
     "metadata": {},
     "output_type": "execute_result"
    },
    {
     "data": {
      "image/png": "[encoded data removed]",
      "text/plain": [
       "<Figure size 432x288 with 1 Axes>"
      ]
     },
     "metadata": {},
     "output_type": "display_data"
    }
   ],
   "source": [
    "de_results[1][0][3]['bayes_factor'].hist()"
   ]
  },
  {
   "cell_type": "code",
   "execution_count": 104,
   "metadata": {},
   "outputs": [
    {
     "data": {
      "text/html": [
       "<div>\n",
       "<style scoped>\n",
       "    .dataframe tbody tr th:only-of-type {\n",
       "        vertical-align: middle;\n",
       "    }\n",
       "\n",
       "    .dataframe tbody tr th {\n",
       "        vertical-align: top;\n",
       "    }\n",
       "\n",
       "    .dataframe thead th {\n",
       "        text-align: right;\n",
       "    }\n",
       "</style>\n",
       "<table border=\"1\" class=\"dataframe\">\n",
       "  <thead>\n",
       "    <tr style=\"text-align: right;\">\n",
       "      <th></th>\n",
       "      <th>gene</th>\n",
       "      <th>gene_index</th>\n",
       "      <th>P(H1)</th>\n",
       "      <th>bayes_factor</th>\n",
       "      <th>bayes_factor_mag</th>\n",
       "      <th>pval</th>\n",
       "      <th>direction</th>\n",
       "    </tr>\n",
       "  </thead>\n",
       "  <tbody>\n",
       "    <tr>\n",
       "      <th>0</th>\n",
       "      <td>IL10</td>\n",
       "      <td>0</td>\n",
       "      <td>0.4589</td>\n",
       "      <td>-0.164772</td>\n",
       "      <td>0.164772</td>\n",
       "      <td>2.011485e-32</td>\n",
       "      <td>-1.0</td>\n",
       "    </tr>\n",
       "  </tbody>\n",
       "</table>\n",
       "</div>"
      ],
      "text/plain": [
       "   gene  gene_index   P(H1)  bayes_factor  bayes_factor_mag          pval  \\\n",
       "0  IL10           0  0.4589     -0.164772          0.164772  2.011485e-32   \n",
       "\n",
       "   direction  \n",
       "0       -1.0  "
      ]
     },
     "execution_count": 104,
     "metadata": {},
     "output_type": "execute_result"
    }
   ],
   "source": [
    "de_results[1][2][3].query('gene == \"IL10\"')"
   ]
  },
  {
   "cell_type": "markdown",
   "metadata": {},
   "source": [
    "## Compare Bayes Factors between supervised and unsupervised training"
   ]
  },
  {
   "cell_type": "code",
   "execution_count": 58,
   "metadata": {},
   "outputs": [
    {
     "name": "stderr",
     "output_type": "stream",
     "text": [
      "/anaconda3/envs/scvi/lib/python3.6/site-packages/matplotlib/axes/_axes.py:6462: UserWarning: The 'normed' kwarg is deprecated, and has been replaced by the 'density' kwarg.\n",
      "  warnings.warn(\"The 'normed' kwarg is deprecated, and has been \"\n",
      "/anaconda3/envs/scvi/lib/python3.6/site-packages/matplotlib/axes/_axes.py:6462: UserWarning: The 'normed' kwarg is deprecated, and has been replaced by the 'density' kwarg.\n",
      "  warnings.warn(\"The 'normed' kwarg is deprecated, and has been \"\n"
     ]
    },
    {
     "data": {
      "text/plain": [
       "<matplotlib.legend.Legend at 0x1a1fae1f28>"
      ]
     },
     "execution_count": 58,
     "metadata": {},
     "output_type": "execute_result"
    },
    {
     "data": {
      "image/png": "[encoded data removed]",
      "text/plain": [
       "<Figure size 432x288 with 1 Axes>"
      ]
     },
     "metadata": {},
     "output_type": "display_data"
    }
   ],
   "source": [
    "sns.distplot(supervised_de_results[0][1]['bayes_factor'], kde=False)\n",
    "sns.distplot(de_results[0][1]['bayes_factor'], kde=False)\n",
    "plt.title('Distribution of Bayes factors for genes')\n",
    "plt.legend(['supervised', 'unsupervised'])"
   ]
  }
 ],
 "metadata": {
  "kernelspec": {
   "display_name": "Python [conda env:scvi]",
   "language": "python",
   "name": "conda-env-scvi-py"
  },
  "language_info": {
   "codemirror_mode": {
    "name": "ipython",
    "version": 3
   },
   "file_extension": ".py",
   "mimetype": "text/x-python",
   "name": "python",
   "nbconvert_exporter": "python",
   "pygments_lexer": "ipython3",
   "version": "3.6.5"
  }
 },
 "nbformat": 4,
 "nbformat_minor": 2
}
