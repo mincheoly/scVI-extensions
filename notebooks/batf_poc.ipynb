{
 "cells": [
  {
   "cell_type": "markdown",
   "metadata": {},
   "source": [
    "# BATF Proof of Concept\n",
    "\n",
    "This notebook is for creating a small dataset consisting of just POL2 guide cells and control cells (no guides), then performing some unsupervised and supervised training of scVI."
   ]
  },
  {
   "cell_type": "markdown",
   "metadata": {},
   "source": [
    "## Imports"
   ]
  },
  {
   "cell_type": "code",
   "execution_count": 6,
   "metadata": {},
   "outputs": [
    {
     "data": {
      "text/html": [
       "<style>.container { width:100% !important; }</style>"
      ],
      "text/plain": [
       "<IPython.core.display.HTML object>"
      ]
     },
     "metadata": {},
     "output_type": "display_data"
    }
   ],
   "source": [
    "from IPython.core.display import display, HTML\n",
    "display(HTML(\"<style>.container { width:100% !important; }</style>\"))"
   ]
  },
  {
   "cell_type": "code",
   "execution_count": 7,
   "metadata": {},
   "outputs": [],
   "source": [
    "repo_path = '/Users/mincheolkim/Github/'\n",
    "data_path = '/Users/mincheolkim/Documents/'"
   ]
  },
  {
   "cell_type": "code",
   "execution_count": 8,
   "metadata": {},
   "outputs": [],
   "source": [
    "import sys\n",
    "sys.path.append(repo_path + 'scVI')\n",
    "sys.path.append(repo_path + 'scVI-extensions')"
   ]
  },
  {
   "cell_type": "code",
   "execution_count": 9,
   "metadata": {},
   "outputs": [],
   "source": [
    "import os\n",
    "\n",
    "import numpy as np\n",
    "from sklearn.manifold import TSNE\n",
    "import matplotlib\n",
    "%matplotlib inline\n",
    "import matplotlib.pyplot as plt\n",
    "import seaborn as sns\n",
    "from scipy.ndimage.filters import gaussian_filter\n",
    "import pandas as pd\n",
    "import torch\n",
    "import imp\n",
    "\n",
    "from scvi.metrics.clustering import entropy_batch_mixing, get_latent\n",
    "from scvi.models import VAE, SVAEC, VAEC\n",
    "from scvi.inference import VariationalInference"
   ]
  },
  {
   "cell_type": "code",
   "execution_count": 10,
   "metadata": {},
   "outputs": [],
   "source": [
    "import scvi_extensions.dataset.supervised_data_loader as sdl\n",
    "import scvi_extensions.dataset.cropseq as cs\n",
    "import scvi_extensions.inference.supervised_variational_inference as svi\n",
    "import scvi_extensions.hypothesis_testing.mean as mn"
   ]
  },
  {
   "cell_type": "markdown",
   "metadata": {},
   "source": [
    "## Create a small metadata file"
   ]
  },
  {
   "cell_type": "code",
   "execution_count": 24,
   "metadata": {},
   "outputs": [],
   "source": [
    "metadata_filename = data_path + 'nsnp20.raw.sng.km_vb1.norm.meta.txt'\n",
    "abridged_metadata_filename = data_path + 'batf_nc_metadata.txt'\n",
    "metadata = pd.read_csv(metadata_filename, sep='\\t')"
   ]
  },
  {
   "cell_type": "code",
   "execution_count": 25,
   "metadata": {},
   "outputs": [],
   "source": [
    "nc_metadata = metadata.query('guide_cov == \"0\"').sample(700)\n",
    "ko_metadata = metadata[metadata.guide_cov.str.contains('BATF')].sample(700)"
   ]
  },
  {
   "cell_type": "code",
   "execution_count": 26,
   "metadata": {},
   "outputs": [],
   "source": [
    "ko_metadata['guide_cov'] = ko_metadata['guide_cov'].str.slice(0, 4)\n",
    "nc_metadata['guide_cov'] = 'NO_GUIDE'"
   ]
  },
  {
   "cell_type": "code",
   "execution_count": 27,
   "metadata": {},
   "outputs": [],
   "source": [
    "abridged_metadata = pd.concat([ko_metadata, nc_metadata])\n",
    "abridged_metadata.to_csv(abridged_metadata_filename, sep='\\t')"
   ]
  },
  {
   "cell_type": "markdown",
   "metadata": {},
   "source": [
    "## Create a dataset"
   ]
  },
  {
   "cell_type": "code",
   "execution_count": 35,
   "metadata": {},
   "outputs": [],
   "source": [
    "h5_filename = '/Users/mincheolkim/Documents/raw_gene_bc_matrices_h5.h5'"
   ]
  },
  {
   "cell_type": "code",
   "execution_count": 36,
   "metadata": {},
   "outputs": [
    {
     "name": "stdout",
     "output_type": "stream",
     "text": [
      "Preprocessing CROP-seq dataset\n",
      "Number of cells kept after filtering with metadata: 1400\n",
      "Number of cells kept after removing all zero cells: 1400\n",
      "Finished preprocessing CROP-seq dataset\n",
      "Downsampling from 32738 to 1000 genes\n"
     ]
    }
   ],
   "source": [
    "imp.reload(cs)\n",
    "# Load the dataset for training\n",
    "gene_dataset = cs.CropseqDataset(\n",
    "    filename=h5_filename,\n",
    "    metadata_filename=abridged_metadata_filename,\n",
    "    new_n_genes=1000,\n",
    "    use_donors=True,\n",
    "    use_labels='guide',\n",
    "    save_path='')"
   ]
  },
  {
   "cell_type": "code",
   "execution_count": 46,
   "metadata": {},
   "outputs": [
    {
     "name": "stdout",
     "output_type": "stream",
     "text": [
      "Preprocessing CROP-seq dataset\n",
      "Number of cells kept after filtering with metadata: 1400\n",
      "Number of cells kept after removing all zero cells: 1400\n",
      "Finished preprocessing CROP-seq dataset\n",
      "Downsampling from 32738 to 1000 genes\n"
     ]
    }
   ],
   "source": [
    "imp.reload(cs)\n",
    "de_dataset = cs.CropseqDataset(\n",
    "    filename=h5_filename,\n",
    "    metadata_filename=abridged_metadata_filename,\n",
    "    new_n_genes=1000,\n",
    "    use_donors=True,\n",
    "    use_labels='guide',\n",
    "    testing_labels='guide',\n",
    "    save_path='')"
   ]
  },
  {
   "cell_type": "markdown",
   "metadata": {},
   "source": [
    "## Useful functions"
   ]
  },
  {
   "cell_type": "code",
   "execution_count": 38,
   "metadata": {},
   "outputs": [],
   "source": [
    "def plot_pair_densities(vae, inference, n_points=1000, sigma=1.5):\n",
    "    latent, batch_indices, labels = get_latent(vae, inference.data_loaders['sequential'])\n",
    "    latent, idx_t_sne = inference.apply_t_sne(latent, n_points)\n",
    "    batch_indices = batch_indices[idx_t_sne].ravel()\n",
    "    labels = labels[idx_t_sne].ravel()\n",
    "    \n",
    "    plt.figure(figsize=(10, 20))\n",
    "    for label, guide in enumerate(inference.gene_dataset.guide_lookup):\n",
    "        guide_latent = latent[labels == label, :]\n",
    "        guide_heatmap, guide_xedges, guide_yedges = np.histogram2d(guide_latent[:, 0], guide_latent[:, 1], bins=30)\n",
    "        guide_heatmap = gaussian_filter(guide_heatmap, sigma=sigma)\n",
    "        plt.subplot(1, len(inference.gene_dataset.guide_lookup)+1, label+1)\n",
    "        plt.imshow(guide_heatmap.T, extent=None, origin='lower', cmap=matplotlib.cm.jet, aspect=1)\n",
    "        plt.title(guide)\n",
    "    plt.show()"
   ]
  },
  {
   "cell_type": "markdown",
   "metadata": {},
   "source": [
    "## Unsupervised Model"
   ]
  },
  {
   "cell_type": "markdown",
   "metadata": {},
   "source": [
    "### Training"
   ]
  },
  {
   "cell_type": "code",
   "execution_count": 39,
   "metadata": {},
   "outputs": [],
   "source": [
    "n_epochs=200\n",
    "lr=1e-4\n",
    "use_batches=True\n",
    "use_cuda=False"
   ]
  },
  {
   "cell_type": "code",
   "execution_count": 40,
   "metadata": {},
   "outputs": [
    {
     "name": "stdout",
     "output_type": "stream",
     "text": [
      "training: 100%|██████████| 200/200 [03:34<00:00,  1.07s/it]\n"
     ]
    }
   ],
   "source": [
    "vae = VAE(gene_dataset.nb_genes, n_batch=gene_dataset.n_batches * use_batches)\n",
    "infer = VariationalInference(\n",
    "    vae, \n",
    "    gene_dataset, \n",
    "    train_size=0.9, \n",
    "    use_cuda=use_cuda,\n",
    "    verbose=False,\n",
    "    frequency=1)\n",
    "infer.train(n_epochs=n_epochs, lr=lr)"
   ]
  },
  {
   "cell_type": "code",
   "execution_count": 41,
   "metadata": {},
   "outputs": [
    {
     "data": {
      "text/plain": [
       "Text(0.5,0,'iter')"
      ]
     },
     "execution_count": 41,
     "metadata": {},
     "output_type": "execute_result"
    },
    {
     "data": {
      "image/png": "[encoded data removed]",
      "text/plain": [
       "<Figure size 432x288 with 1 Axes>"
      ]
     },
     "metadata": {},
     "output_type": "display_data"
    }
   ],
   "source": [
    "plt.plot(infer.history['ll_test'])\n",
    "plt.title('Test loss')\n",
    "plt.ylabel('log likelihood')\n",
    "plt.xlabel('iter')"
   ]
  },
  {
   "cell_type": "code",
   "execution_count": 43,
   "metadata": {},
   "outputs": [
    {
     "data": {
      "image/png": "[encoded data removed]",
      "text/plain": [
       "<Figure size 720x1440 with 2 Axes>"
      ]
     },
     "metadata": {},
     "output_type": "display_data"
    }
   ],
   "source": [
    "plot_pair_densities(vae, infer, n_points=5000, sigma=1.5)"
   ]
  },
  {
   "cell_type": "markdown",
   "metadata": {},
   "source": [
    "### Differential Expression"
   ]
  },
  {
   "cell_type": "code",
   "execution_count": 47,
   "metadata": {},
   "outputs": [
    {
     "name": "stdout",
     "output_type": "stream",
     "text": [
      "Sampling for differential expression...\n",
      "Done sampling for differential expression...\n"
     ]
    }
   ],
   "source": [
    "de_results = mn.differential_expression(vae, de_dataset, [0, 1], 100, 10000)"
   ]
  },
  {
   "cell_type": "code",
   "execution_count": 49,
   "metadata": {},
   "outputs": [
    {
     "data": {
      "text/html": [
       "<div>\n",
       "<style scoped>\n",
       "    .dataframe tbody tr th:only-of-type {\n",
       "        vertical-align: middle;\n",
       "    }\n",
       "\n",
       "    .dataframe tbody tr th {\n",
       "        vertical-align: top;\n",
       "    }\n",
       "\n",
       "    .dataframe thead th {\n",
       "        text-align: right;\n",
       "    }\n",
       "</style>\n",
       "<table border=\"1\" class=\"dataframe\">\n",
       "  <thead>\n",
       "    <tr style=\"text-align: right;\">\n",
       "      <th></th>\n",
       "      <th>gene</th>\n",
       "      <th>gene_index</th>\n",
       "      <th>P(H1)</th>\n",
       "      <th>bayes_factor</th>\n",
       "      <th>bayes_factor_mag</th>\n",
       "      <th>pval</th>\n",
       "      <th>direction</th>\n",
       "    </tr>\n",
       "  </thead>\n",
       "  <tbody>\n",
       "    <tr>\n",
       "      <th>250</th>\n",
       "      <td>IL2RG</td>\n",
       "      <td>250</td>\n",
       "      <td>0.3809</td>\n",
       "      <td>-0.485730</td>\n",
       "      <td>0.485730</td>\n",
       "      <td>4.830984e-160</td>\n",
       "      <td>-1.0</td>\n",
       "    </tr>\n",
       "    <tr>\n",
       "      <th>624</th>\n",
       "      <td>TOMM22</td>\n",
       "      <td>624</td>\n",
       "      <td>0.3943</td>\n",
       "      <td>-0.429273</td>\n",
       "      <td>0.429273</td>\n",
       "      <td>7.866339e-126</td>\n",
       "      <td>-1.0</td>\n",
       "    </tr>\n",
       "    <tr>\n",
       "      <th>611</th>\n",
       "      <td>C9orf78</td>\n",
       "      <td>611</td>\n",
       "      <td>0.4005</td>\n",
       "      <td>-0.403382</td>\n",
       "      <td>0.403382</td>\n",
       "      <td>2.070946e-111</td>\n",
       "      <td>-1.0</td>\n",
       "    </tr>\n",
       "    <tr>\n",
       "      <th>870</th>\n",
       "      <td>LTA</td>\n",
       "      <td>870</td>\n",
       "      <td>0.4031</td>\n",
       "      <td>-0.392565</td>\n",
       "      <td>0.392565</td>\n",
       "      <td>1.253793e-105</td>\n",
       "      <td>-1.0</td>\n",
       "    </tr>\n",
       "    <tr>\n",
       "      <th>721</th>\n",
       "      <td>HCLS1</td>\n",
       "      <td>721</td>\n",
       "      <td>0.4036</td>\n",
       "      <td>-0.390487</td>\n",
       "      <td>0.390487</td>\n",
       "      <td>1.556667e-104</td>\n",
       "      <td>-1.0</td>\n",
       "    </tr>\n",
       "  </tbody>\n",
       "</table>\n",
       "</div>"
      ],
      "text/plain": [
       "        gene  gene_index   P(H1)  bayes_factor  bayes_factor_mag  \\\n",
       "250    IL2RG         250  0.3809     -0.485730          0.485730   \n",
       "624   TOMM22         624  0.3943     -0.429273          0.429273   \n",
       "611  C9orf78         611  0.4005     -0.403382          0.403382   \n",
       "870      LTA         870  0.4031     -0.392565          0.392565   \n",
       "721    HCLS1         721  0.4036     -0.390487          0.390487   \n",
       "\n",
       "              pval  direction  \n",
       "250  4.830984e-160       -1.0  \n",
       "624  7.866339e-126       -1.0  \n",
       "611  2.070946e-111       -1.0  \n",
       "870  1.253793e-105       -1.0  \n",
       "721  1.556667e-104       -1.0  "
      ]
     },
     "execution_count": 49,
     "metadata": {},
     "output_type": "execute_result"
    }
   ],
   "source": [
    "de_results[0][1].head(5)"
   ]
  },
  {
   "cell_type": "markdown",
   "metadata": {},
   "source": [
    "## Supervised Model"
   ]
  },
  {
   "cell_type": "markdown",
   "metadata": {},
   "source": [
    "### Supervised training"
   ]
  },
  {
   "cell_type": "code",
   "execution_count": 50,
   "metadata": {},
   "outputs": [
    {
     "name": "stdout",
     "output_type": "stream",
     "text": [
      "training: 100%|██████████| 200/200 [03:44<00:00,  1.12s/it]\n"
     ]
    }
   ],
   "source": [
    "vaec = VAEC(gene_dataset.nb_genes, n_labels=gene_dataset.n_labels, n_batch=gene_dataset.n_batches * use_batches)\n",
    "supervised_infer = svi.SupervisedVariationalInference(\n",
    "    vaec, \n",
    "    gene_dataset, \n",
    "    train_size=0.9, \n",
    "    use_cuda=use_cuda,\n",
    "    verbose=False,\n",
    "    frequency=1)\n",
    "supervised_infer.train(n_epochs=n_epochs, lr=lr)"
   ]
  },
  {
   "cell_type": "code",
   "execution_count": 51,
   "metadata": {},
   "outputs": [
    {
     "data": {
      "text/plain": [
       "Text(0.5,0,'iter')"
      ]
     },
     "execution_count": 51,
     "metadata": {},
     "output_type": "execute_result"
    },
    {
     "data": {
      "image/png": "[encoded data removed]",
      "text/plain": [
       "<Figure size 432x288 with 1 Axes>"
      ]
     },
     "metadata": {},
     "output_type": "display_data"
    }
   ],
   "source": [
    "plt.plot(supervised_infer.history['ll_test'])\n",
    "plt.title('Test loss')\n",
    "plt.ylabel('ll')\n",
    "plt.xlabel('iter')"
   ]
  },
  {
   "cell_type": "code",
   "execution_count": 53,
   "metadata": {},
   "outputs": [
    {
     "data": {
      "image/png": "[encoded data removed]",
      "text/plain": [
       "<Figure size 720x1440 with 2 Axes>"
      ]
     },
     "metadata": {},
     "output_type": "display_data"
    }
   ],
   "source": [
    "plot_pair_densities(vaec, supervised_infer, n_points=5000, sigma=1.5)"
   ]
  },
  {
   "cell_type": "code",
   "execution_count": 54,
   "metadata": {},
   "outputs": [
    {
     "name": "stdout",
     "output_type": "stream",
     "text": [
      "Sampling for differential expression...\n",
      "Done sampling for differential expression...\n"
     ]
    }
   ],
   "source": [
    "supervised_de_results = mn.differential_expression(vaec, de_dataset, [0, 1], 100, 10000)"
   ]
  },
  {
   "cell_type": "code",
   "execution_count": 55,
   "metadata": {},
   "outputs": [
    {
     "data": {
      "text/html": [
       "<div>\n",
       "<style scoped>\n",
       "    .dataframe tbody tr th:only-of-type {\n",
       "        vertical-align: middle;\n",
       "    }\n",
       "\n",
       "    .dataframe tbody tr th {\n",
       "        vertical-align: top;\n",
       "    }\n",
       "\n",
       "    .dataframe thead th {\n",
       "        text-align: right;\n",
       "    }\n",
       "</style>\n",
       "<table border=\"1\" class=\"dataframe\">\n",
       "  <thead>\n",
       "    <tr style=\"text-align: right;\">\n",
       "      <th></th>\n",
       "      <th>gene</th>\n",
       "      <th>gene_index</th>\n",
       "      <th>P(H1)</th>\n",
       "      <th>bayes_factor</th>\n",
       "      <th>bayes_factor_mag</th>\n",
       "      <th>pval</th>\n",
       "      <th>direction</th>\n",
       "    </tr>\n",
       "  </thead>\n",
       "  <tbody>\n",
       "    <tr>\n",
       "      <th>250</th>\n",
       "      <td>IL2RG</td>\n",
       "      <td>250</td>\n",
       "      <td>0.2647</td>\n",
       "      <td>-1.021681</td>\n",
       "      <td>1.021681</td>\n",
       "      <td>0.0</td>\n",
       "      <td>-1.0</td>\n",
       "    </tr>\n",
       "    <tr>\n",
       "      <th>104</th>\n",
       "      <td>S100A6</td>\n",
       "      <td>104</td>\n",
       "      <td>0.2904</td>\n",
       "      <td>-0.893442</td>\n",
       "      <td>0.893442</td>\n",
       "      <td>0.0</td>\n",
       "      <td>-1.0</td>\n",
       "    </tr>\n",
       "    <tr>\n",
       "      <th>98</th>\n",
       "      <td>MYL6</td>\n",
       "      <td>98</td>\n",
       "      <td>0.2976</td>\n",
       "      <td>-0.858753</td>\n",
       "      <td>0.858753</td>\n",
       "      <td>0.0</td>\n",
       "      <td>-1.0</td>\n",
       "    </tr>\n",
       "    <tr>\n",
       "      <th>995</th>\n",
       "      <td>RSRC2</td>\n",
       "      <td>995</td>\n",
       "      <td>0.3055</td>\n",
       "      <td>-0.821242</td>\n",
       "      <td>0.821242</td>\n",
       "      <td>0.0</td>\n",
       "      <td>-1.0</td>\n",
       "    </tr>\n",
       "    <tr>\n",
       "      <th>207</th>\n",
       "      <td>GZMA</td>\n",
       "      <td>207</td>\n",
       "      <td>0.3095</td>\n",
       "      <td>-0.802458</td>\n",
       "      <td>0.802458</td>\n",
       "      <td>0.0</td>\n",
       "      <td>-1.0</td>\n",
       "    </tr>\n",
       "  </tbody>\n",
       "</table>\n",
       "</div>"
      ],
      "text/plain": [
       "       gene  gene_index   P(H1)  bayes_factor  bayes_factor_mag  pval  \\\n",
       "250   IL2RG         250  0.2647     -1.021681          1.021681   0.0   \n",
       "104  S100A6         104  0.2904     -0.893442          0.893442   0.0   \n",
       "98     MYL6          98  0.2976     -0.858753          0.858753   0.0   \n",
       "995   RSRC2         995  0.3055     -0.821242          0.821242   0.0   \n",
       "207    GZMA         207  0.3095     -0.802458          0.802458   0.0   \n",
       "\n",
       "     direction  \n",
       "250       -1.0  \n",
       "104       -1.0  \n",
       "98        -1.0  \n",
       "995       -1.0  \n",
       "207       -1.0  "
      ]
     },
     "execution_count": 55,
     "metadata": {},
     "output_type": "execute_result"
    }
   ],
   "source": [
    "supervised_de_results[0][1].head(5)"
   ]
  },
  {
   "cell_type": "markdown",
   "metadata": {},
   "source": [
    "## Compare Bayes Factors between supervised and unsupervised training"
   ]
  },
  {
   "cell_type": "code",
   "execution_count": 58,
   "metadata": {},
   "outputs": [
    {
     "name": "stderr",
     "output_type": "stream",
     "text": [
      "/anaconda3/envs/scvi/lib/python3.6/site-packages/matplotlib/axes/_axes.py:6462: UserWarning: The 'normed' kwarg is deprecated, and has been replaced by the 'density' kwarg.\n",
      "  warnings.warn(\"The 'normed' kwarg is deprecated, and has been \"\n",
      "/anaconda3/envs/scvi/lib/python3.6/site-packages/matplotlib/axes/_axes.py:6462: UserWarning: The 'normed' kwarg is deprecated, and has been replaced by the 'density' kwarg.\n",
      "  warnings.warn(\"The 'normed' kwarg is deprecated, and has been \"\n"
     ]
    },
    {
     "data": {
      "text/plain": [
       "<matplotlib.legend.Legend at 0x1a1fae1f28>"
      ]
     },
     "execution_count": 58,
     "metadata": {},
     "output_type": "execute_result"
    },
    {
     "data": {
      "image/png": "[encoded data removed]",
      "text/plain": [
       "<Figure size 432x288 with 1 Axes>"
      ]
     },
     "metadata": {},
     "output_type": "display_data"
    }
   ],
   "source": [
    "sns.distplot(supervised_de_results[0][1]['bayes_factor'], kde=False)\n",
    "sns.distplot(de_results[0][1]['bayes_factor'], kde=False)\n",
    "plt.title('Distribution of Bayes factors for genes')\n",
    "plt.legend(['supervised', 'unsupervised'])"
   ]
  },
  {
   "cell_type": "code",
   "execution_count": null,
   "metadata": {},
   "outputs": [],
   "source": []
  }
 ],
 "metadata": {
  "kernelspec": {
   "display_name": "Python [conda env:scvi]",
   "language": "python",
   "name": "conda-env-scvi-py"
  },
  "language_info": {
   "codemirror_mode": {
    "name": "ipython",
    "version": 3
   },
   "file_extension": ".py",
   "mimetype": "text/x-python",
   "name": "python",
   "nbconvert_exporter": "python",
   "pygments_lexer": "ipython3",
   "version": "3.6.5"
  }
 },
 "nbformat": 4,
 "nbformat_minor": 2
}
