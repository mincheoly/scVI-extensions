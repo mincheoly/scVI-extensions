{
 "cells": [
  {
   "cell_type": "markdown",
   "metadata": {},
   "source": [
    "# Scratch\n",
    "\n",
    "Scratch notebook for testing code."
   ]
  },
  {
   "cell_type": "code",
   "execution_count": 1,
   "metadata": {},
   "outputs": [
    {
     "data": {
      "text/html": [
       "<style>.container { width:100% !important; }</style>"
      ],
      "text/plain": [
       "<IPython.core.display.HTML object>"
      ]
     },
     "metadata": {},
     "output_type": "display_data"
    }
   ],
   "source": [
    "from IPython.core.display import display, HTML\n",
    "display(HTML(\"<style>.container { width:100% !important; }</style>\"))"
   ]
  },
  {
   "cell_type": "code",
   "execution_count": 2,
   "metadata": {},
   "outputs": [],
   "source": [
    "repo_path = '/Users/mincheolkim/Github/'\n",
    "data_path = '/Users/mincheolkim/Documents/'"
   ]
  },
  {
   "cell_type": "code",
   "execution_count": 3,
   "metadata": {},
   "outputs": [],
   "source": [
    "import sys\n",
    "sys.path.append(repo_path + 'scVI')\n",
    "sys.path.append(repo_path + 'scVI-extensions')"
   ]
  },
  {
   "cell_type": "code",
   "execution_count": 4,
   "metadata": {},
   "outputs": [],
   "source": [
    "import torch\n",
    "import imp"
   ]
  },
  {
   "cell_type": "code",
   "execution_count": 5,
   "metadata": {},
   "outputs": [
    {
     "name": "stderr",
     "output_type": "stream",
     "text": [
      "/anaconda3/envs/scvi/lib/python3.6/site-packages/h5py/__init__.py:36: FutureWarning: Conversion of the second argument of issubdtype from `float` to `np.floating` is deprecated. In future, it will be treated as `np.float64 == np.dtype(float).type`.\n",
      "  from ._conv import register_converters as _register_converters\n"
     ]
    }
   ],
   "source": [
    "import os\n",
    "\n",
    "import numpy as np\n",
    "from sklearn.manifold import TSNE\n",
    "import matplotlib\n",
    "matplotlib.use('AGG')\n",
    "import matplotlib.pyplot as plt\n",
    "import seaborn as sns\n",
    "\n",
    "from scvi.metrics.clustering import entropy_batch_mixing, get_latent\n",
    "from scvi.models import VAE, SVAEC\n",
    "from scvi.inference import VariationalInference"
   ]
  },
  {
   "cell_type": "code",
   "execution_count": 6,
   "metadata": {},
   "outputs": [],
   "source": [
    "import pandas as pd"
   ]
  },
  {
   "cell_type": "code",
   "execution_count": 7,
   "metadata": {},
   "outputs": [],
   "source": [
    "import scvi_extensions.dataset.cropseq as cs"
   ]
  },
  {
   "cell_type": "code",
   "execution_count": 8,
   "metadata": {},
   "outputs": [
    {
     "data": {
      "text/plain": [
       "<module 'scvi_extensions.dataset.cropseq' from '/Users/mincheolkim/Github/scVI-extensions/scvi_extensions/dataset/cropseq.py'>"
      ]
     },
     "execution_count": 8,
     "metadata": {},
     "output_type": "execute_result"
    }
   ],
   "source": [
    "imp.reload(cs)"
   ]
  },
  {
   "cell_type": "code",
   "execution_count": 11,
   "metadata": {},
   "outputs": [
    {
     "name": "stderr",
     "output_type": "stream",
     "text": [
      "/anaconda3/envs/scvi/lib/python3.6/site-packages/torch/serialization.py:425: SourceChangeWarning: source code of class 'torch.nn.modules.linear.Linear' has changed. you can retrieve the original source code by accessing the object's source attribute or set `torch.nn.Module.dump_patches = True` and use the patch tool to revert the changes.\n",
      "  warnings.warn(msg, SourceChangeWarning)\n",
      "/anaconda3/envs/scvi/lib/python3.6/site-packages/torch/serialization.py:425: SourceChangeWarning: source code of class 'torch.nn.modules.batchnorm.BatchNorm1d' has changed. you can retrieve the original source code by accessing the object's source attribute or set `torch.nn.Module.dump_patches = True` and use the patch tool to revert the changes.\n",
      "  warnings.warn(msg, SourceChangeWarning)\n"
     ]
    }
   ],
   "source": [
    "# Load the model\n",
    "model_path = data_path + 'vae_model_test.model'\n",
    "vae = torch.load(model_path, map_location=lambda storage, loc: storage)"
   ]
  },
  {
   "cell_type": "code",
   "execution_count": 9,
   "metadata": {},
   "outputs": [
    {
     "name": "stdout",
     "output_type": "stream",
     "text": [
      "Preprocessing CROP-seq dataset lalala\n",
      "Number of cells kept after filtering with metadata: 283634\n",
      "Number of cells kept after removing all zero cells: 283634\n",
      "Finished preprocessing CROP-seq dataset\n"
     ]
    }
   ],
   "source": [
    "# Load the dataset\n",
    "h5_filename = data_path + 'raw_gene_bc_matrices_h5.h5'\n",
    "metadata_filename = data_path + 'nsnp20.raw.sng.km_vb1.norm.meta.txt'\n",
    "gene_dataset = cs.CropseqDataset(\n",
    "    filename=h5_filename,\n",
    "    metadata_filename=metadata_filename,\n",
    "    use_donors=True,\n",
    "    use_labels=True,\n",
    "    save_path='')"
   ]
  },
  {
   "cell_type": "code",
   "execution_count": 12,
   "metadata": {},
   "outputs": [],
   "source": [
    "# Create an inference class\n",
    "use_batches=True\n",
    "use_cuda=True\n",
    "infer = VariationalInference(\n",
    "    vae, \n",
    "    gene_dataset, \n",
    "    train_size=0.9, \n",
    "    use_cuda=use_cuda,\n",
    "    verbose=True,\n",
    "    frequency=5)"
   ]
  },
  {
   "cell_type": "code",
   "execution_count": 18,
   "metadata": {},
   "outputs": [
    {
     "data": {
      "text/plain": [
       "array([[280],\n",
       "       [ 40],\n",
       "       [280],\n",
       "       ...,\n",
       "       [280],\n",
       "       [ 40],\n",
       "       [116]])"
      ]
     },
     "execution_count": 18,
     "metadata": {},
     "output_type": "execute_result"
    }
   ],
   "source": [
    "gene_dataset.labels"
   ]
  },
  {
   "cell_type": "code",
   "execution_count": 29,
   "metadata": {},
   "outputs": [],
   "source": [
    "latent = []\n",
    "for tensors in infer.data_loaders['sequential']:\n",
    "    sample_batch, local_l_mean, local_l_var, batch_index, label = tensors\n",
    "    latent += [vae.sample_from_posterior_z(sample_batch, y=label)]\n",
    "    break"
   ]
  },
  {
   "cell_type": "code",
   "execution_count": 75,
   "metadata": {},
   "outputs": [
    {
     "data": {
      "text/plain": [
       "tensor([1.8844, 0.3331])"
      ]
     },
     "execution_count": 75,
     "metadata": {},
     "output_type": "execute_result"
    }
   ],
   "source": [
    "torch.distributions.Normal(torch.tensor([1.0, 1.0]), torch.tensor([1.0, 1.0])).rsample()"
   ]
  },
  {
   "cell_type": "code",
   "execution_count": 82,
   "metadata": {},
   "outputs": [],
   "source": [
    "x = sample_batch"
   ]
  },
  {
   "cell_type": "code",
   "execution_count": 122,
   "metadata": {},
   "outputs": [],
   "source": [
    "q = vae.z_encoder.encoder(x)[0, :]"
   ]
  },
  {
   "cell_type": "code",
   "execution_count": 130,
   "metadata": {},
   "outputs": [],
   "source": [
    "var = vae.z_encoder.var_encoder(vae.z_encoder.encoder(x)[10, :])"
   ]
  },
  {
   "cell_type": "code",
   "execution_count": 137,
   "metadata": {},
   "outputs": [
    {
     "data": {
      "text/plain": [
       "tensor([0.0067, 0.0067, 0.0067, 0.0067, 0.0067, 0.0067, 0.0067, 0.0067, 0.0067,\n",
       "        0.0067])"
      ]
     },
     "execution_count": 137,
     "metadata": {},
     "output_type": "execute_result"
    }
   ],
   "source": [
    "torch.exp(torch.clamp(var, -5, 5))"
   ]
  },
  {
   "cell_type": "code",
   "execution_count": 120,
   "metadata": {},
   "outputs": [
    {
     "data": {
      "text/plain": [
       "tensor([[ 2.5654,  0.0000,  0.0000,  ...,  2.5109,  8.8773,  0.7601],\n",
       "        [ 0.0000,  0.0000,  0.0000,  ..., 15.8079,  0.0000,  0.0000],\n",
       "        [ 7.5503,  0.0000,  0.0000,  ...,  1.1686, 13.2909,  5.0562],\n",
       "        ...,\n",
       "        [ 8.6540, 18.0296,  0.0000,  ..., 11.6259,  9.6111,  2.0203],\n",
       "        [ 0.0000,  0.0000,  0.0000,  ...,  9.4792,  1.8050,  0.0000],\n",
       "        [ 2.3887,  0.0000,  0.0000,  ...,  6.2484,  9.2351,  0.0000]])"
      ]
     },
     "execution_count": 120,
     "metadata": {},
     "output_type": "execute_result"
    }
   ],
   "source": [
    "q"
   ]
  },
  {
   "cell_type": "code",
   "execution_count": 99,
   "metadata": {},
   "outputs": [
    {
     "data": {
      "text/plain": [
       "torch.Size([10, 128])"
      ]
     },
     "execution_count": 99,
     "metadata": {},
     "output_type": "execute_result"
    }
   ],
   "source": [
    "vae.z_encoder.var_encoder.weight.shape"
   ]
  },
  {
   "cell_type": "code",
   "execution_count": null,
   "metadata": {},
   "outputs": [],
   "source": []
  },
  {
   "cell_type": "code",
   "execution_count": 93,
   "metadata": {},
   "outputs": [
    {
     "data": {
      "text/plain": [
       "tensor([[ -81.9397,  -76.3242,  -16.1560,  ...,  124.1240,  271.2110,\n",
       "          300.8079],\n",
       "        [-163.5321,   72.3545, -374.5663,  ...,  271.3742,  156.3855,\n",
       "          163.5798],\n",
       "        [ -92.2339,  -57.9898,  -87.6369,  ...,  242.6978,  124.5783,\n",
       "          185.8195],\n",
       "        ...,\n",
       "        [  19.6231,  -21.3858, -393.1049,  ...,  475.5630, -191.9860,\n",
       "          172.7761],\n",
       "        [-153.8749,  -48.3089, -190.6447,  ...,  183.3277,  372.9952,\n",
       "          343.9473],\n",
       "        [-163.2225, -111.5427,  -87.5208,  ...,  187.7696,  255.4589,\n",
       "          297.7498]])"
      ]
     },
     "execution_count": 93,
     "metadata": {},
     "output_type": "execute_result"
    }
   ],
   "source": [
    "qz_m"
   ]
  },
  {
   "cell_type": "code",
   "execution_count": 62,
   "metadata": {},
   "outputs": [
    {
     "data": {
      "text/plain": [
       "tensor([10.2543, -7.8392, -4.8887, -5.5117, -9.9770, 18.0329, 36.2084,  3.4973,\n",
       "        16.5866, 28.1041])"
      ]
     },
     "execution_count": 62,
     "metadata": {},
     "output_type": "execute_result"
    }
   ],
   "source": [
    "vae.sample_from_posterior_z(sample_batch, y=label)[0, :]"
   ]
  },
  {
   "cell_type": "code",
   "execution_count": 44,
   "metadata": {},
   "outputs": [
    {
     "data": {
      "text/plain": [
       "torch.Size([128, 32738])"
      ]
     },
     "execution_count": 44,
     "metadata": {},
     "output_type": "execute_result"
    }
   ],
   "source": [
    "sample_batch.shape"
   ]
  },
  {
   "cell_type": "code",
   "execution_count": 35,
   "metadata": {},
   "outputs": [
    {
     "data": {
      "text/plain": [
       "torch.Size([128, 10])"
      ]
     },
     "execution_count": 35,
     "metadata": {},
     "output_type": "execute_result"
    }
   ],
   "source": [
    "latent[0].shape"
   ]
  },
  {
   "cell_type": "code",
   "execution_count": 40,
   "metadata": {},
   "outputs": [
    {
     "data": {
      "text/plain": [
       "array([-0.84022033,  4.3386154 , -3.2906535 , -4.476451  , -2.4687972 ,\n",
       "       24.499353  , 14.695851  , 30.992464  , 20.389019  ,  5.676299  ],\n",
       "      dtype=float32)"
      ]
     },
     "execution_count": 40,
     "metadata": {},
     "output_type": "execute_result"
    }
   ],
   "source": [
    "latent[0].data.numpy()[3, :]"
   ]
  },
  {
   "cell_type": "code",
   "execution_count": 24,
   "metadata": {},
   "outputs": [],
   "source": [
    "temp = sample_batch.data.numpy()"
   ]
  },
  {
   "cell_type": "code",
   "execution_count": 28,
   "metadata": {},
   "outputs": [
    {
     "data": {
      "text/plain": [
       "array([ 1137.,  5472.,  3480.,  1732.,  4473.,  4439.,  2447.,  1142.,\n",
       "        7492.,  5171.,  5632.,  2619.,   720.,  7774.,  1244.,  1294.,\n",
       "        1930.,  4889.,  3251.,  1209.,  5922.,  2607.,  3778.,  4994.,\n",
       "        5410.,  1198.,  3473.,  1982., 20290.,  7548.,  3356.,  4367.,\n",
       "        1278.,  1978.,  8913.,  3520.,  1368.,  1884.,  1585.,  1699.,\n",
       "        5984.,  1647.,  1657.,  2604.,  1476.,  1934., 10458.,  4358.,\n",
       "        4806.,  2660.,  3067.,  2884.,  5543.,  1202.,  3372.,  2360.,\n",
       "        1205.,  2088.,  1668.,  2356.,  1868.,  1515.,  2080.,  2059.,\n",
       "        1903.,  1789.,  1975.,  2034.,  6618.,  9371.,  3633.,  1854.,\n",
       "        1867.,  5155.,  2370.,  1837.,  1446.,  3071.,  1544.,  3738.,\n",
       "        1993.,  2015.,  1248.,   995., 15023.,  7215.,  2474.,  5868.,\n",
       "        1895.,  3151.,  2103.,  2477.,  2236., 11979.,  1250.,  2358.,\n",
       "        2198.,  1611.,  3272.,  1904.,  2200.,  5870.,  3375.,  3827.,\n",
       "        2522.,  2293.,  4947.,  2171.,  1769.,  8345.,  2050.,  1225.,\n",
       "        1917.,  2923.,  2762.,  1428.,  9623.,  1568.,  1818.,  2001.,\n",
       "        1961.,  2555.,  3309.,  3228.,  3055.,  7857.,  2256.,  2893.],\n",
       "      dtype=float32)"
      ]
     },
     "execution_count": 28,
     "metadata": {},
     "output_type": "execute_result"
    }
   ],
   "source": [
    "temp.sum(axis=1)"
   ]
  },
  {
   "cell_type": "code",
   "execution_count": null,
   "metadata": {},
   "outputs": [],
   "source": [
    "latent "
   ]
  }
 ],
 "metadata": {
  "kernelspec": {
   "display_name": "Python [conda env:scvi]",
   "language": "python",
   "name": "conda-env-scvi-py"
  },
  "language_info": {
   "codemirror_mode": {
    "name": "ipython",
    "version": 3
   },
   "file_extension": ".py",
   "mimetype": "text/x-python",
   "name": "python",
   "nbconvert_exporter": "python",
   "pygments_lexer": "ipython3",
   "version": "3.6.5"
  }
 },
 "nbformat": 4,
 "nbformat_minor": 2
}
