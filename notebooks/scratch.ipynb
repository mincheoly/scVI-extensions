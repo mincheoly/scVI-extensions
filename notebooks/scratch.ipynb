{
 "cells": [
  {
   "cell_type": "markdown",
   "metadata": {},
   "source": [
    "# Scratch\n",
    "\n",
    "Scratch notebook for testing code."
   ]
  },
  {
   "cell_type": "code",
   "execution_count": 1,
   "metadata": {},
   "outputs": [
    {
     "data": {
      "text/html": [
       "<style>.container { width:100% !important; }</style>"
      ],
      "text/plain": [
       "<IPython.core.display.HTML object>"
      ]
     },
     "metadata": {},
     "output_type": "display_data"
    }
   ],
   "source": [
    "from IPython.core.display import display, HTML\n",
    "display(HTML(\"<style>.container { width:100% !important; }</style>\"))"
   ]
  },
  {
   "cell_type": "code",
   "execution_count": 2,
   "metadata": {},
   "outputs": [],
   "source": [
    "repo_path = '/Users/mincheolkim/Github/'\n",
    "data_path = '/Users/mincheolkim/Documents/'"
   ]
  },
  {
   "cell_type": "code",
   "execution_count": 3,
   "metadata": {},
   "outputs": [],
   "source": [
    "import sys\n",
    "sys.path.append(repo_path + 'scVI')\n",
    "sys.path.append(repo_path + 'scVI-extensions')"
   ]
  },
  {
   "cell_type": "code",
   "execution_count": 4,
   "metadata": {},
   "outputs": [],
   "source": [
    "import torch\n",
    "import imp"
   ]
  },
  {
   "cell_type": "code",
   "execution_count": 5,
   "metadata": {},
   "outputs": [],
   "source": [
    "import pandas as pd"
   ]
  },
  {
   "cell_type": "code",
   "execution_count": 6,
   "metadata": {},
   "outputs": [
    {
     "name": "stderr",
     "output_type": "stream",
     "text": [
      "/anaconda3/envs/scvi/lib/python3.6/site-packages/h5py/__init__.py:36: FutureWarning: Conversion of the second argument of issubdtype from `float` to `np.floating` is deprecated. In future, it will be treated as `np.float64 == np.dtype(float).type`.\n",
      "  from ._conv import register_converters as _register_converters\n"
     ]
    }
   ],
   "source": [
    "import os\n",
    "\n",
    "import numpy as np\n",
    "from sklearn.manifold import TSNE\n",
    "import matplotlib\n",
    "matplotlib.use('AGG')\n",
    "import matplotlib.pyplot as plt\n",
    "import seaborn as sns\n",
    "\n",
    "from scvi.metrics.clustering import entropy_batch_mixing, get_latent\n",
    "from scvi.models import VAE, SVAEC, VAEC\n",
    "from scvi.inference import VariationalInference"
   ]
  },
  {
   "cell_type": "code",
   "execution_count": 7,
   "metadata": {},
   "outputs": [],
   "source": [
    "import scvi_extensions.dataset.supervised_data_loader as sdl\n",
    "import scvi_extensions.dataset.cropseq as cs"
   ]
  },
  {
   "cell_type": "code",
   "execution_count": 8,
   "metadata": {},
   "outputs": [
    {
     "data": {
      "text/plain": [
       "<module 'scvi_extensions.dataset.supervised_data_loader' from '/Users/mincheolkim/Github/scVI-extensions/scvi_extensions/dataset/supervised_data_loader.py'>"
      ]
     },
     "execution_count": 8,
     "metadata": {},
     "output_type": "execute_result"
    }
   ],
   "source": [
    "imp.reload(cs)\n",
    "imp.reload(sdl)"
   ]
  },
  {
   "cell_type": "markdown",
   "metadata": {},
   "source": [
    "### KO gene extraction"
   ]
  },
  {
   "cell_type": "code",
   "execution_count": 13,
   "metadata": {},
   "outputs": [],
   "source": [
    "s = pd.Series(['afgafb.32434fdga', 'dafsf32.3243argfcas', 'c3.3423'])"
   ]
  },
  {
   "cell_type": "markdown",
   "metadata": {},
   "source": [
    "### Debugging supervised training"
   ]
  },
  {
   "cell_type": "code",
   "execution_count": 18,
   "metadata": {},
   "outputs": [
    {
     "name": "stdout",
     "output_type": "stream",
     "text": [
      "Preprocessing CROP-seq dataset\n",
      "Number of cells kept after filtering with metadata: 198\n",
      "Number of cells kept after removing all zero cells: 198\n",
      "Finished preprocessing CROP-seq dataset\n",
      "loaded dataset!\n"
     ]
    }
   ],
   "source": [
    "h5_filename = '/Users/mincheolkim/Documents/raw_gene_bc_matrices_h5.h5'\n",
    "metadata_filename = '/Users/mincheolkim/Documents/sample_metadata.txt'\n",
    "\n",
    "gene_dataset = cs.CropseqDataset(\n",
    "    filename=h5_filename,\n",
    "    metadata_filename=metadata_filename,\n",
    "    use_donors=True,\n",
    "    use_labels=True,\n",
    "    save_path='')\n",
    "\n",
    "print('loaded dataset!')"
   ]
  },
  {
   "cell_type": "code",
   "execution_count": null,
   "metadata": {},
   "outputs": [],
   "source": [
    "imp.reload(cs)\n",
    "imp.reload(sdl)"
   ]
  },
  {
   "cell_type": "code",
   "execution_count": null,
   "metadata": {},
   "outputs": [],
   "source": [
    "vae = VAEC(gene_dataset.nb_genes, n_labels=gene_dataset.n_labels, n_batch=gene_dataset.n_batches * use_batches)\n",
    "infer = cs.SupervisedVariationalInference(\n",
    "    vae, \n",
    "    gene_dataset, \n",
    "    train_size=0.9, \n",
    "    use_cuda=use_cuda,\n",
    "    verbose=True,\n",
    "    frequency=1)\n",
    "infer.train(n_epochs=n_epochs, lr=lr)"
   ]
  },
  {
   "cell_type": "code",
   "execution_count": null,
   "metadata": {},
   "outputs": [],
   "source": [
    "vae = VAE(gene_dataset.nb_genes, n_batch=gene_dataset.n_batches * use_batches)\n",
    "infer = VariationalInference(\n",
    "    vae, \n",
    "    gene_dataset, \n",
    "    train_size=0.9, \n",
    "    use_cuda=use_cuda,\n",
    "    verbose=True,\n",
    "    frequency=1)\n",
    "infer.train(n_epochs=n_epochs, lr=lr)"
   ]
  },
  {
   "cell_type": "markdown",
   "metadata": {},
   "source": [
    "### Create a shorter metadata file"
   ]
  },
  {
   "cell_type": "code",
   "execution_count": 9,
   "metadata": {},
   "outputs": [],
   "source": [
    "metadata_filename = data_path + 'nsnp20.raw.sng.km_vb1.norm.meta.txt'\n",
    "metadata = pd.read_csv(metadata_filename, sep='\\t')"
   ]
  },
  {
   "cell_type": "code",
   "execution_count": 10,
   "metadata": {},
   "outputs": [
    {
     "data": {
      "text/html": [
       "<div>\n",
       "<style scoped>\n",
       "    .dataframe tbody tr th:only-of-type {\n",
       "        vertical-align: middle;\n",
       "    }\n",
       "\n",
       "    .dataframe tbody tr th {\n",
       "        vertical-align: top;\n",
       "    }\n",
       "\n",
       "    .dataframe thead th {\n",
       "        text-align: right;\n",
       "    }\n",
       "</style>\n",
       "<table border=\"1\" class=\"dataframe\">\n",
       "  <thead>\n",
       "    <tr style=\"text-align: right;\">\n",
       "      <th></th>\n",
       "      <th>index</th>\n",
       "      <th>guide_cov</th>\n",
       "      <th>donor_cov</th>\n",
       "      <th>well_cov</th>\n",
       "      <th>numi_cov</th>\n",
       "      <th>multiplet_cov</th>\n",
       "      <th>nsnp_cov</th>\n",
       "      <th>percent_mito</th>\n",
       "      <th>n_counts</th>\n",
       "      <th>louvain</th>\n",
       "    </tr>\n",
       "  </thead>\n",
       "  <tbody>\n",
       "    <tr>\n",
       "      <th>0</th>\n",
       "      <td>GCATGATCATCAGTCA-7</td>\n",
       "      <td>0</td>\n",
       "      <td>IGTB1840</td>\n",
       "      <td>7</td>\n",
       "      <td>1137</td>\n",
       "      <td>SNG</td>\n",
       "      <td>49</td>\n",
       "      <td>0.030783</td>\n",
       "      <td>485.21652</td>\n",
       "      <td>4</td>\n",
       "    </tr>\n",
       "    <tr>\n",
       "      <th>1</th>\n",
       "      <td>CGATCGGAGTGTTGAA-6</td>\n",
       "      <td>DPF2.65340430.AGAGGCGAGCATTGTAATTG_guide</td>\n",
       "      <td>IGTB884</td>\n",
       "      <td>6</td>\n",
       "      <td>5472</td>\n",
       "      <td>SNG</td>\n",
       "      <td>137</td>\n",
       "      <td>0.041667</td>\n",
       "      <td>1832.83230</td>\n",
       "      <td>0</td>\n",
       "    </tr>\n",
       "    <tr>\n",
       "      <th>2</th>\n",
       "      <td>CTACATTTCTGAGGGA-3</td>\n",
       "      <td>0</td>\n",
       "      <td>IGTB1901</td>\n",
       "      <td>3</td>\n",
       "      <td>3480</td>\n",
       "      <td>SNG</td>\n",
       "      <td>87</td>\n",
       "      <td>0.038218</td>\n",
       "      <td>1342.04440</td>\n",
       "      <td>0</td>\n",
       "    </tr>\n",
       "    <tr>\n",
       "      <th>3</th>\n",
       "      <td>TGGCGCAGTTAGTGGG-11</td>\n",
       "      <td>HDAC3.141628129.ACCTGGAGCACAATGCACGT_guide</td>\n",
       "      <td>IGTB1840</td>\n",
       "      <td>11</td>\n",
       "      <td>1732</td>\n",
       "      <td>SNG</td>\n",
       "      <td>54</td>\n",
       "      <td>0.025404</td>\n",
       "      <td>599.47550</td>\n",
       "      <td>1</td>\n",
       "    </tr>\n",
       "    <tr>\n",
       "      <th>4</th>\n",
       "      <td>TAGAGCTGTCTTCAAG-14</td>\n",
       "      <td>PRDM1.106088300.AGGATGCGGATATGACTCTG_guide</td>\n",
       "      <td>IGTB1901</td>\n",
       "      <td>14</td>\n",
       "      <td>4473</td>\n",
       "      <td>DBL</td>\n",
       "      <td>107</td>\n",
       "      <td>0.089873</td>\n",
       "      <td>1489.02300</td>\n",
       "      <td>8</td>\n",
       "    </tr>\n",
       "  </tbody>\n",
       "</table>\n",
       "</div>"
      ],
      "text/plain": [
       "                 index                                   guide_cov donor_cov  \\\n",
       "0   GCATGATCATCAGTCA-7                                           0  IGTB1840   \n",
       "1   CGATCGGAGTGTTGAA-6    DPF2.65340430.AGAGGCGAGCATTGTAATTG_guide   IGTB884   \n",
       "2   CTACATTTCTGAGGGA-3                                           0  IGTB1901   \n",
       "3  TGGCGCAGTTAGTGGG-11  HDAC3.141628129.ACCTGGAGCACAATGCACGT_guide  IGTB1840   \n",
       "4  TAGAGCTGTCTTCAAG-14  PRDM1.106088300.AGGATGCGGATATGACTCTG_guide  IGTB1901   \n",
       "\n",
       "   well_cov  numi_cov multiplet_cov  nsnp_cov  percent_mito    n_counts  \\\n",
       "0         7      1137           SNG        49      0.030783   485.21652   \n",
       "1         6      5472           SNG       137      0.041667  1832.83230   \n",
       "2         3      3480           SNG        87      0.038218  1342.04440   \n",
       "3        11      1732           SNG        54      0.025404   599.47550   \n",
       "4        14      4473           DBL       107      0.089873  1489.02300   \n",
       "\n",
       "   louvain  \n",
       "0        4  \n",
       "1        0  \n",
       "2        0  \n",
       "3        1  \n",
       "4        8  "
      ]
     },
     "execution_count": 10,
     "metadata": {},
     "output_type": "execute_result"
    }
   ],
   "source": [
    "metadata.head(5)"
   ]
  },
  {
   "cell_type": "code",
   "execution_count": 7,
   "metadata": {},
   "outputs": [],
   "source": [
    "control_pol2_cells = metadata[metadata.guide_cov.str.contains('POL') | (metadata.guide_cov == '0')]"
   ]
  },
  {
   "cell_type": "code",
   "execution_count": 8,
   "metadata": {},
   "outputs": [],
   "source": [
    "sample_metadata = metadata.sample(200)"
   ]
  },
  {
   "cell_type": "code",
   "execution_count": 9,
   "metadata": {},
   "outputs": [],
   "source": [
    "sample_metadata.to_csv(data_path + 'sample_metadata.txt', sep='\\t')"
   ]
  },
  {
   "cell_type": "code",
   "execution_count": 39,
   "metadata": {},
   "outputs": [],
   "source": [
    "control_pol2_cells.to_csv(data_path + 'control_pol2_metadata.txt', sep='\\t')"
   ]
  },
  {
   "cell_type": "markdown",
   "metadata": {},
   "source": [
    "### Testing the cropseq guide lookup"
   ]
  },
  {
   "cell_type": "code",
   "execution_count": 60,
   "metadata": {},
   "outputs": [
    {
     "name": "stdout",
     "output_type": "stream",
     "text": [
      "Preprocessing CROP-seq dataset\n",
      "Number of cells kept after filtering with metadata: 283634\n",
      "Number of cells kept after removing all zero cells: 283634\n",
      "Finished preprocessing CROP-seq dataset\n"
     ]
    }
   ],
   "source": [
    "imp.reload(cs)\n",
    "imp.reload(sdl)\n",
    "# Load the dataset\n",
    "h5_filename = data_path + 'raw_gene_bc_matrices_h5.h5'\n",
    "metadata_filename = data_path + 'nsnp20.raw.sng.km_vb1.norm.meta.txt'\n",
    "gene_dataset = cs.CropseqDataset(\n",
    "    filename=h5_filename,\n",
    "    metadata_filename=metadata_filename,\n",
    "    use_donors=True,\n",
    "    use_labels=True,\n",
    "    save_path='')"
   ]
  },
  {
   "cell_type": "markdown",
   "metadata": {},
   "source": [
    "### Testing data loader"
   ]
  },
  {
   "cell_type": "code",
   "execution_count": 9,
   "metadata": {},
   "outputs": [
    {
     "name": "stdout",
     "output_type": "stream",
     "text": [
      "Preprocessing CROP-seq dataset\n",
      "Number of cells kept after filtering with metadata: 283634\n",
      "Number of cells kept after removing all zero cells: 283634\n",
      "Finished preprocessing CROP-seq dataset\n"
     ]
    }
   ],
   "source": [
    "# Load the dataset\n",
    "h5_filename = data_path + 'raw_gene_bc_matrices_h5.h5'\n",
    "metadata_filename = data_path + 'nsnp20.raw.sng.km_vb1.norm.meta.txt'\n",
    "gene_dataset = cs.CropseqDataset(\n",
    "    filename=h5_filename,\n",
    "    metadata_filename=metadata_filename,\n",
    "    use_donors=True,\n",
    "    use_labels=True,\n",
    "    save_path='')"
   ]
  },
  {
   "cell_type": "code",
   "execution_count": 43,
   "metadata": {},
   "outputs": [],
   "source": [
    "imp.reload(cs)\n",
    "imp.reload(sdl)\n",
    "data_loader = sdl.SupervisedTrainTestDataLoaders(gene_dataset)"
   ]
  },
  {
   "cell_type": "code",
   "execution_count": 53,
   "metadata": {},
   "outputs": [
    {
     "name": "stdout",
     "output_type": "stream",
     "text": [
      "(array([  6,   7,  16,  17,  18,  19,  20,  21,  23,  29,  31,  34,  38,\n",
      "        39,  40,  41,  47,  49,  52,  56,  59,  60,  64,  67,  73,  75,\n",
      "        76,  77,  79,  83,  87,  88,  91,  94,  97,  99, 100, 101, 110,\n",
      "       111, 112, 113, 114, 116, 118, 128, 131, 132, 135, 136, 140, 145,\n",
      "       146, 147, 149, 151, 153, 157, 158, 163, 167, 168, 169, 183, 186,\n",
      "       194, 197, 200, 203, 207, 208, 213, 218, 221, 222, 225, 228, 230,\n",
      "       247, 248, 249, 254, 256, 260, 261, 265, 266, 268, 269, 272, 273,\n",
      "       275, 276, 278, 280]), array([1, 1, 3, 1, 1, 2, 1, 1, 1, 1, 1, 1, 1, 1, 1, 1, 1, 1, 2, 1, 2, 1,\n",
      "       1, 1, 2, 2, 1, 2, 3, 1, 2, 2, 1, 1, 1, 1, 1, 2, 1, 1, 1, 1, 1, 1,\n",
      "       1, 2, 2, 1, 2, 2, 2, 1, 1, 1, 1, 1, 1, 2, 2, 1, 1, 1, 1, 1, 2, 1,\n",
      "       2, 1, 1, 1, 1, 1, 1, 1, 1, 1, 2, 1, 1, 3, 1, 1, 3, 1, 1, 2, 1, 2,\n",
      "       1, 1, 1, 3, 1, 3, 1]))\n"
     ]
    }
   ],
   "source": [
    "for tensors in data_loader['all']:\n",
    "    sample_batch, local_l_mean, local_l_var, batch_index, label = tensors\n",
    "    print(np.unique(label, return_counts=True))\n",
    "    break"
   ]
  },
  {
   "cell_type": "markdown",
   "metadata": {},
   "source": [
    "### misc"
   ]
  },
  {
   "cell_type": "code",
   "execution_count": 11,
   "metadata": {},
   "outputs": [
    {
     "name": "stderr",
     "output_type": "stream",
     "text": [
      "/anaconda3/envs/scvi/lib/python3.6/site-packages/torch/serialization.py:425: SourceChangeWarning: source code of class 'torch.nn.modules.linear.Linear' has changed. you can retrieve the original source code by accessing the object's source attribute or set `torch.nn.Module.dump_patches = True` and use the patch tool to revert the changes.\n",
      "  warnings.warn(msg, SourceChangeWarning)\n",
      "/anaconda3/envs/scvi/lib/python3.6/site-packages/torch/serialization.py:425: SourceChangeWarning: source code of class 'torch.nn.modules.batchnorm.BatchNorm1d' has changed. you can retrieve the original source code by accessing the object's source attribute or set `torch.nn.Module.dump_patches = True` and use the patch tool to revert the changes.\n",
      "  warnings.warn(msg, SourceChangeWarning)\n"
     ]
    }
   ],
   "source": [
    "# Load the model\n",
    "model_path = data_path + 'vae_model_test.model'\n",
    "vae = torch.load(model_path, map_location=lambda storage, loc: storage)"
   ]
  },
  {
   "cell_type": "code",
   "execution_count": 9,
   "metadata": {},
   "outputs": [
    {
     "name": "stdout",
     "output_type": "stream",
     "text": [
      "Preprocessing CROP-seq dataset lalala\n",
      "Number of cells kept after filtering with metadata: 283634\n",
      "Number of cells kept after removing all zero cells: 283634\n",
      "Finished preprocessing CROP-seq dataset\n"
     ]
    }
   ],
   "source": [
    "# Load the dataset\n",
    "h5_filename = data_path + 'raw_gene_bc_matrices_h5.h5'\n",
    "metadata_filename = data_path + 'nsnp20.raw.sng.km_vb1.norm.meta.txt'\n",
    "gene_dataset = cs.CropseqDataset(\n",
    "    filename=h5_filename,\n",
    "    metadata_filename=metadata_filename,\n",
    "    use_donors=True,\n",
    "    use_labels=True,\n",
    "    save_path='')"
   ]
  },
  {
   "cell_type": "code",
   "execution_count": 12,
   "metadata": {},
   "outputs": [],
   "source": [
    "# Create an inference class\n",
    "use_batches=True\n",
    "use_cuda=True\n",
    "infer = VariationalInference(\n",
    "    vae, \n",
    "    gene_dataset, \n",
    "    train_size=0.9, \n",
    "    use_cuda=use_cuda,\n",
    "    verbose=True,\n",
    "    frequency=5)"
   ]
  },
  {
   "cell_type": "code",
   "execution_count": 18,
   "metadata": {},
   "outputs": [
    {
     "data": {
      "text/plain": [
       "array([[280],\n",
       "       [ 40],\n",
       "       [280],\n",
       "       ...,\n",
       "       [280],\n",
       "       [ 40],\n",
       "       [116]])"
      ]
     },
     "execution_count": 18,
     "metadata": {},
     "output_type": "execute_result"
    }
   ],
   "source": [
    "gene_dataset.labels"
   ]
  },
  {
   "cell_type": "code",
   "execution_count": null,
   "metadata": {},
   "outputs": [],
   "source": [
    "data_loader = "
   ]
  },
  {
   "cell_type": "code",
   "execution_count": 29,
   "metadata": {},
   "outputs": [],
   "source": [
    "latent = []\n",
    "for tensors in infer.data_loaders['sequential']:\n",
    "    sample_batch, local_l_mean, local_l_var, batch_index, label = tensors\n",
    "    latent += [vae.sample_from_posterior_z(sample_batch, y=label)]\n",
    "    break"
   ]
  },
  {
   "cell_type": "code",
   "execution_count": 75,
   "metadata": {},
   "outputs": [
    {
     "data": {
      "text/plain": [
       "tensor([1.8844, 0.3331])"
      ]
     },
     "execution_count": 75,
     "metadata": {},
     "output_type": "execute_result"
    }
   ],
   "source": [
    "torch.distributions.Normal(torch.tensor([1.0, 1.0]), torch.tensor([1.0, 1.0])).rsample()"
   ]
  },
  {
   "cell_type": "code",
   "execution_count": 82,
   "metadata": {},
   "outputs": [],
   "source": [
    "x = sample_batch"
   ]
  },
  {
   "cell_type": "code",
   "execution_count": 122,
   "metadata": {},
   "outputs": [],
   "source": [
    "q = vae.z_encoder.encoder(x)[0, :]"
   ]
  },
  {
   "cell_type": "code",
   "execution_count": 130,
   "metadata": {},
   "outputs": [],
   "source": [
    "var = vae.z_encoder.var_encoder(vae.z_encoder.encoder(x)[10, :])"
   ]
  },
  {
   "cell_type": "code",
   "execution_count": 137,
   "metadata": {},
   "outputs": [
    {
     "data": {
      "text/plain": [
       "tensor([0.0067, 0.0067, 0.0067, 0.0067, 0.0067, 0.0067, 0.0067, 0.0067, 0.0067,\n",
       "        0.0067])"
      ]
     },
     "execution_count": 137,
     "metadata": {},
     "output_type": "execute_result"
    }
   ],
   "source": [
    "torch.exp(torch.clamp(var, -5, 5))"
   ]
  },
  {
   "cell_type": "code",
   "execution_count": 120,
   "metadata": {},
   "outputs": [
    {
     "data": {
      "text/plain": [
       "tensor([[ 2.5654,  0.0000,  0.0000,  ...,  2.5109,  8.8773,  0.7601],\n",
       "        [ 0.0000,  0.0000,  0.0000,  ..., 15.8079,  0.0000,  0.0000],\n",
       "        [ 7.5503,  0.0000,  0.0000,  ...,  1.1686, 13.2909,  5.0562],\n",
       "        ...,\n",
       "        [ 8.6540, 18.0296,  0.0000,  ..., 11.6259,  9.6111,  2.0203],\n",
       "        [ 0.0000,  0.0000,  0.0000,  ...,  9.4792,  1.8050,  0.0000],\n",
       "        [ 2.3887,  0.0000,  0.0000,  ...,  6.2484,  9.2351,  0.0000]])"
      ]
     },
     "execution_count": 120,
     "metadata": {},
     "output_type": "execute_result"
    }
   ],
   "source": [
    "q"
   ]
  },
  {
   "cell_type": "code",
   "execution_count": 99,
   "metadata": {},
   "outputs": [
    {
     "data": {
      "text/plain": [
       "torch.Size([10, 128])"
      ]
     },
     "execution_count": 99,
     "metadata": {},
     "output_type": "execute_result"
    }
   ],
   "source": [
    "vae.z_encoder.var_encoder.weight.shape"
   ]
  },
  {
   "cell_type": "code",
   "execution_count": null,
   "metadata": {},
   "outputs": [],
   "source": []
  },
  {
   "cell_type": "code",
   "execution_count": 93,
   "metadata": {},
   "outputs": [
    {
     "data": {
      "text/plain": [
       "tensor([[ -81.9397,  -76.3242,  -16.1560,  ...,  124.1240,  271.2110,\n",
       "          300.8079],\n",
       "        [-163.5321,   72.3545, -374.5663,  ...,  271.3742,  156.3855,\n",
       "          163.5798],\n",
       "        [ -92.2339,  -57.9898,  -87.6369,  ...,  242.6978,  124.5783,\n",
       "          185.8195],\n",
       "        ...,\n",
       "        [  19.6231,  -21.3858, -393.1049,  ...,  475.5630, -191.9860,\n",
       "          172.7761],\n",
       "        [-153.8749,  -48.3089, -190.6447,  ...,  183.3277,  372.9952,\n",
       "          343.9473],\n",
       "        [-163.2225, -111.5427,  -87.5208,  ...,  187.7696,  255.4589,\n",
       "          297.7498]])"
      ]
     },
     "execution_count": 93,
     "metadata": {},
     "output_type": "execute_result"
    }
   ],
   "source": [
    "qz_m"
   ]
  },
  {
   "cell_type": "code",
   "execution_count": 62,
   "metadata": {},
   "outputs": [
    {
     "data": {
      "text/plain": [
       "tensor([10.2543, -7.8392, -4.8887, -5.5117, -9.9770, 18.0329, 36.2084,  3.4973,\n",
       "        16.5866, 28.1041])"
      ]
     },
     "execution_count": 62,
     "metadata": {},
     "output_type": "execute_result"
    }
   ],
   "source": [
    "vae.sample_from_posterior_z(sample_batch, y=label)[0, :]"
   ]
  },
  {
   "cell_type": "code",
   "execution_count": 44,
   "metadata": {},
   "outputs": [
    {
     "data": {
      "text/plain": [
       "torch.Size([128, 32738])"
      ]
     },
     "execution_count": 44,
     "metadata": {},
     "output_type": "execute_result"
    }
   ],
   "source": [
    "sample_batch.shape"
   ]
  },
  {
   "cell_type": "code",
   "execution_count": 35,
   "metadata": {},
   "outputs": [
    {
     "data": {
      "text/plain": [
       "torch.Size([128, 10])"
      ]
     },
     "execution_count": 35,
     "metadata": {},
     "output_type": "execute_result"
    }
   ],
   "source": [
    "latent[0].shape"
   ]
  },
  {
   "cell_type": "code",
   "execution_count": 40,
   "metadata": {},
   "outputs": [
    {
     "data": {
      "text/plain": [
       "array([-0.84022033,  4.3386154 , -3.2906535 , -4.476451  , -2.4687972 ,\n",
       "       24.499353  , 14.695851  , 30.992464  , 20.389019  ,  5.676299  ],\n",
       "      dtype=float32)"
      ]
     },
     "execution_count": 40,
     "metadata": {},
     "output_type": "execute_result"
    }
   ],
   "source": [
    "latent[0].data.numpy()[3, :]"
   ]
  },
  {
   "cell_type": "code",
   "execution_count": 24,
   "metadata": {},
   "outputs": [],
   "source": [
    "temp = sample_batch.data.numpy()"
   ]
  },
  {
   "cell_type": "code",
   "execution_count": null,
   "metadata": {},
   "outputs": [],
   "source": [
    "latent "
   ]
  }
 ],
 "metadata": {
  "kernelspec": {
   "display_name": "Python [conda env:scvi]",
   "language": "python",
   "name": "conda-env-scvi-py"
  },
  "language_info": {
   "codemirror_mode": {
    "name": "ipython",
    "version": 3
   },
   "file_extension": ".py",
   "mimetype": "text/x-python",
   "name": "python",
   "nbconvert_exporter": "python",
   "pygments_lexer": "ipython3",
   "version": "3.6.5"
  }
 },
 "nbformat": 4,
 "nbformat_minor": 2
}
